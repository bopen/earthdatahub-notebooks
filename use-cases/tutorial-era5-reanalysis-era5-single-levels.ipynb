{
 "cells": [
  {
   "cell_type": "markdown",
   "id": "45c4009e-b179-41ba-80a9-72d3f495a9a2",
   "metadata": {},
   "source": [
    "# How to work with ERA5 single levels on Earth Data Hub\n",
    "### Climatological analysis of temperature in Germany"
   ]
  },
  {
   "cell_type": "markdown",
   "id": "8a6d3800-0834-40cc-af79-92af996a2e3a",
   "metadata": {
    "execution": {
     "iopub.execute_input": "2024-01-05T16:27:30.942568Z",
     "iopub.status.busy": "2024-01-05T16:27:30.941820Z",
     "iopub.status.idle": "2024-01-05T16:27:30.953114Z",
     "shell.execute_reply": "2024-01-05T16:27:30.950996Z",
     "shell.execute_reply.started": "2024-01-05T16:27:30.942515Z"
    }
   },
   "source": [
    "***\n",
    "This notebook will provide you guidance on how to access and use the `reanalysis-era5-single-levels.zarr` datset on Earth Data Hub.\n",
    "\n",
    "The first goal is to compute the 2 metre temperature anomaly for the month of October 2023, in the Germany area, against the 1981-2010 reference period. \n",
    "\n",
    "The second goal is to compute the 2 metre temperature climatology (monthly means and standard deviations) in Berlin for the same reference period and compare it with the monthly averages of 2023.\n",
    "***\n",
    "\n",
    "## What you will learn:\n",
    "\n",
    "* how to access and preview the dataset\n",
    "* select and reduce the data\n",
    "* plot the results"
   ]
  },
  {
   "cell_type": "markdown",
   "id": "e0ab81f1-8c8f-4b32-b26e-e1e121b231a0",
   "metadata": {
    "execution": {
     "iopub.execute_input": "2024-01-08T18:02:14.626875Z",
     "iopub.status.busy": "2024-01-08T18:02:14.608970Z",
     "iopub.status.idle": "2024-01-08T18:02:14.662440Z",
     "shell.execute_reply": "2024-01-08T18:02:14.644714Z",
     "shell.execute_reply.started": "2024-01-08T18:02:14.626767Z"
    }
   },
   "source": [
    "## Data access and preview\n",
    "***\n",
    "\n",
    "Xarray and Dask work together following a lazy principle. This means when you access and manipulate a Zarr store the data is in not immediately downloaded and loaded in memory. Instead, Dask constructs a task graph that represents the operations to be performed. A smart user will reduce the amount of data that needs to be downloaded before the computation takes place (e.g., when the `.compute()` or `.plot()` methods are called).\n",
    "\n",
    "To preview the data, only the dataset metadata must be downloaded. Xarray does this automatically:\n",
    "\n",
    "***"
   ]
  },
  {
   "cell_type": "code",
   "execution_count": null,
   "id": "1813f28e-0200-4dc8-bfa1-360de371e1d2",
   "metadata": {},
   "outputs": [],
   "source": [
    "import xarray as xr\n",
    "\n",
    "# your `~/.netrc` file MUST contain your credentials for earthdatahub.com\n",
    "#\n",
    "# machine earthdatahub.com\n",
    "#   login {your_username}\n",
    "#   password {your_password}\n",
    "\n",
    "ds = xr.open_dataset(\n",
    "    \"https://earthdatahub.com/stores/ecmwf-era5-single-levels/reanalysis-era5-single-levels.zarr\",\n",
    "    chunks={},\n",
    "    engine=\"zarr\",\n",
    "    storage_options={\"client_kwargs\": {\"trust_env\": True}},\n",
    ")\n",
    "ds"
   ]
  },
  {
   "cell_type": "markdown",
   "id": "47a86e43-8fd4-45d6-8562-ef3dde4e0f3a",
   "metadata": {},
   "source": [
    "## Working with data\n",
    "\n",
    "Datasets on EDH are typically very large and remotely hosted. Typical use imply a selection of the data followed by one or more reduction steps to be performed in a local or distributed Dask environment. \n",
    "\n",
    "The structure of a workflow that uses EDH data looks like this:\n",
    "1. data selection\n",
    "2. (optional) data reduction\n",
    "3. (optional) visualization"
   ]
  },
  {
   "cell_type": "markdown",
   "id": "c758022a-ed70-44d3-8e55-8e202149ddbb",
   "metadata": {},
   "source": [
    "## 2 metre temperature: average October 2023 in Germany"
   ]
  },
  {
   "cell_type": "markdown",
   "id": "37a66374-61b0-4253-8a97-1f3b80231f3b",
   "metadata": {},
   "source": [
    "### 1. Data selection\n",
    "\n",
    "First, we perform a geographical selection corresponding to the Germany area. This greatly reduces the amount of data that will be downloaded from EDH. Also, we convert the temperature to `°C`."
   ]
  },
  {
   "cell_type": "code",
   "execution_count": null,
   "id": "afd7472f-7b61-4ab1-bbd7-20f018e9c611",
   "metadata": {
    "scrolled": true
   },
   "outputs": [],
   "source": [
    "t2m = ds.t2m.astype(\"float32\") - 273.15\n",
    "t2m.attrs[\"units\"] = \"C\"\n",
    "t2m_germany_area = t2m.sel(**{\"latitude\": slice(55, 47), \"longitude\": slice(5, 16)})\n",
    "t2m_germany_area"
   ]
  },
  {
   "cell_type": "markdown",
   "id": "92912551-2146-4104-8c60-8898a5db8fb8",
   "metadata": {
    "execution": {
     "iopub.execute_input": "2024-01-12T16:15:36.087023Z",
     "iopub.status.busy": "2024-01-12T16:15:36.085688Z",
     "iopub.status.idle": "2024-01-12T16:15:36.103549Z",
     "shell.execute_reply": "2024-01-12T16:15:36.100839Z",
     "shell.execute_reply.started": "2024-01-12T16:15:36.086965Z"
    }
   },
   "source": [
    "!NB: At this point, no data has been downloaded yet, nor loaded in memory.\n",
    "\n",
    "Second, we further select the October 2023 month. This is, again, a lazy operation:"
   ]
  },
  {
   "cell_type": "code",
   "execution_count": null,
   "id": "d5c84107-e206-4b19-8067-14d49010b841",
   "metadata": {},
   "outputs": [],
   "source": [
    "t2m_germany_area_october_2023 = t2m_germany_area.sel(valid_time=\"2023-10\")\n",
    "t2m_germany_area_october_2023"
   ]
  },
  {
   "cell_type": "markdown",
   "id": "0d3e24c3-1c72-44a4-9f96-c708281a939e",
   "metadata": {},
   "source": [
    "At this point the selection is small enough to call `.compute()` on it. This will trigger the download of data from EDH and load it in memory. \n",
    "\n",
    "We can measure the time it takes:"
   ]
  },
  {
   "cell_type": "code",
   "execution_count": null,
   "id": "d825f6c6-2da8-430e-8f11-8d03a0d2a7a4",
   "metadata": {},
   "outputs": [],
   "source": [
    "%time\n",
    "\n",
    "t2m_germany_area_october_2023 = t2m_germany_area_october_2023.compute()"
   ]
  },
  {
   "cell_type": "markdown",
   "id": "33a1f7bd-e98a-46d7-a9f0-4f4abe4913eb",
   "metadata": {},
   "source": [
    "The data was very small. This didn't take long!"
   ]
  },
  {
   "cell_type": "markdown",
   "id": "4b0d0292-9a62-47f4-8a6a-2acdd57fa9c2",
   "metadata": {
    "execution": {
     "iopub.execute_input": "2024-01-08T12:06:15.865654Z",
     "iopub.status.busy": "2024-01-08T12:06:15.865172Z",
     "iopub.status.idle": "2024-01-08T12:06:15.922646Z",
     "shell.execute_reply": "2024-01-08T12:06:15.913684Z",
     "shell.execute_reply.started": "2024-01-08T12:06:15.865616Z"
    }
   },
   "source": [
    "### 2. Data reduction\n",
    "\n",
    "Now that the data is loaded in memory, we can easily compute the october 2023 monthly mean:"
   ]
  },
  {
   "cell_type": "code",
   "execution_count": null,
   "id": "dad2b7ff-88b6-40d5-bba3-c559e58ecdbf",
   "metadata": {},
   "outputs": [],
   "source": [
    "t2m_germany_area_october_2023_monthly_mean = t2m_germany_area_october_2023.mean(dim=\"valid_time\")\n",
    "t2m_germany_area_october_2023_monthly_mean"
   ]
  },
  {
   "cell_type": "markdown",
   "id": "52aa192a-e7ca-46c2-8b36-18ef9d55b335",
   "metadata": {},
   "source": [
    "### 3. Visualization\n",
    "Finally, we can plot the october 2023 montly mean on a map:"
   ]
  },
  {
   "cell_type": "code",
   "execution_count": null,
   "id": "e2f79322-8219-4b51-ba56-d37eb5028a44",
   "metadata": {},
   "outputs": [],
   "source": [
    "import display\n",
    "import matplotlib.pyplot as plt"
   ]
  },
  {
   "cell_type": "code",
   "execution_count": null,
   "id": "92b515ff-0820-4a92-b806-35c58235dab2",
   "metadata": {},
   "outputs": [],
   "source": [
    "display.map(t2m_germany_area_october_2023_monthly_mean, vmax=None, cmap=\"YlOrRd\", title=\"Mean Surface Temperature, Oct 2023\")"
   ]
  },
  {
   "cell_type": "markdown",
   "id": "048c92cb-2e7b-4b21-879b-bdb5f949a186",
   "metadata": {},
   "source": [
    "## 2 metre temperature: October 2023 anomaly in Germany\n",
    "\n",
    "Following the above schema we can compute the 2 metre temperature anomaly for the month of October 2023 against the 1981-2010 reference period, once again in Germany.\n",
    "\n",
    "We fistly select the relevant months in the reference period:"
   ]
  },
  {
   "cell_type": "code",
   "execution_count": null,
   "id": "90c55dba-1e84-40e1-91aa-5199fa298d06",
   "metadata": {
    "scrolled": true
   },
   "outputs": [],
   "source": [
    "t2m_germany_area_octobers_1981_2010 = t2m_germany_area.sel(valid_time=t2m_germany_area[\"valid_time.month\"] == 10).sel(valid_time=slice(\"1981\", \"2010\"))\n",
    "t2m_germany_area_octobers_1981_2010"
   ]
  },
  {
   "cell_type": "markdown",
   "id": "18d731ef-4bea-4468-b54f-6e53c53945da",
   "metadata": {},
   "source": [
    "This is small enought to be computed in reasonable time:"
   ]
  },
  {
   "cell_type": "code",
   "execution_count": null,
   "id": "cb3dd05a-68ed-4a43-be07-4e98f5798c8b",
   "metadata": {},
   "outputs": [],
   "source": [
    "%%time\n",
    "\n",
    "t2m_germany_area_octobers_1981_2010 = t2m_germany_area_octobers_1981_2010.compute()"
   ]
  },
  {
   "cell_type": "markdown",
   "id": "26857500-7008-4449-a9c0-44b5352c7cc6",
   "metadata": {},
   "source": [
    "Now that the data is loaded in memory we can esily compute the 1981-2010 octobers mean:"
   ]
  },
  {
   "cell_type": "code",
   "execution_count": null,
   "id": "260e9ed8-60a5-4c74-b3f7-bf62597f92c4",
   "metadata": {},
   "outputs": [],
   "source": [
    "t2m_germany_area_octobers_1981_2010_mean = t2m_germany_area_octobers_1981_2010.mean(dim=\"valid_time\")"
   ]
  },
  {
   "cell_type": "markdown",
   "id": "19393deb-97e5-4c36-a8cc-2cc7da841b9c",
   "metadata": {},
   "source": [
    "And finally the anomaly:"
   ]
  },
  {
   "cell_type": "code",
   "execution_count": null,
   "id": "673ddbe7-d3af-4d93-815b-0f06ef5ba447",
   "metadata": {},
   "outputs": [],
   "source": [
    "anomaly = t2m_germany_area_october_2023_monthly_mean - t2m_germany_area_octobers_1981_2010_mean\n",
    "anomaly"
   ]
  },
  {
   "cell_type": "markdown",
   "id": "07ae2b4a-77f4-4cbe-ad71-5338d9fe4e65",
   "metadata": {},
   "source": [
    "We can plot the anomaly on a map:"
   ]
  },
  {
   "cell_type": "code",
   "execution_count": null,
   "id": "c798f9af-65af-40c3-be38-4566fc342706",
   "metadata": {},
   "outputs": [],
   "source": [
    "display.map(\n",
    "    anomaly,\n",
    "    vmax=None, \n",
    "    cmap=\"YlOrRd\", \n",
    "    title=\"Mean Surface Temperature anomaly (ref 1981-2010), Oct 2013\"\n",
    ")"
   ]
  },
  {
   "cell_type": "markdown",
   "id": "d4354ad5-fd8f-4687-b9c1-67475164c4fd",
   "metadata": {},
   "source": [
    "## 1981-2010 climatology vs 2023 montly mean"
   ]
  },
  {
   "cell_type": "markdown",
   "id": "fbb2570e-0a52-4495-9ba4-709dfb7c1258",
   "metadata": {},
   "source": [
    "We will now compute the 2 metre temperature climatology (montly mean and standard deviation) in Berlin, over the reference period 1981-2010, and compare it with the 2023 monthly means.\n",
    "\n",
    "We first select the closet data to Berlin:"
   ]
  },
  {
   "cell_type": "code",
   "execution_count": null,
   "id": "d803a1ce-ef64-42e2-81bb-e66fb242a035",
   "metadata": {},
   "outputs": [],
   "source": [
    "%%time\n",
    "\n",
    "t2m_Berlin = t2m.sel(**{\"latitude\": 52.5, \"longitude\": 13.4}, method=\"nearest\")\n",
    "t2m_Berlin"
   ]
  },
  {
   "cell_type": "markdown",
   "id": "666702b5-b9bb-4ca4-a7f4-b3b5c0053c3e",
   "metadata": {},
   "source": [
    "This is already small enought to be computed:"
   ]
  },
  {
   "cell_type": "code",
   "execution_count": null,
   "id": "dfe4d12a-523a-486a-8ab0-8e3967898790",
   "metadata": {},
   "outputs": [],
   "source": [
    "%%time\n",
    "\n",
    "t2m_Berlin = t2m_Berlin.compute()"
   ]
  },
  {
   "cell_type": "markdown",
   "id": "d42bc337-5311-4076-9cbe-185184657623",
   "metadata": {},
   "source": [
    "Now that the data is loaded in memory we can easily compute the climatology for the reference period 1981-2010:"
   ]
  },
  {
   "cell_type": "code",
   "execution_count": null,
   "id": "e6789d3c-25ce-4c2b-993b-cb12dbcad19c",
   "metadata": {},
   "outputs": [],
   "source": [
    "t2m_Berlin_climatology_mean = t2m_Berlin.sel(valid_time=slice(\"1981\", \"2010\")).groupby(\"valid_time.month\").mean(dim=\"valid_time\")\n",
    "t2m_Berlin_climatology_std = t2m_Berlin.sel(valid_time=slice(\"1981\", \"2010\")).groupby(\"valid_time.month\").std(dim=\"valid_time\")"
   ]
  },
  {
   "cell_type": "markdown",
   "id": "de1cc9f8-c8c6-4fd0-9f0c-047a49ac951a",
   "metadata": {},
   "source": [
    "We also compute the  monthly means for the year 2023:"
   ]
  },
  {
   "cell_type": "code",
   "execution_count": null,
   "id": "861f10cd-0d93-42b9-956e-4e73c4958a19",
   "metadata": {},
   "outputs": [],
   "source": [
    "t2m_Berlin_2023_monthly_means = t2m_Berlin.sel(valid_time=\"2023\").resample(valid_time=\"1M\").mean(dim=\"valid_time\")\n",
    "t2m_Berlin_2023_monthly_means"
   ]
  },
  {
   "cell_type": "markdown",
   "id": "3bceb338-0a99-4f26-b110-e2a4e589d2b1",
   "metadata": {},
   "source": [
    "We can finally plot the climatology in Berlin for the 1981-2010 refrence period against the 2023 montly means:"
   ]
  },
  {
   "cell_type": "code",
   "execution_count": null,
   "id": "6605298a-341c-477c-9f96-465999f78f3f",
   "metadata": {},
   "outputs": [],
   "source": [
    "plt.figure(figsize=(10, 5))\n",
    "t2m_Berlin_climatology_mean.plot(label=\"Mean\", color=\"#3498db\")\n",
    "plt.errorbar(\n",
    "    t2m_Berlin_climatology_mean.month, \n",
    "    t2m_Berlin_climatology_mean, \n",
    "    yerr=t2m_Berlin_climatology_std, \n",
    "    fmt=\"o\", \n",
    "    label=\"Standard Deviation\",\n",
    "    color=\"#a9a9a9\"\n",
    ")\n",
    "for month in range (1, 11):\n",
    "    t2m_point = t2m_Berlin_2023_monthly_means.sel(valid_time=t2m_Berlin_2023_monthly_means[\"valid_time.month\"]==month)\n",
    "    label = None\n",
    "    if month == 1:\n",
    "        label = \"2023\"\n",
    "    plt.scatter(month, t2m_point, color=\"#ff6600\", label=label)\n",
    "plt.title(\"Surface Temperature climatology in Berlin (DE), 1981-2010\")\n",
    "plt.xticks(t2m_Berlin_climatology_mean.month)\n",
    "plt.xlabel(\"Month\")\n",
    "plt.ylabel(\"Surface Temperature [C]\")\n",
    "plt.legend()\n",
    "plt.grid(alpha=0.3)\n",
    "plt.show()"
   ]
  },
  {
   "cell_type": "code",
   "execution_count": null,
   "id": "68e82fd2-2282-4509-8206-18631ee1bfd0",
   "metadata": {},
   "outputs": [],
   "source": []
  }
 ],
 "metadata": {
  "kernelspec": {
   "display_name": "Python 3 (ipykernel)",
   "language": "python",
   "name": "python3"
  },
  "language_info": {
   "codemirror_mode": {
    "name": "ipython",
    "version": 3
   },
   "file_extension": ".py",
   "mimetype": "text/x-python",
   "name": "python",
   "nbconvert_exporter": "python",
   "pygments_lexer": "ipython3",
   "version": "3.11.7"
  }
 },
 "nbformat": 4,
 "nbformat_minor": 5
}
