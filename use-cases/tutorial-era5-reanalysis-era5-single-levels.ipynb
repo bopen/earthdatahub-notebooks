{
 "cells": [
  {
   "cell_type": "markdown",
   "id": "45c4009e-b179-41ba-80a9-72d3f495a9a2",
   "metadata": {},
   "source": [
    "# ERA5 reanalysis on single levels on Earth Data Hub"
   ]
  },
  {
   "cell_type": "markdown",
   "id": "8a6d3800-0834-40cc-af79-92af996a2e3a",
   "metadata": {
    "execution": {
     "iopub.execute_input": "2024-01-05T16:27:30.942568Z",
     "iopub.status.busy": "2024-01-05T16:27:30.941820Z",
     "iopub.status.idle": "2024-01-05T16:27:30.953114Z",
     "shell.execute_reply": "2024-01-05T16:27:30.950996Z",
     "shell.execute_reply.started": "2024-01-05T16:27:30.942515Z"
    }
   },
   "source": [
    "***\n",
    "This notebook will provide you guidance on how to access and use the reanalysis-era5-single-levels.zarr datset on Earth Data Hub.\n",
    "\n",
    "The first goal is to compute the 2 metre temperature (t2m) anomaly for the month of October 2023, in the Germany area, against the 1981-2010 reference period. \n",
    "\n",
    "The second goal is to compute the t2m climatology (monthly means and standard deviations) in Berlin for the same reference period and compare it with the monthly averages of 2023.\n",
    "***\n",
    "\n",
    "## Key points in this notebook:\n",
    "\n",
    "* import the necessary dependencies\n",
    "* declare workflow parameters\n",
    "* preview the data\n",
    "* select and reduce the data\n",
    "* plot the results"
   ]
  },
  {
   "cell_type": "markdown",
   "id": "ef627954-1ffb-4e24-a298-b6110f9e0805",
   "metadata": {},
   "source": [
    "### Import the necessary dependences\n",
    "***\n"
   ]
  },
  {
   "cell_type": "code",
   "execution_count": null,
   "id": "3c8848ad-7f4f-4ee6-a066-8eb30716cbdf",
   "metadata": {},
   "outputs": [],
   "source": [
    "import display\n",
    "import matplotlib.pyplot as plt\n",
    "import xarray as xr"
   ]
  },
  {
   "cell_type": "markdown",
   "id": "0fea43fd-a4e8-4b8c-8c7f-e8f09638219b",
   "metadata": {
    "execution": {
     "iopub.execute_input": "2023-12-21T14:34:04.909013Z",
     "iopub.status.busy": "2023-12-21T14:34:04.908408Z",
     "iopub.status.idle": "2023-12-21T14:34:04.915921Z",
     "shell.execute_reply": "2023-12-21T14:34:04.914430Z",
     "shell.execute_reply.started": "2023-12-21T14:34:04.908962Z"
    }
   },
   "source": [
    "### Declare workflow parameters\n",
    "***\n"
   ]
  },
  {
   "cell_type": "code",
   "execution_count": null,
   "id": "a7af1803-5d0e-4e83-9978-054c1a24010e",
   "metadata": {},
   "outputs": [],
   "source": [
    "AREA = {\"latitude\": slice(55, 47), \"longitude\": slice(5, 16)}\n",
    "DATASET = \"s3://ecmwf-era5-single-levels/reanalysis-era5-single-levels.zarr\"\n",
    "LOCATION = {\"latitude\": 52.5, \"longitude\": 13.4}\n",
    "REFERENCE_PERIOD = slice(\"1981\", \"2010\")\n",
    "MONTH = \"2023-10\""
   ]
  },
  {
   "cell_type": "markdown",
   "id": "e0ab81f1-8c8f-4b32-b26e-e1e121b231a0",
   "metadata": {
    "execution": {
     "iopub.execute_input": "2024-01-08T18:02:14.626875Z",
     "iopub.status.busy": "2024-01-08T18:02:14.608970Z",
     "iopub.status.idle": "2024-01-08T18:02:14.662440Z",
     "shell.execute_reply": "2024-01-08T18:02:14.644714Z",
     "shell.execute_reply.started": "2024-01-08T18:02:14.626767Z"
    }
   },
   "source": [
    "### Preview, select, reduce and plot the data\n",
    "***\n",
    "The typical structure of a workflow that uses EDH data looks like this:\n",
    "1. data preview\n",
    "2. data selection\n",
    "3. data reduction\n",
    "4. plot\n",
    "\n",
    "While allowing the user to preview the data and plan the operations to perform on it, these steps reduce the amount of data that will be downloaded and processed when the computation is triggered.\n",
    "***"
   ]
  },
  {
   "cell_type": "markdown",
   "id": "595557a5-f5d1-4141-99fc-de0c26ebf4f4",
   "metadata": {},
   "source": [
    "#### 1. Data preview\n",
    "Xarray and Dask work together following a lazy principle. This means operations are not performed when called, but rather when actually needed. For instance, the computation is triggered when the `.compute()` or `.plot()` methods are called. \n",
    "\n",
    "To preview the data, only the dataset metadata must be downloaded. Xarray does this automatically:\n"
   ]
  },
  {
   "cell_type": "code",
   "execution_count": null,
   "id": "1813f28e-0200-4dc8-bfa1-360de371e1d2",
   "metadata": {},
   "outputs": [],
   "source": [
    "ds = xr.open_dataset(DATASET, chunks={}, engine=\"zarr\").astype(\"float32\")\n",
    "ds"
   ]
  },
  {
   "cell_type": "markdown",
   "id": "37a66374-61b0-4253-8a97-1f3b80231f3b",
   "metadata": {},
   "source": [
    "#### 2. Data selection\n",
    "\n",
    "To reduce the amount of downloaded data we perform a geographical selection corresponding to the Germany AREA. Before that, we also convert the temperature to °C:"
   ]
  },
  {
   "cell_type": "code",
   "execution_count": null,
   "id": "afd7472f-7b61-4ab1-bbd7-20f018e9c611",
   "metadata": {
    "scrolled": true
   },
   "outputs": [],
   "source": [
    "t2m = ds.t2m - 273.15\n",
    "t2m.attrs[\"units\"] = \"C\"\n",
    "t2m_area = t2m.sel(**AREA)\n",
    "t2m_area"
   ]
  },
  {
   "cell_type": "markdown",
   "id": "c758022a-ed70-44d3-8e55-8e202149ddbb",
   "metadata": {},
   "source": [
    "#### Average October 2023 2 metre temperature in Germany"
   ]
  },
  {
   "cell_type": "markdown",
   "id": "95f8a7c8-d287-42c8-bda6-bfc64f044d45",
   "metadata": {},
   "source": [
    "From the dataset above, we further select October 2023"
   ]
  },
  {
   "cell_type": "code",
   "execution_count": null,
   "id": "d5c84107-e206-4b19-8067-14d49010b841",
   "metadata": {},
   "outputs": [],
   "source": [
    "t2m_area_month = t2m_area.sel(valid_time=\"2023-10\")\n",
    "t2m_area_month"
   ]
  },
  {
   "cell_type": "markdown",
   "id": "4b0d0292-9a62-47f4-8a6a-2acdd57fa9c2",
   "metadata": {
    "execution": {
     "iopub.execute_input": "2024-01-08T12:06:15.865654Z",
     "iopub.status.busy": "2024-01-08T12:06:15.865172Z",
     "iopub.status.idle": "2024-01-08T12:06:15.922646Z",
     "shell.execute_reply": "2024-01-08T12:06:15.913684Z",
     "shell.execute_reply.started": "2024-01-08T12:06:15.865616Z"
    }
   },
   "source": [
    "#### 3. Data reduction\n",
    "\n",
    "Now we can then compute the monthly mean, effectively reducing the data to a bi-dimensional shape:"
   ]
  },
  {
   "cell_type": "code",
   "execution_count": null,
   "id": "dad2b7ff-88b6-40d5-bba3-c559e58ecdbf",
   "metadata": {},
   "outputs": [],
   "source": [
    "t2m_area_month_mean = t2m_area_month.mean(dim=\"valid_time\")\n",
    "t2m_area_month_mean"
   ]
  },
  {
   "cell_type": "markdown",
   "id": "2ffb0817-8b0d-43c7-89c2-79917d468d75",
   "metadata": {},
   "source": [
    "***\n",
    "! Remember, the computation is truly performed only when the `.compute()` method is called.\n",
    "***\n"
   ]
  },
  {
   "cell_type": "code",
   "execution_count": null,
   "id": "dc4c6a97-3fae-47f5-b92f-6f17c58b69d5",
   "metadata": {},
   "outputs": [],
   "source": [
    "%%time\n",
    "%%capture\n",
    "\n",
    "t2m_area_month_mean = t2m_area_month_mean.compute()"
   ]
  },
  {
   "cell_type": "markdown",
   "id": "52aa192a-e7ca-46c2-8b36-18ef9d55b335",
   "metadata": {},
   "source": [
    "#### 4. Plot\n",
    "Finally, we can plot the results on a map:"
   ]
  },
  {
   "cell_type": "code",
   "execution_count": null,
   "id": "92b515ff-0820-4a92-b806-35c58235dab2",
   "metadata": {},
   "outputs": [],
   "source": [
    "display.map(t2m_area_month_mean, vmax=None, cmap=\"YlOrRd\", title=\"Mean Surface Temperature, Oct 2023\")"
   ]
  },
  {
   "cell_type": "markdown",
   "id": "048c92cb-2e7b-4b21-879b-bdb5f949a186",
   "metadata": {},
   "source": [
    "#### October 2023 anomaly"
   ]
  },
  {
   "cell_type": "markdown",
   "id": "e28626e1-1b0d-41b2-8e04-33f843d3ddcc",
   "metadata": {},
   "source": [
    "Following the above schema of first selecting and then reducing the data, we can easily compute the average October 2 metre temperature for the reference period.\n",
    "\n",
    "Again, we only consider the Germany area."
   ]
  },
  {
   "cell_type": "code",
   "execution_count": null,
   "id": "90c55dba-1e84-40e1-91aa-5199fa298d06",
   "metadata": {
    "scrolled": true
   },
   "outputs": [],
   "source": [
    "%%time\n",
    "\n",
    "t2m_area_month_mean_ref = t2m_area.sel(valid_time=t2m_area[\"valid_time.month\"] == 10).sel(valid_time=REFERENCE_PERIOD).mean(dim=\"valid_time\").compute()\n",
    "t2m_area_month_mean_ref"
   ]
  },
  {
   "cell_type": "markdown",
   "id": "3d2a5983-9924-46a9-aadf-81f9a3a16cb0",
   "metadata": {},
   "source": [
    "After that, the anomaly computation is straightforward:"
   ]
  },
  {
   "cell_type": "code",
   "execution_count": null,
   "id": "673ddbe7-d3af-4d93-815b-0f06ef5ba447",
   "metadata": {},
   "outputs": [],
   "source": [
    "anomaly = t2m_area_month_mean - t2m_area_month_mean_ref\n",
    "anomaly"
   ]
  },
  {
   "cell_type": "markdown",
   "id": "07ae2b4a-77f4-4cbe-ad71-5338d9fe4e65",
   "metadata": {},
   "source": [
    "We can plot it on a map:"
   ]
  },
  {
   "cell_type": "code",
   "execution_count": null,
   "id": "c798f9af-65af-40c3-be38-4566fc342706",
   "metadata": {},
   "outputs": [],
   "source": [
    "display.map(\n",
    "    anomaly,\n",
    "    vmax=None, \n",
    "    cmap=\"YlOrRd\", \n",
    "    title=\"Mean Surface Temperature anomaly (ref 1981-2010), Oct 2013\"\n",
    ")"
   ]
  },
  {
   "cell_type": "markdown",
   "id": "d4354ad5-fd8f-4687-b9c1-67475164c4fd",
   "metadata": {},
   "source": [
    "#### 1981-2010 climatology vs 2023 montly mean"
   ]
  },
  {
   "cell_type": "markdown",
   "id": "fbb2570e-0a52-4495-9ba4-709dfb7c1258",
   "metadata": {},
   "source": [
    "We will now compute the 2 metre temperature climatology (montly mean and standard deviation) in Berlin, over the reference period, and compare it with the 2023 monthly means.\n",
    "\n",
    "We first select the closet data to Berlin:"
   ]
  },
  {
   "cell_type": "code",
   "execution_count": null,
   "id": "d803a1ce-ef64-42e2-81bb-e66fb242a035",
   "metadata": {
    "scrolled": true
   },
   "outputs": [],
   "source": [
    "%%time\n",
    "\n",
    "t2m_loc = t2m.sel(**LOCATION, method=\"nearest\")\n",
    "t2m_loc"
   ]
  },
  {
   "cell_type": "markdown",
   "id": "d42bc337-5311-4076-9cbe-185184657623",
   "metadata": {},
   "source": [
    "We then compute the climatology for the reference period 1981-2010:"
   ]
  },
  {
   "cell_type": "code",
   "execution_count": null,
   "id": "e6789d3c-25ce-4c2b-993b-cb12dbcad19c",
   "metadata": {},
   "outputs": [],
   "source": [
    "t2m_climatology_mean = t2m_loc.sel(valid_time=REFERENCE_PERIOD).groupby(\"valid_time.month\").mean(dim=\"valid_time\").compute()\n",
    "t2m_climatology_std = t2m_loc.sel(valid_time=REFERENCE_PERIOD).groupby(\"valid_time.month\").std(dim=\"valid_time\").compute()"
   ]
  },
  {
   "cell_type": "markdown",
   "id": "de1cc9f8-c8c6-4fd0-9f0c-047a49ac951a",
   "metadata": {},
   "source": [
    "We also compute the  monthly means for the year 2023:"
   ]
  },
  {
   "cell_type": "code",
   "execution_count": null,
   "id": "861f10cd-0d93-42b9-956e-4e73c4958a19",
   "metadata": {},
   "outputs": [],
   "source": [
    "t2m_monthly_mean = t2m_loc.sel(valid_time=\"2023\").resample(valid_time=\"1M\").mean(dim=\"valid_time\").compute()"
   ]
  },
  {
   "cell_type": "markdown",
   "id": "3bceb338-0a99-4f26-b110-e2a4e589d2b1",
   "metadata": {},
   "source": [
    "We finally plot the climatology in Berlin for the 1981-2010 refrence period against the 2023 montly means:"
   ]
  },
  {
   "cell_type": "code",
   "execution_count": null,
   "id": "6605298a-341c-477c-9f96-465999f78f3f",
   "metadata": {},
   "outputs": [],
   "source": [
    "plt.figure(figsize=(10, 5))\n",
    "t2m_climatology_mean.plot(label=\"Mean\", color=\"#3498db\")\n",
    "plt.errorbar(\n",
    "    t2m_climatology_mean.month, \n",
    "    t2m_climatology_mean, \n",
    "    yerr=t2m_climatology_std, \n",
    "    fmt=\"o\", \n",
    "    label=\"Standard Deviation\",\n",
    "    color=\"#a9a9a9\"\n",
    ")\n",
    "for month in range (1, 11):\n",
    "    t2m_point = t2m_monthly_mean.sel(valid_time=t2m_monthly_mean[\"valid_time.month\"]==month)\n",
    "    label = None\n",
    "    if month == 1:\n",
    "        label = \"2023\"\n",
    "    plt.scatter(month, t2m_point, color=\"#ff6600\", label=label)\n",
    "plt.title(\"Surface Temperature climatology in Berlin (DE), 1981-2010\")\n",
    "plt.xticks(t2m_climatology_mean.month)\n",
    "plt.xlabel(\"Month\")\n",
    "plt.ylabel(\"Surface Temperature [C]\")\n",
    "plt.legend()\n",
    "plt.grid(alpha=0.3)\n",
    "plt.show()"
   ]
  }
 ],
 "metadata": {
  "kernelspec": {
   "display_name": "Python 3 (ipykernel)",
   "language": "python",
   "name": "python3"
  },
  "language_info": {
   "codemirror_mode": {
    "name": "ipython",
    "version": 3
   },
   "file_extension": ".py",
   "mimetype": "text/x-python",
   "name": "python",
   "nbconvert_exporter": "python",
   "pygments_lexer": "ipython3",
   "version": "3.11.7"
  }
 },
 "nbformat": 4,
 "nbformat_minor": 5
}
