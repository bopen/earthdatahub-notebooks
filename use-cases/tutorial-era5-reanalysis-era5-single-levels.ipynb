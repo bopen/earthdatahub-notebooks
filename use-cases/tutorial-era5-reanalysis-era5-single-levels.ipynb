{
 "cells": [
  {
   "cell_type": "markdown",
   "id": "c251017e-bcf7-4319-9ee1-75c626e53f2b",
   "metadata": {},
   "source": [
    "First, let's import all the necessary dependencies."
   ]
  },
  {
   "cell_type": "code",
   "execution_count": null,
   "id": "3c8848ad-7f4f-4ee6-a066-8eb30716cbdf",
   "metadata": {},
   "outputs": [],
   "source": [
    "import display\n",
    "import matplotlib.pyplot as plt\n",
    "import xarray as xr"
   ]
  },
  {
   "cell_type": "markdown",
   "id": "0fea43fd-a4e8-4b8c-8c7f-e8f09638219b",
   "metadata": {
    "execution": {
     "iopub.execute_input": "2023-12-21T14:34:04.909013Z",
     "iopub.status.busy": "2023-12-21T14:34:04.908408Z",
     "iopub.status.idle": "2023-12-21T14:34:04.915921Z",
     "shell.execute_reply": "2023-12-21T14:34:04.914430Z",
     "shell.execute_reply.started": "2023-12-21T14:34:04.908962Z"
    }
   },
   "source": [
    "Let's define some configuration variables."
   ]
  },
  {
   "cell_type": "code",
   "execution_count": null,
   "id": "a7af1803-5d0e-4e83-9978-054c1a24010e",
   "metadata": {},
   "outputs": [],
   "source": [
    "AREA = {\"latitude\": slice(55, 47), \"longitude\": slice(5, 16)}\n",
    "DATASET = \"s3://ecmwf-era5-single-levels/reanalysis-era5-single-levels.zarr\"\n",
    "LOCATION = {\"latitude\": 52.5, \"longitude\": 13.4}\n",
    "REFERENCE_PERIOD = slice(\"1981\", \"2010\")\n",
    "MONTH = \"2023-10\""
   ]
  },
  {
   "cell_type": "markdown",
   "id": "595557a5-f5d1-4141-99fc-de0c26ebf4f4",
   "metadata": {},
   "source": [
    "In the following lines we:\n",
    "- establish a connection with the remote dataset\n",
    "- show its metadata\n",
    "\n",
    "It is worth noticing that, in the first operation, only the information necessary to gather the dataset's metadata (e.g. its sizes, dimensions, variables' type and attributes) is actually downloaded from its remote location to the local machine."
   ]
  },
  {
   "cell_type": "code",
   "execution_count": null,
   "id": "1813f28e-0200-4dc8-bfa1-360de371e1d2",
   "metadata": {},
   "outputs": [],
   "source": [
    "ds = xr.open_dataset(DATASET, chunks={}, engine=\"zarr\").astype(\"float32\")\n",
    "ds"
   ]
  },
  {
   "cell_type": "markdown",
   "id": "0c6d6138-a431-42ec-8bb9-063e029c471c",
   "metadata": {},
   "source": [
    "Here we want to compute the average October 2023 temperature on an area comprising the entire territory of Germany. \n",
    "\n",
    "Note that the operations prescribed in the following lines are actually performed, and the resulting data downloaded, only when the `.compute()` method is met. For this reason, as a general rule to maximize efficiency, the `compute()` method should be placed after an operation which significantly reduce the amount of data, such as after selection and reduction operations."
   ]
  },
  {
   "cell_type": "code",
   "execution_count": null,
   "id": "afd7472f-7b61-4ab1-bbd7-20f018e9c611",
   "metadata": {},
   "outputs": [],
   "source": [
    "t2m = ds.t2m - 273.15\n",
    "t2m.attrs[\"units\"] = \"C\"\n",
    "t2m_area = t2m.sel(**AREA)\n",
    "t2m_area_month = t2m_area.sel(valid_time=\"2023-10\")\n",
    "t2m_area_month_mean = t2m_area_month.mean(dim=\"valid_time\")\n",
    "t2m_area_month_mean"
   ]
  },
  {
   "cell_type": "code",
   "execution_count": null,
   "id": "dc4c6a97-3fae-47f5-b92f-6f17c58b69d5",
   "metadata": {},
   "outputs": [],
   "source": [
    "%%time\n",
    "%%capture\n",
    "\n",
    "t2m_area_month_mean = t2m_area_month_mean.compute()"
   ]
  },
  {
   "cell_type": "markdown",
   "id": "52aa192a-e7ca-46c2-8b36-18ef9d55b335",
   "metadata": {},
   "source": [
    "Let's plot the result on a map."
   ]
  },
  {
   "cell_type": "code",
   "execution_count": null,
   "id": "92b515ff-0820-4a92-b806-35c58235dab2",
   "metadata": {},
   "outputs": [],
   "source": [
    "display.map(t2m_area_month_mean, vmax=None, cmap=\"YlOrRd\", title=\"Mean Surface Temperature, Oct 2023\")"
   ]
  },
  {
   "cell_type": "markdown",
   "id": "e28626e1-1b0d-41b2-8e04-33f843d3ddcc",
   "metadata": {},
   "source": [
    "Now, we want to compute the average October 2023 temperature anomaly on an area comprising the entire territory of Germany. \n",
    "\n",
    "The same considerations done before apply here."
   ]
  },
  {
   "cell_type": "code",
   "execution_count": null,
   "id": "1e8773e7-19f5-4d44-8e6d-d4f0dc5c4104",
   "metadata": {},
   "outputs": [],
   "source": [
    "t2m = ds.t2m - 273.15\n",
    "t2m.attrs[\"units\"] = \"C\"\n",
    "t2m_area = t2m.sel(**AREA)\n",
    "t2m_month = t2m_area.sel(valid_time=t2m_area[\"valid_time.month\"] == 10)"
   ]
  },
  {
   "cell_type": "code",
   "execution_count": null,
   "id": "7b49ca3f-8bf0-4ab7-bed3-39cf81164e90",
   "metadata": {},
   "outputs": [],
   "source": [
    "%%time\n",
    "\n",
    "t2m_month = t2m_month.compute()\n",
    "t2m_month_ref_mean = t2m_month.sel(valid_time=REFERENCE_PERIOD).mean(dim=\"valid_time\")\n",
    "t2m_month_year = t2m_area.sel(valid_time=\"2023-10\")\n",
    "t2m_month_year_mean = t2m_month_year.mean(dim=\"valid_time\").compute()\n",
    "t2m_month_year_anomaly = (t2m_month_year_mean - t2m_month_ref_mean)"
   ]
  },
  {
   "cell_type": "markdown",
   "id": "07ae2b4a-77f4-4cbe-ad71-5338d9fe4e65",
   "metadata": {},
   "source": [
    "Let's plot the results on a map."
   ]
  },
  {
   "cell_type": "code",
   "execution_count": null,
   "id": "99ecb79d-a228-405c-b88f-43d71c84bfa6",
   "metadata": {},
   "outputs": [],
   "source": [
    "display.map(\n",
    "    t2m_month_year_anomaly, \n",
    "    vmax=None, \n",
    "    cmap=\"YlOrRd\", \n",
    "    title=\"Mean Surface Temperature anomaly (ref 1981-2010), Oct 2013\"\n",
    ")"
   ]
  },
  {
   "cell_type": "markdown",
   "id": "fbb2570e-0a52-4495-9ba4-709dfb7c1258",
   "metadata": {},
   "source": [
    "Finally, we want to compute 2-metre Temperature climatology (mean and standard deviation for each month of the year) over the time range 1981-2010 in Berlin, and compare it with 2023 monthly means.\n",
    "\n",
    "The same considerations done before apply here."
   ]
  },
  {
   "cell_type": "code",
   "execution_count": null,
   "id": "d803a1ce-ef64-42e2-81bb-e66fb242a035",
   "metadata": {},
   "outputs": [],
   "source": [
    "t2m =  ds.t2m\n",
    "t2m_loc = t2m.sel(**LOCATION, method=\"nearest\")\n",
    "t2m_loc"
   ]
  },
  {
   "cell_type": "code",
   "execution_count": null,
   "id": "e6789d3c-25ce-4c2b-993b-cb12dbcad19c",
   "metadata": {},
   "outputs": [],
   "source": [
    "%%time\n",
    "\n",
    "t2m_loc = t2m_loc.compute()\n",
    "t2m_climatology_mean = t2m_loc.sel(valid_time=REFERENCE_PERIOD).groupby(\"valid_time.month\").mean(dim=\"valid_time\")\n",
    "t2m_climatology_std = t2m_loc.sel(valid_time=REFERENCE_PERIOD).groupby(\"valid_time.month\").std(dim=\"valid_time\")\n",
    "t2m_monthly_mean = t2m_loc.sel(valid_time=\"2023\").resample(valid_time=\"1M\").mean(dim=\"valid_time\")"
   ]
  },
  {
   "cell_type": "markdown",
   "id": "3bceb338-0a99-4f26-b110-e2a4e589d2b1",
   "metadata": {},
   "source": [
    "Let's plot the results."
   ]
  },
  {
   "cell_type": "code",
   "execution_count": null,
   "id": "6605298a-341c-477c-9f96-465999f78f3f",
   "metadata": {},
   "outputs": [],
   "source": [
    "plt.figure(figsize=(10, 5))\n",
    "t2m_climatology_mean.plot(label=\"Mean\", color=\"#3498db\")\n",
    "plt.errorbar(\n",
    "    t2m_climatology_mean.month, \n",
    "    t2m_climatology_mean, \n",
    "    yerr=t2m_climatology_std, \n",
    "    fmt=\"o\", \n",
    "    label=\"Standard Deviation\",\n",
    "    color=\"#a9a9a9\"\n",
    ")\n",
    "for month in range (1, 11):\n",
    "    t2m_point = t2m_monthly_mean.sel(valid_time=t2m_monthly_mean[\"valid_time.month\"]==month)\n",
    "    label = None\n",
    "    if month == 1:\n",
    "        label = \"2023\"\n",
    "    plt.scatter(month, t2m_point, color=\"#ff6600\", label=label)\n",
    "plt.title(\"Surface Temperature climatology in Berlin (DE), 1981-2010\")\n",
    "plt.xticks(t2m_climatology_mean.month)\n",
    "plt.xlabel(\"Month\")\n",
    "plt.ylabel(\"Surface Temperature [C]\")\n",
    "plt.legend()\n",
    "plt.grid(alpha=0.3)\n",
    "plt.show()"
   ]
  }
 ],
 "metadata": {
  "kernelspec": {
   "display_name": "Python 3 (ipykernel)",
   "language": "python",
   "name": "python3"
  },
  "language_info": {
   "codemirror_mode": {
    "name": "ipython",
    "version": 3
   },
   "file_extension": ".py",
   "mimetype": "text/x-python",
   "name": "python",
   "nbconvert_exporter": "python",
   "pygments_lexer": "ipython3",
   "version": "3.11.6"
  }
 },
 "nbformat": 4,
 "nbformat_minor": 5
}
