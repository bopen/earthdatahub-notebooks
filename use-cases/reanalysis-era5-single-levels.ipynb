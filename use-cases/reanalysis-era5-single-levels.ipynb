{
 "cells": [
  {
   "cell_type": "code",
   "execution_count": null,
   "id": "3c8848ad-7f4f-4ee6-a066-8eb30716cbdf",
   "metadata": {},
   "outputs": [],
   "source": [
    "# data access\n",
    "\n",
    "import xarray as xr"
   ]
  },
  {
   "cell_type": "code",
   "execution_count": null,
   "id": "9e520d13-7c00-42d1-ba40-72a74f432be8",
   "metadata": {},
   "outputs": [],
   "source": [
    "import display\n",
    "import matplotlib.pyplot as plt"
   ]
  },
  {
   "cell_type": "code",
   "execution_count": null,
   "id": "8f5050b2-a4bd-4f11-9e44-689d3639e4eb",
   "metadata": {},
   "outputs": [],
   "source": [
    "# data access configuration\n",
    "\n",
    "dataset = \"s3://ecmwf-era5-single-levels/reanalysis-era5-single-levels.zarr\""
   ]
  },
  {
   "cell_type": "code",
   "execution_count": null,
   "id": "a7af1803-5d0e-4e83-9978-054c1a24010e",
   "metadata": {},
   "outputs": [],
   "source": [
    "reference_period = slice(\"1981\", \"2010\")\n",
    "area = {\"latitude\": slice(55, 47), \"longitude\": slice(5, 16)}\n",
    "location = {\"latitude\": 52.5, \"longitude\": 13.4}"
   ]
  },
  {
   "cell_type": "code",
   "execution_count": null,
   "id": "1813f28e-0200-4dc8-bfa1-360de371e1d2",
   "metadata": {},
   "outputs": [],
   "source": [
    "ds = xr.open_dataset(dataset, chunks={}, engine=\"zarr\").astype(\"float32\")\n",
    "t2m = ds.t2m - 273.15\n",
    "t2m.attrs[\"units\"] = \"C\""
   ]
  },
  {
   "cell_type": "code",
   "execution_count": null,
   "id": "afd7472f-7b61-4ab1-bbd7-20f018e9c611",
   "metadata": {},
   "outputs": [],
   "source": [
    "%%time\n",
    "\n",
    "t2m_area = t2m.sel(**area)\n",
    "t2m_mean = t2m_area.sel(valid_time=\"2023-10\").mean(dim=\"valid_time\").compute()"
   ]
  },
  {
   "cell_type": "code",
   "execution_count": null,
   "id": "92b515ff-0820-4a92-b806-35c58235dab2",
   "metadata": {},
   "outputs": [],
   "source": [
    "display.map(t2m_mean, vmax=None, cmap=\"Reds\", title=\"Mean Surface Temperature, Oct 2023\")"
   ]
  },
  {
   "cell_type": "code",
   "execution_count": null,
   "id": "1e8773e7-19f5-4d44-8e6d-d4f0dc5c4104",
   "metadata": {},
   "outputs": [],
   "source": [
    "%%time\n",
    "\n",
    "t2m_area = t2m.sel(**area)\n",
    "t2m_ref_mean = t2m_area.sel(valid_time=t2m_area[\"valid_time.month\"] == 10).sel(valid_time=reference_period).mean(dim=\"valid_time\")\n",
    "t2m_anomaly = (t2m_area.sel(valid_time=\"2023-10\").mean(dim=\"valid_time\") - t2m_ref_mean).compute()\n",
    "t2m_anomaly"
   ]
  },
  {
   "cell_type": "code",
   "execution_count": null,
   "id": "99ecb79d-a228-405c-b88f-43d71c84bfa6",
   "metadata": {},
   "outputs": [],
   "source": [
    "display.map(t2m_anomaly, vmax=None, cmap=\"Reds\", title=\"Mean Surface Temperature anomaly (ref 1981-2010), Oct 2013\")"
   ]
  },
  {
   "cell_type": "code",
   "execution_count": null,
   "id": "d803a1ce-ef64-42e2-81bb-e66fb242a035",
   "metadata": {},
   "outputs": [],
   "source": [
    "%%time\n",
    "\n",
    "t2m_loc = t2m.sel(**location, method=\"nearest\")\n",
    "t2m_climatology_mean = t2m_loc.sel(valid_time=reference_period).groupby(\"valid_time.month\").mean(dim=\"valid_time\").compute()\n",
    "t2m_climatology_std = t2m_loc.sel(valid_time=reference_period).groupby(\"valid_time.month\").std(dim=\"valid_time\").compute()\n",
    "t2m_loc_monthly_means = t2m_loc.sel(valid_time=\"2023\").resample(valid_time=\"1M\").mean(dim=\"valid_time\").compute()"
   ]
  },
  {
   "cell_type": "code",
   "execution_count": null,
   "id": "e7d7759b-0882-45c7-8d9d-aed4635c66cd",
   "metadata": {},
   "outputs": [],
   "source": [
    "plt.figure(figsize=(10, 5))\n",
    "t2m_climatology_mean.plot(label='Mean')\n",
    "plt.errorbar(t2m_climatology_mean.month, t2m_climatology_mean, yerr=t2m_climatology_std, fmt='o', label='Standard Deviation')\n",
    "for month in range (1, 11):\n",
    "    t2m_point = t2m_loc_monthly_means.sel(valid_time=t2m_loc_monthly_means[\"valid_time.month\"]==month)\n",
    "    label = None\n",
    "    if month == 1:\n",
    "        label = \"2023\"\n",
    "    plt.scatter(month, t2m_point, color='red', label=label)\n",
    "plt.title('Surface Temperature climatology in Berlin (DE), 1981-2010')\n",
    "plt.xticks(t2m_climatology_mean.month)\n",
    "plt.xlabel('Month')\n",
    "plt.ylabel('Surface Temperature [C]')\n",
    "plt.legend()\n",
    "plt.grid(alpha=0.3)\n",
    "plt.show()"
   ]
  }
 ],
 "metadata": {
  "kernelspec": {
   "display_name": "Python 3 (ipykernel)",
   "language": "python",
   "name": "python3"
  },
  "language_info": {
   "codemirror_mode": {
    "name": "ipython",
    "version": 3
   },
   "file_extension": ".py",
   "mimetype": "text/x-python",
   "name": "python",
   "nbconvert_exporter": "python",
   "pygments_lexer": "ipython3",
   "version": "3.11.6"
  }
 },
 "nbformat": 4,
 "nbformat_minor": 5
}
