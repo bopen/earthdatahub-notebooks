{
 "cells": [
  {
   "cell_type": "markdown",
   "id": "f86a0527-9195-422d-a44f-52bfb5be41ae",
   "metadata": {},
   "source": [
    "# How to work with Climate Adaptation Digital Twin data on Earth Data Hub"
   ]
  },
  {
   "cell_type": "markdown",
   "id": "f6c2f1e3-b936-419b-ae10-aeb000082d03",
   "metadata": {
    "execution": {
     "iopub.execute_input": "2024-01-05T16:27:30.942568Z",
     "iopub.status.busy": "2024-01-05T16:27:30.941820Z",
     "iopub.status.idle": "2024-01-05T16:27:30.953114Z",
     "shell.execute_reply": "2024-01-05T16:27:30.950996Z",
     "shell.execute_reply.started": "2024-01-05T16:27:30.942515Z"
    },
    "jp-MarkdownHeadingCollapsed": true
   },
   "source": [
    "***\n",
    "This notebook will provide you guidance on how to access and use the `SSP3-7.0-IFS-NEMO-sfc-standard-v0.zarr` datset on Earth Data Hub. This is a sample dataset for the Destine Climate Adaptation Digital Twin.\n",
    "\n",
    "Our first goal is to plot the mean 2 metre temperature in January 2030 over Central Europe.\n",
    "\n",
    "Our second goal is to compute the 2 metre temperature climatology (monthly means and standard deviations) in Berlin for the 2020-2030 reference period.\n",
    "***\n",
    "\n",
    "## What you will learn:\n",
    "\n",
    "* how to access and preview the dataset\n",
    "* select and reduce the data\n",
    "* plot the results"
   ]
  },
  {
   "cell_type": "markdown",
   "id": "662cfb99-a672-46f2-8345-3840eb39e8b0",
   "metadata": {
    "execution": {
     "iopub.execute_input": "2024-01-08T18:02:14.626875Z",
     "iopub.status.busy": "2024-01-08T18:02:14.608970Z",
     "iopub.status.idle": "2024-01-08T18:02:14.662440Z",
     "shell.execute_reply": "2024-01-08T18:02:14.644714Z",
     "shell.execute_reply.started": "2024-01-08T18:02:14.626767Z"
    }
   },
   "source": [
    "## Data access and preview\n",
    "***\n",
    "\n",
    "Xarray and Dask work together following a lazy principle. This means when you access and manipulate a Zarr store the data is in not immediately downloaded and loaded in memory. Instead, Dask constructs a task graph that represents the operations to be performed. A smart user will reduce the amount of data that needs to be downloaded before the computation takes place (e.g., when the `.compute()` or `.plot()` methods are called).\n",
    "\n",
    "To preview the data, only the dataset metadata must be downloaded. Xarray does this automatically:\n",
    "\n",
    "***"
   ]
  },
  {
   "cell_type": "code",
   "execution_count": null,
   "id": "69c8b47d-f097-405b-b8e5-e1e5b4d98c99",
   "metadata": {},
   "outputs": [],
   "source": [
    "import xarray as xr\n",
    "\n",
    "# your `~/.netrc` file MUST contain your credentials for earthdatahub.com\n",
    "#\n",
    "# machine data.earthdatahub.com\n",
    "#   login {your_username}\n",
    "#   password {your_password}\n",
    "\n",
    "ds = xr.open_dataset(\n",
    "    \"https://data.earthdatahub.com/destine-climate-dt/SSP3-7.0-IFS-NEMO-sfc-standard-v0.zarr\",\n",
    "    chunks={},\n",
    "    engine=\"zarr\",\n",
    "    storage_options={\"client_kwargs\": {\"trust_env\": True}},\n",
    ")\n",
    "ds"
   ]
  },
  {
   "cell_type": "markdown",
   "id": "508e5996-704e-43be-a5a1-464a88a38177",
   "metadata": {},
   "source": [
    "## Working with data\n",
    "\n",
    "Datasets on EDH are typically very large and remotely hosted. Typical use imply a selection of the data followed by one or more reduction steps to be performed in a local or distributed Dask environment. \n",
    "\n",
    "The structure of a workflow that uses EDH data looks like this:\n",
    "1. data selection\n",
    "2. (optional) data reduction\n",
    "3. (optional) visualization"
   ]
  },
  {
   "cell_type": "markdown",
   "id": "7f4d3caf-3312-4e83-9355-faea354d63a8",
   "metadata": {},
   "source": [
    "## 2 metre temperature: average January 2030 in Germany"
   ]
  },
  {
   "cell_type": "markdown",
   "id": "997f033f-ea96-48ec-a443-1610ce184496",
   "metadata": {},
   "source": [
    "### 1. Data selection\n",
    "\n",
    "First, we perform a geographical selection corresponding to the Germany area. This greatly reduces the amount of data that will be downloaded from EDH. Also, we convert the temperature to `°C`."
   ]
  },
  {
   "cell_type": "code",
   "execution_count": null,
   "id": "afd7472f-7b61-4ab1-bbd7-20f018e9c611",
   "metadata": {
    "scrolled": true
   },
   "outputs": [],
   "source": [
    "t2m = ds.t2m.astype(\"float32\") - 273.15\n",
    "t2m.attrs[\"units\"] = \"C\"\n",
    "t2m_germany_area = t2m.sel(**{\"latitude\": slice(47, 55), \"longitude\": slice(5, 16)})\n",
    "t2m_germany_area"
   ]
  },
  {
   "cell_type": "markdown",
   "id": "237c1e13-90b2-4def-b73e-48fc472e9bef",
   "metadata": {
    "execution": {
     "iopub.execute_input": "2024-01-12T16:15:36.087023Z",
     "iopub.status.busy": "2024-01-12T16:15:36.085688Z",
     "iopub.status.idle": "2024-01-12T16:15:36.103549Z",
     "shell.execute_reply": "2024-01-12T16:15:36.100839Z",
     "shell.execute_reply.started": "2024-01-12T16:15:36.086965Z"
    }
   },
   "source": [
    "!NB: At this point, no data has been downloaded yet, nor loaded in memory.\n",
    "\n",
    "Second, we further select January 2030. This is again a lazy operation:"
   ]
  },
  {
   "cell_type": "code",
   "execution_count": null,
   "id": "d5c84107-e206-4b19-8067-14d49010b841",
   "metadata": {},
   "outputs": [],
   "source": [
    "t2m_germany_area_january_2030 = t2m_germany_area.sel(time=\"2030-01\")\n",
    "t2m_germany_area_january_2030"
   ]
  },
  {
   "cell_type": "markdown",
   "id": "95a92c0d-00bf-44b5-8c0b-794339c5fe66",
   "metadata": {},
   "source": [
    "At this point the selection is small enough to call `.compute()` on it. This will trigger the download of data from EDH and load it in memory. \n",
    "\n",
    "We can measure the time it takes:"
   ]
  },
  {
   "cell_type": "code",
   "execution_count": null,
   "id": "d825f6c6-2da8-430e-8f11-8d03a0d2a7a4",
   "metadata": {},
   "outputs": [],
   "source": [
    "%%time\n",
    "\n",
    "t2m_germany_area_january_2030 = t2m_germany_area_january_2030.compute()"
   ]
  },
  {
   "cell_type": "markdown",
   "id": "af8b152f-a3aa-4a97-8eef-5b58b251108a",
   "metadata": {},
   "source": [
    "The data was very small, this didn't take long."
   ]
  },
  {
   "cell_type": "markdown",
   "id": "1065287d-7151-4dce-99f4-4511b2786a67",
   "metadata": {
    "execution": {
     "iopub.execute_input": "2024-01-08T12:06:15.865654Z",
     "iopub.status.busy": "2024-01-08T12:06:15.865172Z",
     "iopub.status.idle": "2024-01-08T12:06:15.922646Z",
     "shell.execute_reply": "2024-01-08T12:06:15.913684Z",
     "shell.execute_reply.started": "2024-01-08T12:06:15.865616Z"
    }
   },
   "source": [
    "### 2. Data reduction\n",
    "\n",
    "Now that the data is loaded in memory, we can easily compute the october 2023 monthly mean:"
   ]
  },
  {
   "cell_type": "code",
   "execution_count": null,
   "id": "dad2b7ff-88b6-40d5-bba3-c559e58ecdbf",
   "metadata": {},
   "outputs": [],
   "source": [
    "t2m_germany_area_january_2030_monthly_mean = t2m_germany_area_january_2030.mean(dim=\"time\")\n",
    "t2m_germany_area_january_2030_monthly_mean"
   ]
  },
  {
   "cell_type": "markdown",
   "id": "3c8e064c-c111-4adb-a09f-f744bfb695e6",
   "metadata": {},
   "source": [
    "### 3. Visualization\n",
    "Finally, we can plot the january 2030 montly mean on a map:"
   ]
  },
  {
   "cell_type": "code",
   "execution_count": null,
   "id": "e2f79322-8219-4b51-ba56-d37eb5028a44",
   "metadata": {},
   "outputs": [],
   "source": [
    "import display\n",
    "import matplotlib.pyplot as plt"
   ]
  },
  {
   "cell_type": "code",
   "execution_count": null,
   "id": "92b515ff-0820-4a92-b806-35c58235dab2",
   "metadata": {},
   "outputs": [],
   "source": [
    "display.map(t2m_germany_area_january_2030_monthly_mean, vmax=None, cmap=\"YlOrRd\", title=\"Mean Surface Temperature, Jan 2030\")"
   ]
  },
  {
   "cell_type": "markdown",
   "id": "315ab089-649d-429d-84a8-11224847265e",
   "metadata": {},
   "source": [
    "## 2020-2030 climatology"
   ]
  },
  {
   "cell_type": "markdown",
   "id": "a1e96eeb-9b63-44ab-828c-cfbf9f8b7d05",
   "metadata": {},
   "source": [
    "We will now compute the 2 metre temperature climatology (montly mean and standard deviation) in Berlin, over the reference period 2020-2030\n",
    "\n",
    "We first select the closet data to Berlin:"
   ]
  },
  {
   "cell_type": "code",
   "execution_count": null,
   "id": "d803a1ce-ef64-42e2-81bb-e66fb242a035",
   "metadata": {},
   "outputs": [],
   "source": [
    "%%time\n",
    "\n",
    "t2m_Berlin = t2m.sel(**{\"latitude\": 52.5, \"longitude\": 13.4}, method=\"nearest\")\n",
    "t2m_Berlin"
   ]
  },
  {
   "cell_type": "markdown",
   "id": "4b9f2363-24a6-4b55-9e47-17ec2e41c3ff",
   "metadata": {},
   "source": [
    "This is already small enought to be computed:"
   ]
  },
  {
   "cell_type": "code",
   "execution_count": null,
   "id": "dfe4d12a-523a-486a-8ab0-8e3967898790",
   "metadata": {},
   "outputs": [],
   "source": [
    "%%time\n",
    "\n",
    "t2m_Berlin = t2m_Berlin.compute()"
   ]
  },
  {
   "cell_type": "markdown",
   "id": "4e6e6ad1-ba0b-4689-ac95-55ac0106c274",
   "metadata": {},
   "source": [
    "Now that the data is loaded in memory we can easily compute the climatology for the reference period 2020-2030:"
   ]
  },
  {
   "cell_type": "code",
   "execution_count": null,
   "id": "e6789d3c-25ce-4c2b-993b-cb12dbcad19c",
   "metadata": {},
   "outputs": [],
   "source": [
    "t2m_Berlin_climatology_mean = t2m_Berlin.groupby(\"time.month\").mean(dim=\"time\")\n",
    "t2m_Berlin_climatology_std = t2m_Berlin.groupby(\"time.month\").std(dim=\"time\")"
   ]
  },
  {
   "cell_type": "markdown",
   "id": "19a80626-ef11-48b1-a8ad-556ea1547ee7",
   "metadata": {},
   "source": [
    "We can finally plot the climatology in Berlin for the 2020-2030 refrence period"
   ]
  },
  {
   "cell_type": "code",
   "execution_count": null,
   "id": "6605298a-341c-477c-9f96-465999f78f3f",
   "metadata": {},
   "outputs": [],
   "source": [
    "plt.figure(figsize=(10, 5))\n",
    "t2m_Berlin_climatology_mean.plot(label=\"Mean\", color=\"#3498db\")\n",
    "plt.errorbar(\n",
    "    t2m_Berlin_climatology_mean.month, \n",
    "    t2m_Berlin_climatology_mean, \n",
    "    yerr=t2m_Berlin_climatology_std, \n",
    "    fmt=\"o\", \n",
    "    label=\"Standard Deviation\",\n",
    "    color=\"#a9a9a9\"\n",
    ")\n",
    "\n",
    "plt.title(\"Surface Temperature climatology in Berlin (DE), 2020-2030\")\n",
    "plt.xticks(t2m_Berlin_climatology_mean.month)\n",
    "plt.xlabel(\"Month\")\n",
    "plt.ylabel(\"Surface Temperature [C]\")\n",
    "plt.legend()\n",
    "plt.grid(alpha=0.3)\n",
    "plt.show()"
   ]
  }
 ],
 "metadata": {
  "kernelspec": {
   "display_name": "Python 3 (ipykernel)",
   "language": "python",
   "name": "python3"
  },
  "language_info": {
   "codemirror_mode": {
    "name": "ipython",
    "version": 3
   },
   "file_extension": ".py",
   "mimetype": "text/x-python",
   "name": "python",
   "nbconvert_exporter": "python",
   "pygments_lexer": "ipython3",
   "version": "3.11.6"
  }
 },
 "nbformat": 4,
 "nbformat_minor": 5
}
