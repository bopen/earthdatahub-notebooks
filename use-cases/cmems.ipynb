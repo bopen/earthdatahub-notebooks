{
 "cells": [
  {
   "cell_type": "code",
   "execution_count": null,
   "id": "af690d90-34a1-4906-88af-38061fdbb22a",
   "metadata": {},
   "outputs": [],
   "source": [
    "# data access\n",
    "\n",
    "import xarray as xr"
   ]
  },
  {
   "cell_type": "code",
   "execution_count": null,
   "id": "663cd19b-8ce5-43ad-a0a5-004c2c62cb4d",
   "metadata": {},
   "outputs": [],
   "source": [
    "# visualisation\n",
    "\n",
    "from cartopy import crs\n",
    "import display\n",
    "import matplotlib.pyplot as plt"
   ]
  },
  {
   "cell_type": "code",
   "execution_count": null,
   "id": "107beae7-ccda-40ce-90f8-4735aaae34c2",
   "metadata": {},
   "outputs": [],
   "source": [
    "PROJECTION = crs.Miller()\n",
    "area = {\"latitude\": slice(-5, 5), \"longitude\": slice(-120, -80)}\n",
    "el_nino_event_range = (\"1997-04\", \"1998-04\")"
   ]
  },
  {
   "cell_type": "code",
   "execution_count": null,
   "id": "8b33e169-cab7-4033-b489-2a4cecc0ceac",
   "metadata": {},
   "outputs": [],
   "source": [
    "# data access configuration\n",
    "\n",
    "dataset = \"s3://cmems-reanalysis/cmems_mod_glo_phy_my_0.083_P1D-m.zarr\""
   ]
  },
  {
   "cell_type": "code",
   "execution_count": null,
   "id": "464d7c28-f665-4c51-a4a6-219dcaaa0ce3",
   "metadata": {},
   "outputs": [],
   "source": [
    "ds = xr.open_dataset(dataset, chunks={}, engine=\"zarr\").astype(\"float32\")\n",
    "ds"
   ]
  },
  {
   "cell_type": "code",
   "execution_count": null,
   "id": "4a00e9f1-9df0-4cce-8144-b40b8e1711e5",
   "metadata": {},
   "outputs": [],
   "source": [
    "%%time\n",
    "\n",
    "zos_pacific_area = ds.zos.sel(**area)\n",
    "zos_mean = zos_pacific_area.mean(dim=\"time\")\n",
    "zos_anomaly = zos_pacific_area - zos_mean\n",
    "zos_anomaly_el_nino_event = zos_anomaly.sel(time=slice(el_nino_event_range[0], el_nino_event_range[1])).mean(dim=\"time\").compute()"
   ]
  },
  {
   "cell_type": "code",
   "execution_count": null,
   "id": "1f1282f4-a7ca-4517-8cb3-4fa2793f1e11",
   "metadata": {},
   "outputs": [],
   "source": [
    "# display.map(zos_anomaly_el_nino_event, vmax=None, title=\"1997-1998 El Nino-event\")\n",
    "_, ax = plt.subplots(\n",
    "    figsize=(10, 8),\n",
    "    subplot_kw={\"projection\": PROJECTION},\n",
    ")\n",
    "zos_anomaly_el_nino_event.plot(\n",
    "    ax=ax, \n",
    "    cmap=\"Blues\", \n",
    "    transform=crs.PlateCarree(), \n",
    "    cbar_kwargs={\"orientation\": \"horizontal\", \"pad\": 0.05, \"aspect\": 40, \"label\": \"Sea Surface Height anomaly [m]\"},\n",
    ")\n",
    "ax.coastlines()\n",
    "ax.set_title(\"El Nino event (1997-1998)\")\n",
    "plt.show()"
   ]
  },
  {
   "cell_type": "code",
   "execution_count": null,
   "id": "64e43d20-5066-43b4-94ed-befc907c0e57",
   "metadata": {},
   "outputs": [],
   "source": [
    "%%time\n",
    "\n",
    "el_nino_area_ds = ds.sel(**area)\n",
    "zos_monthly = el_nino_area_ds.zos.resample(time=\"1M\").mean()\n",
    "zos_monthly_spatial_mean = zos_monthly.mean(dim=[\"latitude\", \"longitude\"])\n",
    "zos_mean = zos_monthly_spatial_mean.mean()\n",
    "zos_anomaly = (zos_monthly_spatial_mean - zos_mean).compute()"
   ]
  },
  {
   "cell_type": "code",
   "execution_count": null,
   "id": "39d2ed48-42a0-4dff-bb66-3c77ebf33e25",
   "metadata": {},
   "outputs": [],
   "source": [
    "plt.plot(zos_anomaly['time'], zos_anomaly)\n",
    "plt.xlabel('Year')\n",
    "plt.ylabel('Sea Surface Height anomaly [m]')\n",
    "plt.xticks(rotation=45)\n",
    "\n",
    "plt.show()"
   ]
  }
 ],
 "metadata": {
  "kernelspec": {
   "display_name": "Python 3 (ipykernel)",
   "language": "python",
   "name": "python3"
  },
  "language_info": {
   "codemirror_mode": {
    "name": "ipython",
    "version": 3
   },
   "file_extension": ".py",
   "mimetype": "text/x-python",
   "name": "python",
   "nbconvert_exporter": "python",
   "pygments_lexer": "ipython3",
   "version": "3.11.6"
  }
 },
 "nbformat": 4,
 "nbformat_minor": 5
}
