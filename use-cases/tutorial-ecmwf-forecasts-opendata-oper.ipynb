{
 "cells": [
  {
   "cell_type": "markdown",
   "id": "d0d68161-8d1a-4b07-9e9f-4e4ed2b6e4d7",
   "metadata": {},
   "source": [
    "# How to work with Opendata real-time forecast on Earth Data Hub\n",
    "### Surface temperature forecast in Rome"
   ]
  },
  {
   "cell_type": "markdown",
   "id": "a3b25461-e8f3-42e2-bbbd-19d8fc9637cc",
   "metadata": {
    "execution": {
     "iopub.execute_input": "2024-01-05T16:27:30.942568Z",
     "iopub.status.busy": "2024-01-05T16:27:30.941820Z",
     "iopub.status.idle": "2024-01-05T16:27:30.953114Z",
     "shell.execute_reply": "2024-01-05T16:27:30.950996Z",
     "shell.execute_reply.started": "2024-01-05T16:27:30.942515Z"
    },
    "jp-MarkdownHeadingCollapsed": true
   },
   "source": [
    "***\n",
    "This notebook will provide you guidance on how to access and use the `s3://hedp/ecmwf-forecasts/opendata-oper-20231016T00.zarr` datset on Earth Data Hub.\n",
    "\n",
    "The goal is to plot the surface temperature forecsat for October 16th.\n",
    "***\n",
    "\n",
    "## What you will learn:\n",
    "\n",
    "* how to access and preview the dataset\n",
    "* select and reduce the data\n",
    "* plot the results"
   ]
  },
  {
   "cell_type": "markdown",
   "id": "142f9687-d5f3-41a1-94bb-c3f04859b9e2",
   "metadata": {
    "execution": {
     "iopub.execute_input": "2024-01-08T18:02:14.626875Z",
     "iopub.status.busy": "2024-01-08T18:02:14.608970Z",
     "iopub.status.idle": "2024-01-08T18:02:14.662440Z",
     "shell.execute_reply": "2024-01-08T18:02:14.644714Z",
     "shell.execute_reply.started": "2024-01-08T18:02:14.626767Z"
    }
   },
   "source": [
    "## Data access and preview\n",
    "***\n",
    "\n",
    "Xarray and Dask work together following a lazy principle. This means when you access and manipulate a Zarr store the data is in not immediately downloaded and loaded in memory. Instead, Dask constructs a task graph that represents the operations to be performed. A smart user will reduce the amount of data that needs to be downloaded before the computation takes place (e.g., when the `.compute()` or `.plot()` methods are called).\n",
    "\n",
    "To preview the data, only the dataset metadata must be downloaded. Xarray does this automatically:\n",
    "\n",
    "***"
   ]
  },
  {
   "cell_type": "code",
   "execution_count": null,
   "id": "ac8816c2-685b-4370-80ad-2e0b40141b21",
   "metadata": {},
   "outputs": [],
   "source": [
    "import xarray as xr\n",
    "\n",
    "# your `~/.netrc` file MUST contain your credentials for earthdatahub.com\n",
    "#\n",
    "# machine earthdatahub.com\n",
    "#   login {your_username}\n",
    "#   password {your_password}\n",
    "\n",
    "ds = xr.open_dataset(\n",
    "    \"https://earthdatahub.com/stores/hedp/ecmwf-forecasts/opendata-oper-20231016T00.zarr\",\n",
    "    chunks={},\n",
    "    engine=\"zarr\",\n",
    "    storage_options={\"client_kwargs\": {\"trust_env\": True}},\n",
    ")\n",
    "ds"
   ]
  },
  {
   "cell_type": "markdown",
   "id": "0668cb99-ad65-4285-a097-4c26168696ec",
   "metadata": {},
   "source": [
    "## Working with data\n",
    "\n",
    "Datasets on EDH are typically very large and remotely hosted. Typical use imply a selection of the data followed by one or more reduction steps to be performed in a local or distributed Dask environment. \n",
    "\n",
    "The structure of a workflow that uses EDH data looks like this:\n",
    "1. data selection\n",
    "2. (optional) data reduction\n",
    "3. (optional) visualization"
   ]
  },
  {
   "cell_type": "markdown",
   "id": "08a1eb2b-c019-42fc-b807-1083de5052f5",
   "metadata": {},
   "source": [
    "## Rome 2 metre temperature forecast"
   ]
  },
  {
   "cell_type": "markdown",
   "id": "3823103e-62c0-4215-a1db-bab791fdcb04",
   "metadata": {},
   "source": [
    "### 1. Data selection\n",
    "We select the 2 metre temperature variable from the dataset and we convert it form `K` to `°C`. Forecast steps are given in `ns`, we convert it to `h`."
   ]
  },
  {
   "cell_type": "code",
   "execution_count": null,
   "id": "70676f29-13bb-43e3-91b7-8161e1edbf5c",
   "metadata": {},
   "outputs": [],
   "source": [
    "t2m = ds[\"2t\"] - 273.15\n",
    "t2m.attrs[\"units\"] = \"C\"\n",
    "t2m[\"step\"] = t2m.step.astype('datetime64[ns]').astype('float64') / 1e9 / 3600\n",
    "t2m"
   ]
  },
  {
   "cell_type": "markdown",
   "id": "2efc5222-b62e-409e-929e-057f08b1414c",
   "metadata": {},
   "source": [
    "We select then the closest point to Rome:"
   ]
  },
  {
   "cell_type": "code",
   "execution_count": null,
   "id": "20b6fadb-7598-4beb-8dfe-3bf22ff72bad",
   "metadata": {},
   "outputs": [],
   "source": [
    "t2m_Rome = t2m.sel(**{\"latitude\": 41.9, \"longitude\": 12.5}, method=\"nearest\")\n",
    "t2m_Rome"
   ]
  },
  {
   "cell_type": "markdown",
   "id": "f30e6dee-e5d9-4d40-a1e5-a9c81702e7c8",
   "metadata": {
    "execution": {
     "iopub.execute_input": "2024-01-12T16:15:36.087023Z",
     "iopub.status.busy": "2024-01-12T16:15:36.085688Z",
     "iopub.status.idle": "2024-01-12T16:15:36.103549Z",
     "shell.execute_reply": "2024-01-12T16:15:36.100839Z",
     "shell.execute_reply.started": "2024-01-12T16:15:36.086965Z"
    }
   },
   "source": [
    "At this point, no data has been downloaded yet, nor loaded in memory. However, the selection is small enough to call `.compute()` on it. This will trigger the download of data from EDH and load it in memory.\n",
    "\n",
    "We can mesure the time it takes:"
   ]
  },
  {
   "cell_type": "code",
   "execution_count": null,
   "id": "80d66f07-081e-4cfe-99da-0e7c42466313",
   "metadata": {},
   "outputs": [],
   "source": [
    "%%time\n",
    "\n",
    "t2m_Rome = t2m_Rome.compute()"
   ]
  },
  {
   "cell_type": "markdown",
   "id": "13861779-6363-4d66-a233-d51abf833405",
   "metadata": {},
   "source": [
    "The data was very small, this didn't take long."
   ]
  },
  {
   "cell_type": "markdown",
   "id": "590b3e8c-a375-4108-b110-8e1c5520af00",
   "metadata": {
    "execution": {
     "iopub.execute_input": "2024-01-08T12:06:15.865654Z",
     "iopub.status.busy": "2024-01-08T12:06:15.865172Z",
     "iopub.status.idle": "2024-01-08T12:06:15.922646Z",
     "shell.execute_reply": "2024-01-08T12:06:15.913684Z",
     "shell.execute_reply.started": "2024-01-08T12:06:15.865616Z"
    }
   },
   "source": [
    "### 2. Visualization\n",
    "\n",
    "Now that the data is loaded in memory, we can easily plot the temperature forecast."
   ]
  },
  {
   "cell_type": "code",
   "execution_count": null,
   "id": "6d75b12c-d46c-4a25-86ef-940c6264497d",
   "metadata": {},
   "outputs": [],
   "source": [
    "import matplotlib.pyplot as plt\n",
    "import numpy as np\n",
    "\n",
    "t2m_Rome.plot()\n",
    "plt.title(\"Surface Temperature forecast in Rome (IT)\")\n",
    "plt.ylabel(\"Surface Temperature [C]\")\n",
    "reference_time = np.datetime_as_string(t2m_Rome.time.values)\n",
    "plt.xlabel(f\"time since {reference_time[:-10]} [hr]\")\n",
    "plt.show()"
   ]
  }
 ],
 "metadata": {
  "kernelspec": {
   "display_name": "Python 3 (ipykernel)",
   "language": "python",
   "name": "python3"
  },
  "language_info": {
   "codemirror_mode": {
    "name": "ipython",
    "version": 3
   },
   "file_extension": ".py",
   "mimetype": "text/x-python",
   "name": "python",
   "nbconvert_exporter": "python",
   "pygments_lexer": "ipython3",
   "version": "3.11.6"
  }
 },
 "nbformat": 4,
 "nbformat_minor": 5
}
