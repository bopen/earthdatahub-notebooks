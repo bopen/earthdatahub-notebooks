{
 "cells": [
  {
   "cell_type": "markdown",
   "id": "41a16719-c761-478f-b600-310752a41ee3",
   "metadata": {},
   "source": [
    "First, let's import all the necessary dependencies."
   ]
  },
  {
   "cell_type": "code",
   "execution_count": null,
   "id": "d70915ce-b970-4647-a376-8d209fb9dcf1",
   "metadata": {},
   "outputs": [],
   "source": [
    "import matplotlib.pyplot as plt\n",
    "import numpy as np\n",
    "import xarray as xr"
   ]
  },
  {
   "cell_type": "markdown",
   "id": "9c7b9cb5-f4df-44cb-b691-3ed9a1305cdb",
   "metadata": {},
   "source": [
    "Let's define some configuration variables."
   ]
  },
  {
   "cell_type": "code",
   "execution_count": null,
   "id": "f7744e7e-12ad-41f9-9972-2ea27b99fbf0",
   "metadata": {},
   "outputs": [],
   "source": [
    "DATASET = \"s3://hedp/ecmwf-forecasts/opendata-oper-20231016T00.zarr\"\n",
    "LOCATION = {\"latitude\": 41.9, \"longitude\": 12.5}"
   ]
  },
  {
   "cell_type": "markdown",
   "id": "edefa810-e69c-4952-9624-dbb5c0762005",
   "metadata": {},
   "source": [
    "In the following lines we:\n",
    "- establish a connection with the remote dataset\n",
    "- show its metadata\n",
    "\n",
    "It is worth noticing that, in the first operation, only the information necessary to gather the dataset's metadata (e.g. its sizes, dimensions, variables' type and attributes) is actually downloaded from its remote location to the local machine."
   ]
  },
  {
   "cell_type": "code",
   "execution_count": null,
   "id": "ac8816c2-685b-4370-80ad-2e0b40141b21",
   "metadata": {},
   "outputs": [],
   "source": [
    "ds = xr.open_dataset(DATASET, chunks={}, engine=\"zarr\").astype(\"float32\")\n",
    "ds"
   ]
  },
  {
   "cell_type": "markdown",
   "id": "fbb7caa7-e0c5-4eba-984d-7e59740c7fef",
   "metadata": {},
   "source": [
    "Here we want to extract the 2-metre Temperature forecast, in Celsius, for a specific location.\n",
    "\n",
    "Note that the operations prescribed in the following lines are actually performed, and the resulting data downloaded, only when the `.compute()` method is met. For this reason, as a general rule to maximize efficiency, the `compute()` method should be placed after an operation which significantly reduce the amount of data, such as after selection and reduction operations."
   ]
  },
  {
   "cell_type": "code",
   "execution_count": null,
   "id": "70676f29-13bb-43e3-91b7-8161e1edbf5c",
   "metadata": {},
   "outputs": [],
   "source": [
    "%%time\n",
    "\n",
    "t2m = ds[\"2t\"] - 273.15\n",
    "t2m[\"step\"] = t2m.step.astype('datetime64[ns]').astype('float64') / 1e9 / 3600\n",
    "t2m.attrs[\"units\"] = \"C\"\n",
    "t2m_location = t2m.sel(**LOCATION, method=\"nearest\")\n",
    "t2m_location"
   ]
  },
  {
   "cell_type": "code",
   "execution_count": null,
   "id": "80d66f07-081e-4cfe-99da-0e7c42466313",
   "metadata": {},
   "outputs": [],
   "source": [
    "%%time\n",
    "%%capture\n",
    "\n",
    "t2m_location = t2m_location.compute()"
   ]
  },
  {
   "cell_type": "markdown",
   "id": "ef708f61-7244-4950-84a4-9b6836e02f37",
   "metadata": {},
   "source": [
    "Finally, let's plot the results on a time series."
   ]
  },
  {
   "cell_type": "code",
   "execution_count": null,
   "id": "6d75b12c-d46c-4a25-86ef-940c6264497d",
   "metadata": {},
   "outputs": [],
   "source": [
    "t2m_location.plot()\n",
    "plt.title(\"Surface Temperature forecast in Rome (IT)\")\n",
    "plt.ylabel(\"Surface Temperature [C]\")\n",
    "reference_time = np.datetime_as_string(t2m_location.time.values)\n",
    "plt.xlabel(f\"time since {reference_time[:-10]} [hr]\")\n",
    "plt.show()"
   ]
  }
 ],
 "metadata": {
  "kernelspec": {
   "display_name": "Python 3 (ipykernel)",
   "language": "python",
   "name": "python3"
  },
  "language_info": {
   "codemirror_mode": {
    "name": "ipython",
    "version": 3
   },
   "file_extension": ".py",
   "mimetype": "text/x-python",
   "name": "python",
   "nbconvert_exporter": "python",
   "pygments_lexer": "ipython3",
   "version": "3.11.6"
  }
 },
 "nbformat": 4,
 "nbformat_minor": 5
}
