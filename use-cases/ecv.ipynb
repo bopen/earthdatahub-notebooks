{
 "cells": [
  {
   "cell_type": "code",
   "execution_count": null,
   "id": "d94bdb79-3c0d-4e40-afc5-4c689448814d",
   "metadata": {},
   "outputs": [],
   "source": [
    "import xarray as xr"
   ]
  },
  {
   "cell_type": "code",
   "execution_count": null,
   "id": "62349f89-2359-443c-b6b0-d8619dcb6de5",
   "metadata": {},
   "outputs": [],
   "source": [
    "from cartopy import crs\n",
    "import display\n",
    "import matplotlib.pyplot as plt"
   ]
  },
  {
   "cell_type": "code",
   "execution_count": null,
   "id": "b8eb2f00-443f-4d58-92ba-933d0fc11021",
   "metadata": {},
   "outputs": [],
   "source": [
    "dataset = \"s3://hedp/era5/ecv-for-climate-change-1979-2023.zarr\""
   ]
  },
  {
   "cell_type": "code",
   "execution_count": null,
   "id": "f7622503-68bb-46fa-9739-79ef5a2df27e",
   "metadata": {},
   "outputs": [],
   "source": [
    "central_europe_area = {\"latitude\": slice(55, 45), \"longitude\": slice(2, 24)}\n",
    "sel_season = \"12\""
   ]
  },
  {
   "cell_type": "code",
   "execution_count": null,
   "id": "ae7e877a-ab49-4280-8fdd-4aa40ca6a3d8",
   "metadata": {},
   "outputs": [],
   "source": [
    "ds = xr.open_dataset(dataset, chunks={}, engine=\"zarr\").astype(\"float32\")\n",
    "ds"
   ]
  },
  {
   "cell_type": "code",
   "execution_count": null,
   "id": "0209ab25-6c99-4cc5-9424-c3e3b4c4de99",
   "metadata": {},
   "outputs": [],
   "source": [
    "%%time\n",
    "\n",
    "ds_central_europe = ds.sel(**central_europe_area)\n",
    "t2m_central_europe_last_winter = ds_central_europe.t2m.resample(time=\"QS-DEC\").mean(dim=\"time\").sel(time=f\"2022-{sel_season}\").compute()"
   ]
  },
  {
   "cell_type": "code",
   "execution_count": null,
   "id": "ba8c8148-0bc8-4c15-8b95-f2935a0f1d50",
   "metadata": {},
   "outputs": [],
   "source": [
    "display.map(t2m_central_europe_last_winter, vmax=None, cmap=\"YlOrRd\", title=\"Surface Temperature anomaly - Winter 2022\")"
   ]
  },
  {
   "cell_type": "code",
   "execution_count": null,
   "id": "7cec8215-c12f-498d-8eb3-2d1aef0ae7b0",
   "metadata": {},
   "outputs": [],
   "source": [
    "%%time\n",
    "\n",
    "ds_central_europe = ds.sel(**central_europe_area)\n",
    "t2m_central_europe_seasons = ds_central_europe.t2m.resample(time=\"QS-DEC\").mean(dim=[\"time\", \"latitude\", \"longitude\"])\n",
    "t2m_central_europe_winter = t2m_central_europe_seasons.sel(time=t2m_central_europe_seasons[\"time.month\"] == int(sel_season))"
   ]
  },
  {
   "cell_type": "code",
   "execution_count": null,
   "id": "d88c3241-b52f-4ee7-a482-9395d713838e",
   "metadata": {},
   "outputs": [],
   "source": [
    "t2m_central_europe_winter.plot()"
   ]
  },
  {
   "cell_type": "code",
   "execution_count": null,
   "id": "b7f512b0-6534-4982-8ab8-74960f012870",
   "metadata": {},
   "outputs": [],
   "source": []
  }
 ],
 "metadata": {
  "kernelspec": {
   "display_name": "Python 3 (ipykernel)",
   "language": "python",
   "name": "python3"
  },
  "language_info": {
   "codemirror_mode": {
    "name": "ipython",
    "version": 3
   },
   "file_extension": ".py",
   "mimetype": "text/x-python",
   "name": "python",
   "nbconvert_exporter": "python",
   "pygments_lexer": "ipython3",
   "version": "3.11.6"
  }
 },
 "nbformat": 4,
 "nbformat_minor": 5
}
