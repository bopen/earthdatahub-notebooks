{
 "cells": [
  {
   "cell_type": "code",
   "execution_count": null,
   "id": "d94bdb79-3c0d-4e40-afc5-4c689448814d",
   "metadata": {},
   "outputs": [],
   "source": [
    "import xarray as xr"
   ]
  },
  {
   "cell_type": "code",
   "execution_count": null,
   "id": "62349f89-2359-443c-b6b0-d8619dcb6de5",
   "metadata": {},
   "outputs": [],
   "source": [
    "from cartopy import crs, feature\n",
    "import display\n",
    "import matplotlib.pyplot as plt"
   ]
  },
  {
   "cell_type": "code",
   "execution_count": null,
   "id": "b8eb2f00-443f-4d58-92ba-933d0fc11021",
   "metadata": {},
   "outputs": [],
   "source": [
    "dataset = \"s3://hedp/era5/ecv-for-climate-change-1979-2023.zarr\""
   ]
  },
  {
   "cell_type": "code",
   "execution_count": null,
   "id": "f7622503-68bb-46fa-9739-79ef5a2df27e",
   "metadata": {},
   "outputs": [],
   "source": [
    "PROJECTION = crs.Miller()\n",
    "area = {\"latitude\": slice(55, 45), \"longitude\": slice(2, 24)}\n",
    "sel_season = \"12\""
   ]
  },
  {
   "cell_type": "code",
   "execution_count": null,
   "id": "ae7e877a-ab49-4280-8fdd-4aa40ca6a3d8",
   "metadata": {},
   "outputs": [],
   "source": [
    "ds = xr.open_dataset(dataset, chunks={}, engine=\"zarr\").astype(\"float32\")\n",
    "ds"
   ]
  },
  {
   "cell_type": "code",
   "execution_count": null,
   "id": "0209ab25-6c99-4cc5-9424-c3e3b4c4de99",
   "metadata": {},
   "outputs": [],
   "source": [
    "%%time\n",
    "\n",
    "ds_central_europe = ds.sel(**area)\n",
    "t2m_central_europe_last_winter = ds_central_europe.t2m.resample(time=\"QS-DEC\").mean(dim=\"time\").sel(time=f\"2022-{sel_season}\").compute()"
   ]
  },
  {
   "cell_type": "code",
   "execution_count": null,
   "id": "ba8c8148-0bc8-4c15-8b95-f2935a0f1d50",
   "metadata": {},
   "outputs": [],
   "source": [
    "# display.map(t2m_central_europe_last_winter, vmax=None, cmap=\"YlOrRd\", title=\"Surface Temperature anomaly - Winter 2022\")\n",
    "_, ax = plt.subplots(\n",
    "    figsize=(6, 6),\n",
    "    subplot_kw={\"projection\": PROJECTION},\n",
    ")\n",
    "t2m_central_europe_last_winter.plot(\n",
    "    ax=ax, \n",
    "    cmap=\"YlOrRd\", \n",
    "    transform=crs.PlateCarree(), \n",
    "    cbar_kwargs={\"orientation\": \"horizontal\", \"pad\": 0.05, \"aspect\": 40, \"label\": \"Surface Temperature anomaly [C]\"},\n",
    ")\n",
    "ax.coastlines()\n",
    "ax.add_feature(feature.BORDERS)\n",
    "ax.set_title(\"Surface Temperature anomaly - Winter 2022\")\n",
    "plt.show()"
   ]
  },
  {
   "cell_type": "code",
   "execution_count": null,
   "id": "7cec8215-c12f-498d-8eb3-2d1aef0ae7b0",
   "metadata": {},
   "outputs": [],
   "source": [
    "%%time\n",
    "\n",
    "ds_central_europe = ds.sel(**central_europe_area)\n",
    "t2m_central_europe_seasons = ds_central_europe.t2m.resample(time=\"QS-DEC\").mean(dim=[\"time\", \"latitude\", \"longitude\"])\n",
    "t2m_central_europe_winter = t2m_central_europe_seasons.sel(time=t2m_central_europe_seasons[\"time.month\"] == int(sel_season))"
   ]
  },
  {
   "cell_type": "code",
   "execution_count": null,
   "id": "d88c3241-b52f-4ee7-a482-9395d713838e",
   "metadata": {},
   "outputs": [],
   "source": [
    "plt.plot(t2m_central_europe_winter[\"time\"], t2m_central_europe_winter)\n",
    "plt.xlabel(\"Year\")\n",
    "plt.ylabel(\"Surface Temperature anomaly [C]\")\n",
    "plt.title(\"Mean Winter surface temperature anomaly in Central Europe\", size=10)\n",
    "plt.show()"
   ]
  }
 ],
 "metadata": {
  "kernelspec": {
   "display_name": "Python 3 (ipykernel)",
   "language": "python",
   "name": "python3"
  },
  "language_info": {
   "codemirror_mode": {
    "name": "ipython",
    "version": 3
   },
   "file_extension": ".py",
   "mimetype": "text/x-python",
   "name": "python",
   "nbconvert_exporter": "python",
   "pygments_lexer": "ipython3",
   "version": "3.11.6"
  }
 },
 "nbformat": 4,
 "nbformat_minor": 5
}
