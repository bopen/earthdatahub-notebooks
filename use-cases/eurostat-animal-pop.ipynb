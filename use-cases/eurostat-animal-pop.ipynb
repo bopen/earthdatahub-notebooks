{
 "cells": [
  {
   "cell_type": "code",
   "execution_count": null,
   "id": "d70915ce-b970-4647-a376-8d209fb9dcf1",
   "metadata": {},
   "outputs": [],
   "source": [
    "import xarray as xr"
   ]
  },
  {
   "cell_type": "code",
   "execution_count": null,
   "id": "004225f4-9756-4a9d-b373-f297a424aa81",
   "metadata": {},
   "outputs": [],
   "source": [
    "dataset = \"s3://eurostat/agr_r_animal-19770101-20230101.zarr\"\""
   ]
  },
  {
   "cell_type": "code",
   "execution_count": null,
   "id": "ac8816c2-685b-4370-80ad-2e0b40141b21",
   "metadata": {},
   "outputs": [],
   "source": [
    "ds = xr.open_dataset(dataset, chunks={}, engine=\"zarr\").astype(\"float32\")\n",
    "ds"
   ]
  }
 ],
 "metadata": {
  "kernelspec": {
   "display_name": "Python 3 (ipykernel)",
   "language": "python",
   "name": "python3"
  },
  "language_info": {
   "codemirror_mode": {
    "name": "ipython",
    "version": 3
   },
   "file_extension": ".py",
   "mimetype": "text/x-python",
   "name": "python",
   "nbconvert_exporter": "python",
   "pygments_lexer": "ipython3",
   "version": "3.11.6"
  }
 },
 "nbformat": 4,
 "nbformat_minor": 5
}
