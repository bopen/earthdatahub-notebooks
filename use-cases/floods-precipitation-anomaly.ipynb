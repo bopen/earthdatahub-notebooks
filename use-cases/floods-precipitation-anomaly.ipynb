{
 "cells": [
  {
   "cell_type": "markdown",
   "id": "b0e5f65f-c407-4b76-bfc6-08163e482f99",
   "metadata": {},
   "source": [
    "First, let's import all the necessary dependencies."
   ]
  },
  {
   "cell_type": "code",
   "execution_count": null,
   "id": "afcb7474",
   "metadata": {},
   "outputs": [],
   "source": [
    "import datetime\n",
    "import display\n",
    "import matplotlib.pyplot as plt\n",
    "import xarray as xr"
   ]
  },
  {
   "cell_type": "markdown",
   "id": "82a28af9-a24f-4fb5-94f6-23a69fc04d45",
   "metadata": {
    "execution": {
     "iopub.execute_input": "2023-12-19T10:22:07.241048Z",
     "iopub.status.busy": "2023-12-19T10:22:07.240500Z",
     "iopub.status.idle": "2023-12-19T10:22:07.247950Z",
     "shell.execute_reply": "2023-12-19T10:22:07.246352Z",
     "shell.execute_reply.started": "2023-12-19T10:22:07.241000Z"
    }
   },
   "source": [
    "Let's define some configuration variables."
   ]
  },
  {
   "cell_type": "code",
   "execution_count": null,
   "id": "cfa55df1-064d-4ce6-ad5a-1d514d8a0ae4",
   "metadata": {},
   "outputs": [],
   "source": [
    "DATASET_LOCATION = \"s3://ecmwf-era5-land/reanalysis-era5-land-no-antartica-v0.zarr\"\n",
    "\n",
    "REFERENCE_PERIOD = slice(\"1991\", \"2020\")\n",
    "EVENTS = {\n",
    "    \"italy-2023-05\": {\n",
    "        \"area\": {\"latitude\": slice(48, 34), \"longitude\": slice(5, 20)},\n",
    "        \"location\": {\"latitude\": 44.2, \"longitude\": 11.9, \"method\": \"nearest\"},\n",
    "        \"time\": [\"2023-05-17\", \"2023-05-18\"],\n",
    "        \"vmax\": 150,\n",
    "    },\n",
    "    \"greece-2023-09\": {\n",
    "        \"area\": {\"latitude\": slice(41, 34), \"longitude\": slice(19, 28)},\n",
    "        \"location\": {\"latitude\": 39.25, \"longitude\": 21.9, \"method\": \"nearest\"},\n",
    "        \"time\": [\"2023-09-06\", \"2023-09-07\"],\n",
    "        \"vmax\": 400,\n",
    "    },\n",
    "    \"pakistan-2022-06\": {\n",
    "        \"area\": {\"latitude\": slice(38, 23), \"longitude\": slice(60, 78)},\n",
    "        \"location\": {\"latitude\": 29, \"longitude\": 67, \"method\": \"nearest\"},\n",
    "        \"time\": [\"2022-08-23\", \"2022-08-24\", \"2022-08-25\", \"2022-08-26\", \"2022-08-27\", \"2022-08-28\", \"2022-08-29\", \"2022-08-30\"],\n",
    "        \"vmax\": 300,\n",
    "    },\n",
    "}\n",
    "\n",
    "SELECTED_EVENT = \"greece-2023-09\"\n",
    "\n",
    "AREA = EVENTS[SELECTED_EVENT][\"area\"]\n",
    "LOCATION = EVENTS[SELECTED_EVENT][\"location\"]\n",
    "TIME = EVENTS[SELECTED_EVENT][\"time\"]\n",
    "YEAR, MONTH = EVENTS[SELECTED_EVENT][\"time\"][0].split(\"-\")[:2]\n",
    "VMAX = EVENTS[SELECTED_EVENT][\"vmax\"]"
   ]
  },
  {
   "cell_type": "code",
   "execution_count": null,
   "id": "ac0b2e1f",
   "metadata": {},
   "outputs": [],
   "source": [
    "# activate dask distributed\n",
    "#\n",
    "# import distributed\n",
    "# client = distributed.Client(\"tcp://dask-scheduler:8786\")\n",
    "# client"
   ]
  },
  {
   "cell_type": "markdown",
   "id": "d8ceb725-9913-4691-8845-4429ff036992",
   "metadata": {},
   "source": [
    "In the following lines we:\n",
    "\n",
    "- establish a connection with the remote dataset\n",
    "- show its metadata\n",
    "\n",
    "It is worth noticing that, in the first operation, only the information necessary to gather the dataset's metadata (e.g. its sizes, dimensions, variables' type and attributes) is actually downloaded from its remote location to the local machine."
   ]
  },
  {
   "cell_type": "code",
   "execution_count": null,
   "id": "7c2365fb",
   "metadata": {},
   "outputs": [],
   "source": [
    "ds = xr.open_dataset(DATASET_LOCATION, chunks={}, engine=\"zarr\").astype(\"float32\")\n",
    "ds"
   ]
  },
  {
   "cell_type": "markdown",
   "id": "5e928640-e28c-4f97-a653-eaeb82e1cc9c",
   "metadata": {},
   "source": [
    "Here we want to compute the total precipitation observed over during Storm Daniel, i.e. from 6 to 7 September 2023.\n",
    "\n",
    "Note that the operations prescribed in the following lines are actually performed, and the resulting data downloaded, only when the `.compute()` method is met. For this reason, as a general rule to maximize efficiency, the compute() method should be placed after an operation which significantly reduce the amount of data, such as after selection and reduction operations."
   ]
  },
  {
   "cell_type": "code",
   "execution_count": null,
   "id": "515a2608",
   "metadata": {},
   "outputs": [],
   "source": [
    "tp = ds.tp\n",
    "tp_days_area = tp.sel(valid_time=TIME, **AREA)\n",
    "tp_days_sum = tp_days_area.sum(\"valid_time\")\n",
    "tp_days_sum"
   ]
  },
  {
   "cell_type": "code",
   "execution_count": null,
   "id": "f3818ad9-bb9c-44f8-b3b9-a7c5e0dbc305",
   "metadata": {},
   "outputs": [],
   "source": [
    "%%time\n",
    "\n",
    "tp_days_sum = tp_days_sum.compute()\n",
    "tp_days_sum_mm = tp_days_sum * 1000\n",
    "tp_days_sum_mm.attrs[\"units\"] = \"mm\""
   ]
  },
  {
   "cell_type": "markdown",
   "id": "8385e60e-7cf4-46b1-a20d-af5e209240b0",
   "metadata": {},
   "source": [
    "Let's plot the results on a map."
   ]
  },
  {
   "cell_type": "code",
   "execution_count": null,
   "id": "9ebbf756-8458-45bd-9232-5552ff1c5805",
   "metadata": {},
   "outputs": [],
   "source": [
    "display.map(tp_days_sum_mm, vmax=VMAX, title=\"Storm Daniel precipitation\")"
   ]
  },
  {
   "cell_type": "markdown",
   "id": "a4f56c3c-de01-4600-ae55-d606c17a09bf",
   "metadata": {},
   "source": [
    "Now, we want to compare the total precipitation observed during Storm Daniel with the average precipitation observed in the whole month of September between 1991 and 2020. \n",
    "\n",
    "The same considerations done before apply here."
   ]
  },
  {
   "cell_type": "code",
   "execution_count": null,
   "id": "cce4fb6d",
   "metadata": {},
   "outputs": [],
   "source": [
    "YEARS = [\n",
    "    \"1991\", \"1992\", \"1993\",\n",
    "    \"1994\", \"1995\", \"1996\",\n",
    "    \"1997\", \"1998\", \"1999\",\n",
    "    \"2000\", \"2001\", \"2002\",\n",
    "    \"2003\", \"2004\", \"2005\",\n",
    "    \"2006\", \"2007\", \"2008\",\n",
    "    \"2009\", \"2010\", \"2011\",\n",
    "    \"2012\", \"2013\", \"2014\",\n",
    "    \"2015\", \"2016\", \"2017\",\n",
    "    \"2018\", \"2019\", \"2020\",\n",
    "]\n",
    "DAYS = [\n",
    "    \"01\", \"02\", \"03\",\n",
    "    \"04\", \"05\", \"06\",\n",
    "    \"07\", \"08\", \"09\",\n",
    "    \"10\", \"11\", \"12\",\n",
    "    \"13\", \"14\", \"15\",\n",
    "    \"16\", \"17\", \"18\",\n",
    "    \"19\", \"20\", \"21\",\n",
    "    \"22\", \"23\", \"24\",\n",
    "    \"25\", \"26\", \"27\",\n",
    "    \"28\", \"29\", \"30\",\n",
    "]\n",
    "\n",
    "MONTH_REFERENCE_TIME = [f\"{y}-{MONTH}-{d}\" for y in YEARS for d in DAYS]\n",
    "\n",
    "tp = ds.tp\n",
    "tp_ref_area = tp.sel(valid_time=MONTH_REFERENCE_TIME, **AREA)\n",
    "tp_ref_month_sum = (tp_ref_area.sum(\"valid_time\") / len(YEARS))"
   ]
  },
  {
   "cell_type": "code",
   "execution_count": null,
   "id": "4da4c029-5251-4bad-8ddf-a6cc886a97f3",
   "metadata": {},
   "outputs": [],
   "source": [
    "%%time\n",
    "\n",
    "tp_ref_month_sum = tp_ref_month_sum.compute()\n",
    "tp_ref_month_sum_mm = tp_ref_month_sum * 1000\n",
    "tp_ref_month_sum_mm.attrs[\"units\"] = \"mm\""
   ]
  },
  {
   "cell_type": "markdown",
   "id": "489b303d-c9f9-4a59-b49a-c5c78d5e6de2",
   "metadata": {},
   "source": [
    "Let's plot the results on two different maps."
   ]
  },
  {
   "cell_type": "code",
   "execution_count": null,
   "id": "52bd5e21",
   "metadata": {},
   "outputs": [],
   "source": [
    "display.maps(\n",
    "    [tp_days_sum_mm, tp_ref_month_sum_mm],\n",
    "    vmax=VMAX,\n",
    "    axs_set=[\n",
    "        {\"title\": \"Storm Daniel precipitation\"},\n",
    "        {\"title\": \"Average precipitation in September\"},\n",
    "    ],\n",
    ")"
   ]
  },
  {
   "cell_type": "markdown",
   "id": "a3b844f2-eefb-419a-acfd-6d95148d6179",
   "metadata": {},
   "source": [
    "Finally, we want to compare the evolution of total cumulated precipitation over 2023 on a specific location in Greece hinterland hit by Storm Daniel, with the evolution of total cumulated precipitation over all years between 1991 and 2020 on the same location.\n",
    "\n",
    "The same considerations done before apply here."
   ]
  },
  {
   "cell_type": "code",
   "execution_count": null,
   "id": "cff9826c",
   "metadata": {},
   "outputs": [],
   "source": [
    "tp = ds.tp\n",
    "tp_location = ds.tp.sel(**LOCATION)\n",
    "tp_location"
   ]
  },
  {
   "cell_type": "code",
   "execution_count": null,
   "id": "3e0a2d0f-4706-434b-8489-7eceebd77850",
   "metadata": {},
   "outputs": [],
   "source": [
    "%%time\n",
    "\n",
    "tp_location = tp_location.compute()\n",
    "tp_location_year = tp_location.sel(valid_time=YEAR).groupby(\"valid_time.time\")[datetime.time()]\n",
    "tp_location_reference = tp_location.sel(valid_time=REFERENCE_PERIOD).groupby(\"valid_time.time\")[datetime.time()]"
   ]
  },
  {
   "cell_type": "markdown",
   "id": "02dc3de9-6f45-4f40-ba93-0cef67f6196d",
   "metadata": {},
   "source": [
    "Let's plot the results."
   ]
  },
  {
   "cell_type": "code",
   "execution_count": null,
   "id": "f64f2a30-b8d3-405c-b547-340b330929f7",
   "metadata": {},
   "outputs": [],
   "source": [
    "display.compare(tp_location_year, tp_location_reference, time=\"valid_time\", ylim=[0, 1600])"
   ]
  }
 ],
 "metadata": {
  "kernelspec": {
   "display_name": "Python 3 (ipykernel)",
   "language": "python",
   "name": "python3"
  },
  "language_info": {
   "codemirror_mode": {
    "name": "ipython",
    "version": 3
   },
   "file_extension": ".py",
   "mimetype": "text/x-python",
   "name": "python",
   "nbconvert_exporter": "python",
   "pygments_lexer": "ipython3",
   "version": "3.11.7"
  }
 },
 "nbformat": 4,
 "nbformat_minor": 5
}
