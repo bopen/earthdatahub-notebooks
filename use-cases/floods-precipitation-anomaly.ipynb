{
 "cells": [
  {
   "cell_type": "code",
   "execution_count": null,
   "id": "afcb7474",
   "metadata": {},
   "outputs": [],
   "source": [
    "# data access\n",
    "\n",
    "import xarray as xr"
   ]
  },
  {
   "cell_type": "code",
   "execution_count": null,
   "id": "7557c86a",
   "metadata": {},
   "outputs": [],
   "source": [
    "# visualisation\n",
    "\n",
    "import display"
   ]
  },
  {
   "cell_type": "code",
   "execution_count": null,
   "id": "cfa55df1-064d-4ce6-ad5a-1d514d8a0ae4",
   "metadata": {},
   "outputs": [],
   "source": [
    "reference_period = slice(\"1991\", \"2020\")\n",
    "\n",
    "events = {\n",
    "    \"italy-2023-05\": {\n",
    "        \"area\": {\"latitude\": slice(48, 34), \"longitude\": slice(5, 20)},\n",
    "        \"location\": {\"latitude\": 44.2, \"longitude\": 11.9, \"method\": \"nearest\"},\n",
    "        \"time\": [\"2023-05-17\", \"2023-05-18\"],\n",
    "        \"vmax\": 150,\n",
    "    },\n",
    "    \"greece-2023-09\": {\n",
    "        \"area\": {\"latitude\": slice(41, 34), \"longitude\": slice(19, 28)},\n",
    "        \"location\": {\"latitude\": 39.25, \"longitude\": 21.9, \"method\": \"nearest\"},\n",
    "        \"time\": [\"2023-09-06\", \"2023-09-07\"],\n",
    "        \"vmax\": 400,\n",
    "    },\n",
    "    \"pakistan-2022-06\": {\n",
    "        \"area\": {\"latitude\": slice(38, 23), \"longitude\": slice(60, 78)},\n",
    "        \"location\": {\"latitude\": 29, \"longitude\": 67, \"method\": \"nearest\"},\n",
    "        \"time\": [\"2022-08-23\", \"2022-08-24\", \"2022-08-25\", \"2022-08-26\", \"2022-08-27\", \"2022-08-28\", \"2022-08-29\", \"2022-08-30\"],\n",
    "        \"vmax\": 300,\n",
    "    },\n",
    "}\n",
    "\n",
    "selected_event = \"greece-2023-09\"\n",
    "\n",
    "area = events[selected_event][\"area\"]\n",
    "location = events[selected_event][\"location\"]\n",
    "time = events[selected_event][\"time\"]\n",
    "year, month = events[selected_event][\"time\"][0].split(\"-\")[:2]\n",
    "vmax = events[selected_event][\"vmax\"]"
   ]
  },
  {
   "cell_type": "code",
   "execution_count": null,
   "id": "ac0b2e1f",
   "metadata": {},
   "outputs": [],
   "source": [
    "# activate dask distributed\n",
    "#\n",
    "# import distributed\n",
    "# client = distributed.Client(\"tcp://dask-scheduler:8786\")\n",
    "# client"
   ]
  },
  {
   "cell_type": "code",
   "execution_count": null,
   "id": "75b8cf34",
   "metadata": {},
   "outputs": [],
   "source": [
    "# data access configuration\n",
    "\n",
    "dataset = \"s3://ecmwf-era5-land/reanalysis-era5-land-no-antartica-v0.zarr\""
   ]
  },
  {
   "cell_type": "code",
   "execution_count": null,
   "id": "7c2365fb",
   "metadata": {},
   "outputs": [],
   "source": [
    "ds = xr.open_dataset(dataset, chunks={}, engine=\"zarr\").astype(\"float32\")\n",
    "ds"
   ]
  },
  {
   "cell_type": "code",
   "execution_count": null,
   "id": "515a2608",
   "metadata": {},
   "outputs": [],
   "source": [
    "%%time\n",
    "\n",
    "days_ds = ds.sel(valid_time=time, **area)\n",
    "days_tp = days_ds.tp.sum(\"valid_time\").compute()"
   ]
  },
  {
   "cell_type": "markdown",
   "id": "74337099",
   "metadata": {},
   "source": [
    "CDS - ERA5 precipitation for 16 and 17 May 2023\n",
    "\n",
    "- **Time to retrieve form CDS: 2 s**\n",
    "- Number of fields: 48\n",
    "- Size of original data: 100 Mb\n",
    "- Size of downloaded data: 250 kb"
   ]
  },
  {
   "cell_type": "code",
   "execution_count": null,
   "id": "37869deb",
   "metadata": {},
   "outputs": [],
   "source": [
    "display.map(days_tp, vmax=vmax, title=\"Storm Daniel precipitation\")"
   ]
  },
  {
   "cell_type": "code",
   "execution_count": null,
   "id": "cce4fb6d",
   "metadata": {},
   "outputs": [],
   "source": [
    "%%time\n",
    "\n",
    "years = [\n",
    "    \"1991\", \"1992\", \"1993\",\n",
    "    \"1994\", \"1995\", \"1996\",\n",
    "    \"1997\", \"1998\", \"1999\",\n",
    "    \"2000\", \"2001\", \"2002\",\n",
    "    \"2003\", \"2004\", \"2005\",\n",
    "    \"2006\", \"2007\", \"2008\",\n",
    "    \"2009\", \"2010\", \"2011\",\n",
    "    \"2012\", \"2013\", \"2014\",\n",
    "    \"2015\", \"2016\", \"2017\",\n",
    "    \"2018\", \"2019\", \"2020\",\n",
    "]\n",
    "days = [\n",
    "    \"01\", \"02\", \"03\",\n",
    "    \"04\", \"05\", \"06\",\n",
    "    \"07\", \"08\", \"09\",\n",
    "    \"10\", \"11\", \"12\",\n",
    "    \"13\", \"14\", \"15\",\n",
    "    \"16\", \"17\", \"18\",\n",
    "    \"19\", \"20\", \"21\",\n",
    "    \"22\", \"23\", \"24\",\n",
    "    \"25\", \"26\", \"27\",\n",
    "    \"28\", \"29\", \"30\",\n",
    "]\n",
    "\n",
    "month_reference_time = [f\"{y}-{month}-{d}\" for y in years for d in days]\n",
    "\n",
    "month_reference_ds = ds.sel(valid_time=month_reference_time, **area)\n",
    "month_reference_tp = (month_reference_ds.tp.sum(\"valid_time\") / len(years)).compute()"
   ]
  },
  {
   "cell_type": "markdown",
   "id": "67b34fc0",
   "metadata": {},
   "source": [
    "CDS - ERA5 total precipitation for May 1990-2019\n",
    "\n",
    "- **Time to retrieve from CDS: 30 m**\n",
    "- Number of fields: 22,320\n",
    "- Size of original data: 46 Gb\n",
    "- Size of downloaded data: 115 Mb"
   ]
  },
  {
   "cell_type": "code",
   "execution_count": null,
   "id": "52bd5e21",
   "metadata": {},
   "outputs": [],
   "source": [
    "display.maps(\n",
    "    [days_tp, month_reference_tp],\n",
    "    vmax=vmax,\n",
    "    axs_set=[\n",
    "        {\"title\": \"Storm Daniel precipitation\"},\n",
    "        {\"title\": \"Average precipitation in September\"},\n",
    "    ],\n",
    ")"
   ]
  },
  {
   "cell_type": "code",
   "execution_count": null,
   "id": "cff9826c",
   "metadata": {},
   "outputs": [],
   "source": [
    "%%time\n",
    "\n",
    "import datetime\n",
    "\n",
    "location_year = ds.tp.sel(**location).sel(valid_time=year).groupby(\"valid_time.time\")[datetime.time()].compute()\n",
    "location_reference = ds.tp.sel(**location).sel(valid_time=reference_period).groupby(\"valid_time.time\")[datetime.time()].compute()\n",
    "location_reference"
   ]
  },
  {
   "cell_type": "markdown",
   "id": "f79fb38d",
   "metadata": {},
   "source": [
    "CDS - ERA5 precipitation for 1990-2023\n",
    "\n",
    "- **Time to retrieve form CDS: 7 h**\n",
    "- Number of fields: 300,000\n",
    "- Size of original data: 600 Gb\n",
    "- Size of downloaded data: 1.5 Gb"
   ]
  },
  {
   "cell_type": "code",
   "execution_count": null,
   "id": "2268b0f8",
   "metadata": {},
   "outputs": [],
   "source": [
    "%%time\n",
    "\n",
    "display.compare(location_year, location_reference, time=\"valid_time\", ylim=[0, 1600])"
   ]
  }
 ],
 "metadata": {
  "kernelspec": {
   "display_name": "Python 3 (ipykernel)",
   "language": "python",
   "name": "python3"
  },
  "language_info": {
   "codemirror_mode": {
    "name": "ipython",
    "version": 3
   },
   "file_extension": ".py",
   "mimetype": "text/x-python",
   "name": "python",
   "nbconvert_exporter": "python",
   "pygments_lexer": "ipython3",
   "version": "3.11.6"
  }
 },
 "nbformat": 4,
 "nbformat_minor": 5
}
