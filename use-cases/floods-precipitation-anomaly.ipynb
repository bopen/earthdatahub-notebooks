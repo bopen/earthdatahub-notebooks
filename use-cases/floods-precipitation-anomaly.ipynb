{
 "cells": [
  {
   "cell_type": "markdown",
   "id": "b0e5f65f-c407-4b76-bfc6-08163e482f99",
   "metadata": {},
   "source": [
    "# How to work with ERA5 land on Earth Data Hub"
   ]
  },
  {
   "cell_type": "markdown",
   "id": "9340306b-172d-4144-aeff-59fd0128af32",
   "metadata": {},
   "source": [
    "***\n",
    "This notebook will provide you guidance on how to access and use the `reanalysis-era5-land-no-antartica-v0.zarr` datset on Earth Data Hub.\n",
    "\n",
    "The first goal is to compute the total precipitation observed during the Storm Daniel event, from 6 to 7 September 2023, in Greece, and compare it with the average 1991-2020 precipitation in the same area.\n",
    "\n",
    "The second goal is to compare the 2023 cumulative precipitation on a specific location (Greece interland) with the cumulative precipitation of past years (1991-2022) for the same location.\n",
    "***\n",
    "\n",
    "## What you will learn:\n",
    "\n",
    "* how to access and preview the dataset\n",
    "* select and reduce the data\n",
    "* plot the results"
   ]
  },
  {
   "cell_type": "markdown",
   "id": "6545d036-1a5a-4849-b0ce-98925c0aae12",
   "metadata": {},
   "source": [
    "## Data access and preview\n",
    "***\n",
    "\n",
    "Xarray and Dask work together following a lazy principle. This means when you access and manipulate a Zarr store the data is in not immediately downloaded and loaded in memory. Instead, Dask constructs a task graph that represents the operations to be performed. A smart user will reduce the amount of data that needs to be downloaded before the computation takes place (e.g., when the `.compute()` or `.plot()` methods are called).\n",
    "\n",
    "To preview the data, only the dataset metadata must be downloaded. Xarray does this automatically:\n",
    "\n",
    "***"
   ]
  },
  {
   "cell_type": "code",
   "execution_count": null,
   "id": "7c2365fb",
   "metadata": {},
   "outputs": [],
   "source": [
    "import xarray as xr\n",
    "\n",
    "ds = xr.open_dataset(\n",
    "    \"s3://ecmwf-era5-land/reanalysis-era5-land-no-antartica-v0.zarr\", \n",
    "    chunks={}, \n",
    "    engine=\"zarr\"\n",
    ").astype(\"float32\")\n",
    "ds"
   ]
  },
  {
   "cell_type": "markdown",
   "id": "c2831260-83fd-40e9-bf8c-31803133da0e",
   "metadata": {},
   "source": [
    "## Working with data\n",
    "\n",
    "Datasets on EDH are typically very large and remotely hosted. Typical use imply a selection of the data followed by one or more reduction steps to be performed in a local or distributed Dask environment. \n",
    "\n",
    "The structure of a workflow that uses EDH data looks like this:\n",
    "1. data selection\n",
    "2. (optional) data reduction\n",
    "3. (optional) visualization"
   ]
  },
  {
   "cell_type": "markdown",
   "id": "54780609-3472-47a4-8d2b-6236b6b2e9b2",
   "metadata": {},
   "source": [
    "## Storm Daniel precipitation VS average September precipitation 1991-2022"
   ]
  },
  {
   "cell_type": "markdown",
   "id": "67d4d790-4fe5-4aaa-b1ac-9d5ee039d20e",
   "metadata": {},
   "source": [
    "### 1. Data selection\n",
    "\n",
    "First, we perform a geographical selection corresponding to the Greece area:"
   ]
  },
  {
   "cell_type": "code",
   "execution_count": null,
   "id": "515a2608",
   "metadata": {},
   "outputs": [],
   "source": [
    "tp = ds.tp\n",
    "tp_greece = tp.sel(**{\"latitude\": slice(41, 34), \"longitude\": slice(19, 28)})\n",
    "tp_greece"
   ]
  },
  {
   "cell_type": "markdown",
   "id": "15304d63-31d7-4504-9fbb-8e094ad23e52",
   "metadata": {},
   "source": [
    "Second, we further select only two days: september 6 and 7, 2023. This greatly reduces the amount of data that will be downloaded from EDH."
   ]
  },
  {
   "cell_type": "code",
   "execution_count": null,
   "id": "451522d5-cc9e-4fbf-9138-c96b0e58422c",
   "metadata": {},
   "outputs": [],
   "source": [
    "tp_greece_storm_daniel = tp_greece.sel(valid_time=[\"2023-09-06\", \"2023-09-07\"])\n",
    "tp_greece_storm_daniel"
   ]
  },
  {
   "cell_type": "markdown",
   "id": "9044acdf-8005-4b1e-a44b-3d07f7351f9f",
   "metadata": {},
   "source": [
    "At this point, the selection is small enough to call `.compute()` on it, which will trigger the download of the data and load it in memory. \n",
    "\n",
    "We can measure the time it takes:"
   ]
  },
  {
   "cell_type": "code",
   "execution_count": null,
   "id": "d3dd40a4-0862-48e9-b708-cd28d2a9793e",
   "metadata": {},
   "outputs": [],
   "source": [
    "%time\n",
    "\n",
    "tp_greece_storm_daniel = tp_greece_storm_daniel.compute()"
   ]
  },
  {
   "cell_type": "markdown",
   "id": "01f1f904-164f-4d7c-ba8d-1057f43308a9",
   "metadata": {},
   "source": [
    "The data was very small. This didn't take long!"
   ]
  },
  {
   "cell_type": "markdown",
   "id": "15ec1b72-df32-4952-b119-b7f0a62237ea",
   "metadata": {},
   "source": [
    "### 2. Data reduction\n",
    "\n",
    "Now that the data is loaded in memory, we can easily compute the total precipitation for the Storm Daniel event. We also convert the unit of measure to `mm`."
   ]
  },
  {
   "cell_type": "code",
   "execution_count": null,
   "id": "4e0a1540-98b6-4460-8b22-db63d7c8648f",
   "metadata": {},
   "outputs": [],
   "source": [
    "tp_greece_storm_daniel_sum = tp_greece_storm_daniel.sum(\"valid_time\")\n",
    "tp_greece_storm_daniel_sum\n",
    "tp_greece_storm_daniel_sum = tp_greece_storm_daniel_sum * 1000\n",
    "tp_greece_storm_daniel_sum.attrs[\"units\"] = \"mm\"\n",
    "tp_greece_storm_daniel_sum"
   ]
  },
  {
   "cell_type": "markdown",
   "id": "8385e60e-7cf4-46b1-a20d-af5e209240b0",
   "metadata": {},
   "source": [
    "### 3. Visualization\n",
    "Finally, we can plot the Storm Daniel event on a map:"
   ]
  },
  {
   "cell_type": "code",
   "execution_count": null,
   "id": "9ebbf756-8458-45bd-9232-5552ff1c5805",
   "metadata": {},
   "outputs": [],
   "source": [
    "import display\n",
    "display.map(tp_greece_storm_daniel_sum, vmax=400, title=\"Storm Daniel precipitation\")"
   ]
  },
  {
   "cell_type": "markdown",
   "id": "a4f56c3c-de01-4600-ae55-d606c17a09bf",
   "metadata": {},
   "source": [
    "We want to compare the total precipitation observed during Storm Daniel with the average precipitation observed in September between 1991 and 2020. \n",
    "\n",
    "The same considerations done before apply here. We will first select a subset of the dataset and then compute."
   ]
  },
  {
   "cell_type": "code",
   "execution_count": null,
   "id": "cce4fb6d",
   "metadata": {
    "scrolled": true
   },
   "outputs": [],
   "source": [
    "YEARS = [\n",
    "    \"1991\", \"1992\", \"1993\",\n",
    "    \"1994\", \"1995\", \"1996\",\n",
    "    \"1997\", \"1998\", \"1999\",\n",
    "    \"2000\", \"2001\", \"2002\",\n",
    "    \"2003\", \"2004\", \"2005\",\n",
    "    \"2006\", \"2007\", \"2008\",\n",
    "    \"2009\", \"2010\", \"2011\",\n",
    "    \"2012\", \"2013\", \"2014\",\n",
    "    \"2015\", \"2016\", \"2017\",\n",
    "    \"2018\", \"2019\", \"2020\",\n",
    "]\n",
    "DAYS = [\n",
    "    \"01\", \"02\", \"03\",\n",
    "    \"04\", \"05\", \"06\",\n",
    "    \"07\", \"08\", \"09\",\n",
    "    \"10\", \"11\", \"12\",\n",
    "    \"13\", \"14\", \"15\",\n",
    "    \"16\", \"17\", \"18\",\n",
    "    \"19\", \"20\", \"21\",\n",
    "    \"22\", \"23\", \"24\",\n",
    "    \"25\", \"26\", \"27\",\n",
    "    \"28\", \"29\", \"30\",\n",
    "]\n",
    "\n",
    "MONTH_REFERENCE_TIME = [f\"{y}-09-{d}\" for y in YEARS for d in DAYS]\n",
    "\n",
    "tp_greece_september_1991_2020 = tp_greece.sel(valid_time=MONTH_REFERENCE_TIME)\n",
    "tp_greece_september_1991_2020"
   ]
  },
  {
   "cell_type": "markdown",
   "id": "99f2a265-27c7-44a7-9086-d4a0cb364ea2",
   "metadata": {},
   "source": [
    "This is already small enough to call `.compute()` on it."
   ]
  },
  {
   "cell_type": "code",
   "execution_count": null,
   "id": "a26f17ac-fb7b-4382-8fab-729fb791915f",
   "metadata": {},
   "outputs": [],
   "source": [
    "%time\n",
    "\n",
    "tp_greece_september_1991_2020 = tp_greece_september_1991_2020.compute()"
   ]
  },
  {
   "cell_type": "markdown",
   "id": "8b634346-8567-463e-b5ba-dddf5c0e9e1d",
   "metadata": {},
   "source": [
    "Now that the data is loaded in memory, we can easily compute the average september total precipitation for the years 1991-2020. We also convert the unit of measure to `mm`:"
   ]
  },
  {
   "cell_type": "code",
   "execution_count": null,
   "id": "3e46d01e-d583-459c-8f07-193c8094fa94",
   "metadata": {},
   "outputs": [],
   "source": [
    "tp_greece_september_1991_2020_average = (tp_greece_september_1991_2020.sum(\"valid_time\") / len(YEARS))\n",
    "tp_greece_september_1991_2020_average\n",
    "tp_greece_september_1991_2020_average = tp_greece_september_1991_2020_average * 1000\n",
    "tp_greece_september_1991_2020_average.attrs[\"units\"] = \"mm\""
   ]
  },
  {
   "cell_type": "markdown",
   "id": "489b303d-c9f9-4a59-b49a-c5c78d5e6de2",
   "metadata": {},
   "source": [
    "Finally, we can plot the Storm Daniel event and the September 1991-2020 average side by side:"
   ]
  },
  {
   "cell_type": "code",
   "execution_count": null,
   "id": "52bd5e21",
   "metadata": {
    "scrolled": true
   },
   "outputs": [],
   "source": [
    "display.maps(\n",
    "    [tp_greece_storm_daniel_sum, tp_greece_september_1991_2020_average],\n",
    "    vmax=400,\n",
    "    axs_set=[\n",
    "        {\"title\": \"Storm Daniel precipitation\"},\n",
    "        {\"title\": \"Average precipitation in September\"},\n",
    "    ],\n",
    ")"
   ]
  },
  {
   "cell_type": "markdown",
   "id": "b423f66a-e524-4809-ae3d-0539e652c44d",
   "metadata": {},
   "source": [
    "## 2023 cumulative precipitation VS 1991-2022 comulated precipitation"
   ]
  },
  {
   "cell_type": "markdown",
   "id": "a3b844f2-eefb-419a-acfd-6d95148d6179",
   "metadata": {},
   "source": [
    "In this section we will compare the 2023 cumulative precipitation on a specific location in Greece with the cumulative precipitation of each year between 1991 and 2020 (same location)."
   ]
  },
  {
   "cell_type": "code",
   "execution_count": null,
   "id": "cff9826c",
   "metadata": {
    "scrolled": true
   },
   "outputs": [],
   "source": [
    "tp_hinterland_location = ds.tp.sel(**{\"latitude\": 39.25, \"longitude\": 21.9, \"method\": \"nearest\"})\n",
    "tp_hinterland_location"
   ]
  },
  {
   "cell_type": "markdown",
   "id": "41f1dbe1-c9fd-4e67-99f9-b1f81de08831",
   "metadata": {},
   "source": [
    "This is already small enought to be computed:"
   ]
  },
  {
   "cell_type": "code",
   "execution_count": null,
   "id": "c9190f9c-9ea2-4301-ad2a-75b4e82ffd32",
   "metadata": {},
   "outputs": [],
   "source": [
    "%%time\n",
    "\n",
    "tp_hinterland_location = tp_hinterland_location.compute()"
   ]
  },
  {
   "cell_type": "markdown",
   "id": "26b57ec7-52c4-46f8-b9e8-f7cfb84f1cdc",
   "metadata": {},
   "source": [
    "With the data already loaded in memory, we can easily select the total daily precipitation (time 00:00) for each  day of the year:"
   ]
  },
  {
   "cell_type": "code",
   "execution_count": null,
   "id": "3e0a2d0f-4706-434b-8489-7eceebd77850",
   "metadata": {},
   "outputs": [],
   "source": [
    "import datetime\n",
    "tp_hinterland_location_daily_total_2023 = tp_hinterland_location.sel(valid_time=\"2023\").groupby(\"valid_time.time\")[datetime.time()]\n",
    "tp_hinterland_location_daily_total_1991_2022 = tp_hinterland_location.sel(valid_time=slice(\"1991\", \"2020\")).groupby(\"valid_time.time\")[datetime.time()]"
   ]
  },
  {
   "cell_type": "markdown",
   "id": "02dc3de9-6f45-4f40-ba93-0cef67f6196d",
   "metadata": {},
   "source": [
    "Using the `display.compare()` method we can plot the cumulative precipitation for all the years between 1991 and 2022 (mean curve in red) and the cumulative precipitation for the year 2023 up to the 31 of October (blue curve)"
   ]
  },
  {
   "cell_type": "code",
   "execution_count": null,
   "id": "f64f2a30-b8d3-405c-b547-340b330929f7",
   "metadata": {},
   "outputs": [],
   "source": [
    "display.compare(tp_hinterland_location_daily_total_2023, tp_hinterland_location_daily_total_1991_2022, time=\"valid_time\", ylim=[0, 1600])"
   ]
  }
 ],
 "metadata": {
  "kernelspec": {
   "display_name": "Python 3 (ipykernel)",
   "language": "python",
   "name": "python3"
  },
  "language_info": {
   "codemirror_mode": {
    "name": "ipython",
    "version": 3
   },
   "file_extension": ".py",
   "mimetype": "text/x-python",
   "name": "python",
   "nbconvert_exporter": "python",
   "pygments_lexer": "ipython3",
   "version": "3.11.7"
  }
 },
 "nbformat": 4,
 "nbformat_minor": 5
}
