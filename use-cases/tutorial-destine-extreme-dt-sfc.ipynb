{
 "cells": [
  {
   "cell_type": "markdown",
   "id": "f86a0527-9195-422d-a44f-52bfb5be41ae",
   "metadata": {},
   "source": [
    "# How to work with Weather-Induced Extremes Digital Twin data on Earth Data Hub"
   ]
  },
  {
   "cell_type": "markdown",
   "id": "f6c2f1e3-b936-419b-ae10-aeb000082d03",
   "metadata": {
    "execution": {
     "iopub.execute_input": "2024-01-05T16:27:30.942568Z",
     "iopub.status.busy": "2024-01-05T16:27:30.941820Z",
     "iopub.status.idle": "2024-01-05T16:27:30.953114Z",
     "shell.execute_reply": "2024-01-05T16:27:30.950996Z",
     "shell.execute_reply.started": "2024-01-05T16:27:30.942515Z"
    },
    "jp-MarkdownHeadingCollapsed": true
   },
   "source": [
    "***\n",
    "This notebook will provide you guidance on how to access and use the `2024-03-08-i7yv-oper-sfc-v0.zarr` datset on Earth Data Hub. This is a sample dataset for the Weather-Induced Extremes Digital Twin.\n",
    "\n",
    "Our first goal is to plot the forcasted 2 metre temperature over central Europe on March 08 2024, specifically the first six forcast steps after the reference forcast datetime 2024-03-08T00:00.\n",
    "\n",
    "After that, we will plot a longer timeseries with all forecast steps for the city of Berlin.\n",
    "***\n",
    "\n",
    "## What you will learn:\n",
    "\n",
    "* how to access and preview the dataset\n",
    "* select and reduce the data\n",
    "* plot the results"
   ]
  },
  {
   "cell_type": "markdown",
   "id": "662cfb99-a672-46f2-8345-3840eb39e8b0",
   "metadata": {
    "execution": {
     "iopub.execute_input": "2024-01-08T18:02:14.626875Z",
     "iopub.status.busy": "2024-01-08T18:02:14.608970Z",
     "iopub.status.idle": "2024-01-08T18:02:14.662440Z",
     "shell.execute_reply": "2024-01-08T18:02:14.644714Z",
     "shell.execute_reply.started": "2024-01-08T18:02:14.626767Z"
    }
   },
   "source": [
    "## Data access and preview\n",
    "***\n",
    "\n",
    "Xarray and Dask work together following a lazy principle. This means when you access and manipulate a Zarr store the data is in not immediately downloaded and loaded in memory. Instead, Dask constructs a task graph that represents the operations to be performed. A smart user will reduce the amount of data that needs to be downloaded before the computation takes place (e.g., when the `.compute()` or `.plot()` methods are called).\n",
    "\n",
    "To preview the data, only the dataset metadata must be downloaded. Xarray does this automatically:\n",
    "\n",
    "***"
   ]
  },
  {
   "cell_type": "code",
   "execution_count": null,
   "id": "69c8b47d-f097-405b-b8e5-e1e5b4d98c99",
   "metadata": {},
   "outputs": [],
   "source": [
    "import xarray as xr\n",
    "\n",
    "# your `~/.netrc` file MUST contain your credentials for earthdatahub.com\n",
    "#\n",
    "# machine earthdatahub.com\n",
    "#   login {your_username}\n",
    "#   password {your_password}\n",
    "\n",
    "ds = xr.open_dataset(\n",
    "    \"https://earthdatahub.com/stores/destine-extreme-dt/2024-03-08-i7yv-oper-sfc-v0.zarr\",\n",
    "    engine=\"zarr\",\n",
    "    chunks={},\n",
    "    storage_options={\"client_kwargs\": {\"trust_env\": \"true\"}},\n",
    ")\n",
    "ds"
   ]
  },
  {
   "cell_type": "markdown",
   "id": "508e5996-704e-43be-a5a1-464a88a38177",
   "metadata": {},
   "source": [
    "## Working with data\n",
    "\n",
    "Datasets on EDH are typically very large and remotely hosted. Typical use imply a selection of the data followed by one or more reduction steps to be performed in a local or distributed Dask environment. \n",
    "\n",
    "The structure of a workflow that uses EDH data looks like this:\n",
    "1. data selection\n",
    "2. (optional) data reduction\n",
    "3. (optional) visualization"
   ]
  },
  {
   "cell_type": "markdown",
   "id": "e069fe0a-5467-4e35-b5c5-0da5a16c242b",
   "metadata": {},
   "source": [
    "## 2 metre temperature over central Europe"
   ]
  },
  {
   "cell_type": "markdown",
   "id": "0aaa3978-1278-49f9-bca7-a7c71043f927",
   "metadata": {},
   "source": [
    "### 1. Data selection\n",
    "\n",
    "First, we select the 2 metre temperature variable from the Extremes DT sample dataset. Then, we perform a geographical selection corresponding to the central Europe area. This reduces the amount of data that will be downloaded from EDH. Finally we convert the temperature to `°C`."
   ]
  },
  {
   "cell_type": "code",
   "execution_count": null,
   "id": "73fcc9e4-faf9-4599-ad5d-6a96977bceb2",
   "metadata": {},
   "outputs": [],
   "source": [
    "t2m_central_europe = ds.t2m.sel(**{\"latitude\": slice(55, 45), \"longitude\": slice(2, 24)}) - 273.15\n",
    "t2m_central_europe.attrs[\"units\"] = \"C\"\n",
    "t2m_central_europe"
   ]
  },
  {
   "cell_type": "markdown",
   "id": "2c4814c6-a09c-4eca-a8f0-60db9d1dab4e",
   "metadata": {
    "execution": {
     "iopub.execute_input": "2024-01-12T16:15:36.087023Z",
     "iopub.status.busy": "2024-01-12T16:15:36.085688Z",
     "iopub.status.idle": "2024-01-12T16:15:36.103549Z",
     "shell.execute_reply": "2024-01-12T16:15:36.100839Z",
     "shell.execute_reply.started": "2024-01-12T16:15:36.086965Z"
    },
    "jp-MarkdownHeadingCollapsed": true
   },
   "source": [
    "At this point, no data has been downloaded yet, nor loaded in memory.\n",
    "\n",
    "We can select the forecast steps."
   ]
  },
  {
   "cell_type": "code",
   "execution_count": null,
   "id": "0269ea63-b7f8-4326-92df-de13d191bbb9",
   "metadata": {},
   "outputs": [],
   "source": [
    "t2m_central_europe_0_6 = t2m_central_europe.isel(step=slice(0,24))\n",
    "t2m_central_europe_0_6"
   ]
  },
  {
   "cell_type": "markdown",
   "id": "acc9c17c-e1aa-4b33-a8d1-9cf69700fbe5",
   "metadata": {},
   "source": [
    "Now the selection is small enough to call `.compute()` on it. This will trigger the download of the data from EDH and load it in memory. \n",
    "\n",
    "We can measure the time it takes:"
   ]
  },
  {
   "cell_type": "code",
   "execution_count": null,
   "id": "c96b0a72-d93f-428e-9479-f87813cf6e70",
   "metadata": {},
   "outputs": [],
   "source": [
    "%%time\n",
    "\n",
    "t2m_central_europe_0_6.compute();"
   ]
  },
  {
   "cell_type": "markdown",
   "id": "4fc9b8fb-e7b4-468c-8045-a36b415f6d26",
   "metadata": {},
   "source": [
    "The selection was small, this didn't tale long!"
   ]
  },
  {
   "cell_type": "markdown",
   "id": "3da267f1-00a2-4cb2-8b25-7a2464588ea2",
   "metadata": {},
   "source": [
    "### 3. Visualization\n",
    "\n",
    "We can finally plot the selected forecast steps on a series of maps"
   ]
  },
  {
   "cell_type": "code",
   "execution_count": null,
   "id": "2e2f1051-7654-4ada-8139-5a8f4fb6691e",
   "metadata": {},
   "outputs": [],
   "source": [
    "valid_times = t2m_central_europe_0_6.step.values + t2m_central_europe_0_6.time.values\n",
    "t2m_central_europe_0_6.assign_coords(step=valid_times).rename({\"step\":\"valid_time\"}).plot(x=\"longitude\", y=\"latitude\", col=\"valid_time\", col_wrap=3)"
   ]
  },
  {
   "cell_type": "markdown",
   "id": "ea2bcf3a-e525-408a-ae3f-c0ede5ee1bae",
   "metadata": {},
   "source": [
    "## 2 metre temperature over Berlin, long timeseries"
   ]
  },
  {
   "cell_type": "markdown",
   "id": "03640914-ed18-42de-9f30-b53ea8c14961",
   "metadata": {},
   "source": [
    "We want to plot a longer timeseries for the forcasted 2 metre temperature over Berlin. We select the nearest values to Berlin and convert them to `°C`."
   ]
  },
  {
   "cell_type": "code",
   "execution_count": null,
   "id": "6ff9fc76-05ab-4563-9038-4a92711a91b5",
   "metadata": {},
   "outputs": [],
   "source": [
    "t2m_Berlin = ds.t2m.sel(**{\"latitude\": 52.5, \"longitude\": 13.4}, method=\"nearest\") - 273.15\n",
    "t2m_Berlin.attrs[\"units\"] = \"C\"\n",
    "t2m_Berlin"
   ]
  },
  {
   "cell_type": "markdown",
   "id": "a35bb99e-fde3-480f-8ea5-7cc0f97deab7",
   "metadata": {},
   "source": [
    "This is already small enought to be computed:"
   ]
  },
  {
   "cell_type": "code",
   "execution_count": null,
   "id": "3b9d9f4f-e1bf-409c-acc1-0a60befff9fb",
   "metadata": {},
   "outputs": [],
   "source": [
    "%%time\n",
    "\n",
    "t2m_Berlin.compute();"
   ]
  },
  {
   "cell_type": "markdown",
   "id": "ac0d9ea4-b7d2-43d4-bf00-3cff81f02127",
   "metadata": {},
   "source": [
    "Now that the data is loaded in memory we can easily plot the entire timeseries up to forecast step 95"
   ]
  },
  {
   "cell_type": "code",
   "execution_count": null,
   "id": "f444dd4f-d017-4a7a-8b1e-bcb08a45b983",
   "metadata": {},
   "outputs": [],
   "source": [
    "import matplotlib.pyplot as plt\n",
    "\n",
    "valid_times = t2m_Berlin.step.values + t2m_Berlin.time.values\n",
    "t2m_Berlin.assign_coords(step=valid_times).rename({\"step\":\"valid_time\"}).plot()\n",
    "plt.title(\"2 metre temperature forecast in Berlin\\nforecast time: 2024-03-08T00:00\")\n",
    "plt.xlabel(\"Month\")\n",
    "plt.ylabel(\"2 metre Temperature [°C]\")\n",
    "plt.grid(alpha=0.3)\n",
    "plt.show()"
   ]
  },
  {
   "cell_type": "code",
   "execution_count": null,
   "id": "4748d081-5fda-4637-8e60-d699d7f4a6af",
   "metadata": {},
   "outputs": [],
   "source": []
  }
 ],
 "metadata": {
  "kernelspec": {
   "display_name": "Python 3 (ipykernel)",
   "language": "python",
   "name": "python3"
  },
  "language_info": {
   "codemirror_mode": {
    "name": "ipython",
    "version": 3
   },
   "file_extension": ".py",
   "mimetype": "text/x-python",
   "name": "python",
   "nbconvert_exporter": "python",
   "pygments_lexer": "ipython3",
   "version": "3.11.8"
  }
 },
 "nbformat": 4,
 "nbformat_minor": 5
}
