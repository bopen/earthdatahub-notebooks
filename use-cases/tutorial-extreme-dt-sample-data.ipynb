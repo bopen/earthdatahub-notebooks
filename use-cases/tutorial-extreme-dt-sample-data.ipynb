{
 "cells": [
  {
   "cell_type": "markdown",
   "id": "f86a0527-9195-422d-a44f-52bfb5be41ae",
   "metadata": {},
   "source": [
    "# How to work with Weather Extremes Digital Twin data on Earth Data Hub"
   ]
  },
  {
   "cell_type": "markdown",
   "id": "f6c2f1e3-b936-419b-ae10-aeb000082d03",
   "metadata": {
    "execution": {
     "iopub.execute_input": "2024-01-05T16:27:30.942568Z",
     "iopub.status.busy": "2024-01-05T16:27:30.941820Z",
     "iopub.status.idle": "2024-01-05T16:27:30.953114Z",
     "shell.execute_reply": "2024-01-05T16:27:30.950996Z",
     "shell.execute_reply.started": "2024-01-05T16:27:30.942515Z"
    },
    "jp-MarkdownHeadingCollapsed": true
   },
   "source": [
    "***\n",
    "This notebook will provide you guidance on how to access and use the `s3://destine-extreme-dt/destine-extreme-dt-sample.zarr` datset on Earth Data Hub.\n",
    "\n",
    "Our goal is to plot the surface presssure in central Europe on January 10 2024.\n",
    "***\n",
    "\n",
    "## What you will learn:\n",
    "\n",
    "* how to access and preview the dataset\n",
    "* select and reduce the data\n",
    "* plot the results"
   ]
  },
  {
   "cell_type": "markdown",
   "id": "662cfb99-a672-46f2-8345-3840eb39e8b0",
   "metadata": {
    "execution": {
     "iopub.execute_input": "2024-01-08T18:02:14.626875Z",
     "iopub.status.busy": "2024-01-08T18:02:14.608970Z",
     "iopub.status.idle": "2024-01-08T18:02:14.662440Z",
     "shell.execute_reply": "2024-01-08T18:02:14.644714Z",
     "shell.execute_reply.started": "2024-01-08T18:02:14.626767Z"
    }
   },
   "source": [
    "## Data access and preview\n",
    "***\n",
    "\n",
    "Xarray and Dask work together following a lazy principle. This means when you access and manipulate a Zarr store the data is in not immediately downloaded and loaded in memory. Instead, Dask constructs a task graph that represents the operations to be performed. A smart user will reduce the amount of data that needs to be downloaded before the computation takes place (e.g., when the `.compute()` or `.plot()` methods are called).\n",
    "\n",
    "To preview the data, only the dataset metadata must be downloaded. Xarray does this automatically:\n",
    "\n",
    "***"
   ]
  },
  {
   "cell_type": "code",
   "execution_count": null,
   "id": "69c8b47d-f097-405b-b8e5-e1e5b4d98c99",
   "metadata": {
    "scrolled": true
   },
   "outputs": [],
   "source": [
    "import xarray as xr\n",
    "\n",
    "# your `~/.netrc` file MUST contain your credentials for earthdatahub.com\n",
    "#\n",
    "# machine earthdatahub.com\n",
    "#   login {your_username}\n",
    "#   password {your_password}\n",
    "\n",
    "ds = xr.open_dataset(\n",
    "    \"https://earthdatahub.com/stores/destine-extreme-dt/destine-extreme-dt-sample.zarr\",\n",
    "    chunks={},\n",
    "    engine=\"zarr\",\n",
    "    storage_options={\"client_kwargs\": {\"trust_env\": True}},\n",
    ")\n",
    "ds"
   ]
  },
  {
   "cell_type": "markdown",
   "id": "508e5996-704e-43be-a5a1-464a88a38177",
   "metadata": {},
   "source": [
    "## Working with data\n",
    "\n",
    "Datasets on EDH are typically very large and remotely hosted. Typical use imply a selection of the data followed by one or more reduction steps to be performed in a local or distributed Dask environment. \n",
    "\n",
    "The structure of a workflow that uses EDH data looks like this:\n",
    "1. data selection\n",
    "2. (optional) data reduction\n",
    "3. (optional) visualization"
   ]
  },
  {
   "cell_type": "markdown",
   "id": "e069fe0a-5467-4e35-b5c5-0da5a16c242b",
   "metadata": {},
   "source": [
    "## Surface pressure over central Europe on the first of March 1990"
   ]
  },
  {
   "cell_type": "markdown",
   "id": "0aaa3978-1278-49f9-bca7-a7c71043f927",
   "metadata": {},
   "source": [
    "### 1. Data selection\n",
    "\n",
    "First, we select the surface pressure variable from the climate dt sample dataset. Then, we perform a geographical selection corresponding to the central Europe area. This reduces the amount of data that will be downloaded from EDH."
   ]
  },
  {
   "cell_type": "code",
   "execution_count": null,
   "id": "73fcc9e4-faf9-4599-ad5d-6a96977bceb2",
   "metadata": {},
   "outputs": [],
   "source": [
    "sp = ds.sp\n",
    "sp_central_europe = sp.sel(**{\"latitude\": slice(55, 45), \"longitude\": slice(2, 24)})\n",
    "sp_central_europe"
   ]
  },
  {
   "cell_type": "markdown",
   "id": "2c4814c6-a09c-4eca-a8f0-60db9d1dab4e",
   "metadata": {
    "execution": {
     "iopub.execute_input": "2024-01-12T16:15:36.087023Z",
     "iopub.status.busy": "2024-01-12T16:15:36.085688Z",
     "iopub.status.idle": "2024-01-12T16:15:36.103549Z",
     "shell.execute_reply": "2024-01-12T16:15:36.100839Z",
     "shell.execute_reply.started": "2024-01-12T16:15:36.086965Z"
    }
   },
   "source": [
    "At this point, no data has been downloaded yet, nor loaded in memory. However, the selection is small enough to call `.compute()` on it. This will trigger the download of data from EDH and load it in memory. \n",
    "\n",
    "We can measure the time it takes:"
   ]
  },
  {
   "cell_type": "code",
   "execution_count": null,
   "id": "8c0ade0a-7834-4339-ac4f-b3e9ef39339e",
   "metadata": {},
   "outputs": [],
   "source": [
    "%%time\n",
    "\n",
    "sp_central_europe = sp_central_europe.compute()"
   ]
  },
  {
   "cell_type": "markdown",
   "id": "b5abeb90-d323-488b-bd17-32e4a684d794",
   "metadata": {},
   "source": [
    "The selection was small, this didn't take long!"
   ]
  },
  {
   "cell_type": "markdown",
   "id": "ea2bcf3a-e525-408a-ae3f-c0ede5ee1bae",
   "metadata": {},
   "source": [
    "### 3. Visualization"
   ]
  },
  {
   "cell_type": "markdown",
   "id": "03640914-ed18-42de-9f30-b53ea8c14961",
   "metadata": {},
   "source": [
    "We can plot the surface presssure in central Europe on January 10 2024:"
   ]
  },
  {
   "cell_type": "code",
   "execution_count": null,
   "id": "730d7b47-d548-4e28-8bbf-6cf642fe7cc5",
   "metadata": {},
   "outputs": [],
   "source": [
    "from cartopy import crs, feature\n",
    "import matplotlib.pyplot as plt\n",
    "\n",
    "_, ax = plt.subplots(figsize=(6, 6), subplot_kw={\"projection\": crs.Miller()})\n",
    "sp_central_europe.plot(\n",
    "    ax=ax, \n",
    "    cmap=\"YlOrRd\", \n",
    "    transform=crs.PlateCarree(), \n",
    "    cbar_kwargs={\"orientation\": \"horizontal\", \"pad\": 0.05, \"aspect\": 40, \"label\": \"Surface pressure [Pa]\"},\n",
    ")\n",
    "ax.coastlines()\n",
    "ax.add_feature(feature.BORDERS)\n",
    "ax.set_title(\"Surface Pressure 10-01-2024\")\n",
    "plt.show()"
   ]
  }
 ],
 "metadata": {
  "kernelspec": {
   "display_name": "Python 3 (ipykernel)",
   "language": "python",
   "name": "python3"
  },
  "language_info": {
   "codemirror_mode": {
    "name": "ipython",
    "version": 3
   },
   "file_extension": ".py",
   "mimetype": "text/x-python",
   "name": "python",
   "nbconvert_exporter": "python",
   "pygments_lexer": "ipython3",
   "version": "3.11.6"
  }
 },
 "nbformat": 4,
 "nbformat_minor": 5
}
