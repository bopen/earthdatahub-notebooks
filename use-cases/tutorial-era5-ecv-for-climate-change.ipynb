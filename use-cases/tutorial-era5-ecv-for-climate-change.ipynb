{
 "cells": [
  {
   "cell_type": "markdown",
   "id": "ffd2ed95-2962-4e1e-8e2c-1671f0cadb67",
   "metadata": {},
   "source": [
    "# How to work with ERA5 Essential Climate Variables on Earth Data Hub\n",
    "### Climatological analysis of temperature in Germany"
   ]
  },
  {
   "cell_type": "markdown",
   "id": "d876a60d-c381-431f-8b56-d82d6e68ecca",
   "metadata": {
    "execution": {
     "iopub.execute_input": "2024-01-05T16:27:30.942568Z",
     "iopub.status.busy": "2024-01-05T16:27:30.941820Z",
     "iopub.status.idle": "2024-01-05T16:27:30.953114Z",
     "shell.execute_reply": "2024-01-05T16:27:30.950996Z",
     "shell.execute_reply.started": "2024-01-05T16:27:30.942515Z"
    }
   },
   "source": [
    "***\n",
    "This notebook will provide you guidance on how to access and use the `ecv-for-climate-change-1979-2023.zarr` datset on Earth Data Hub.\n",
    "\n",
    "The first goal is to compute the 2 metre temperature anomaly in Winter 2022 over Central Europe.\n",
    "\n",
    "The second goal is show the winter anomaly trend, for the available time period, by averaging the anomaly over the selected area.\n",
    "***\n",
    "\n",
    "## What you will learn:\n",
    "\n",
    "* how to access and preview the dataset\n",
    "* select and reduce the data\n",
    "* plot the results"
   ]
  },
  {
   "cell_type": "markdown",
   "id": "f352e223-34e0-4e20-88c7-40e7a565bf66",
   "metadata": {
    "execution": {
     "iopub.execute_input": "2024-01-08T18:02:14.626875Z",
     "iopub.status.busy": "2024-01-08T18:02:14.608970Z",
     "iopub.status.idle": "2024-01-08T18:02:14.662440Z",
     "shell.execute_reply": "2024-01-08T18:02:14.644714Z",
     "shell.execute_reply.started": "2024-01-08T18:02:14.626767Z"
    }
   },
   "source": [
    "## Data access and preview\n",
    "***\n",
    "\n",
    "Xarray and Dask work together following a lazy principle. This means when you access and manipulate a Zarr store the data is in not immediately downloaded and loaded in memory. Instead, Dask constructs a task graph that represents the operations to be performed. A smart user will reduce the amount of data that needs to be downloaded before the computation takes place (e.g., when the `.compute()` or `.plot()` methods are called).\n",
    "\n",
    "To preview the data, only the dataset metadata must be downloaded. Xarray does this automatically:\n",
    "\n",
    "***"
   ]
  },
  {
   "cell_type": "code",
   "execution_count": null,
   "id": "ae7e877a-ab49-4280-8fdd-4aa40ca6a3d8",
   "metadata": {},
   "outputs": [],
   "source": [
    "import xarray as xr\n",
    "\n",
    "# your `~/.netrc` file MUST contain your credentials for earthdatahub.com\n",
    "#\n",
    "# machine earthdatahub.com\n",
    "#   login {your_username}\n",
    "#   password {your_password}\n",
    "\n",
    "ds = xr.open_dataset(\n",
    "    \"https://earthdatahub.com/stores/hedp/era5/ecv-for-climate-change-1979-2023.zarr\",\n",
    "    chunks={},\n",
    "    engine=\"zarr\",\n",
    "    storage_options={\"client_kwargs\": {\"trust_env\": True}},\n",
    ")\n",
    "ds"
   ]
  },
  {
   "cell_type": "markdown",
   "id": "023469bd-f4b1-4761-aaf1-e64490601446",
   "metadata": {
    "jp-MarkdownHeadingCollapsed": true
   },
   "source": [
    "## Working with data\n",
    "\n",
    "Datasets on EDH are typically very large and remotely hosted. Typical use imply a selection of the data followed by one or more reduction steps to be performed in a local or distributed Dask environment. \n",
    "\n",
    "The structure of a workflow that uses EDH data looks like this:\n",
    "1. data selection\n",
    "2. (optional) data reduction\n",
    "3. (optional) visualization"
   ]
  },
  {
   "cell_type": "markdown",
   "id": "6266ba11-3a44-4c5b-be6a-9dcf5867ad07",
   "metadata": {},
   "source": [
    "## 2 metre temperature: central Europe winter 2022 anomaly"
   ]
  },
  {
   "cell_type": "markdown",
   "id": "c6485a64-5b6f-41e9-a358-d7acb645ab7d",
   "metadata": {},
   "source": [
    "### 1. Data selection\n",
    "\n",
    "First, we select the 2 metre temperature anomaly from the ECV dataset. Then, we perform a geographical selection corresponding to the central Europe area. This greatly reduces the amount of data that will be downloaded from EDH."
   ]
  },
  {
   "cell_type": "code",
   "execution_count": null,
   "id": "0209ab25-6c99-4cc5-9424-c3e3b4c4de99",
   "metadata": {},
   "outputs": [],
   "source": [
    "t2m_anomaly = ds.t2m\n",
    "t2m_anomaly_central_europe = t2m_anomaly.sel(**{\"latitude\": slice(55, 45), \"longitude\": slice(2, 24)})\n",
    "t2m_anomaly_central_europe"
   ]
  },
  {
   "cell_type": "markdown",
   "id": "d693318e-6f87-4a0c-9165-cc157612b112",
   "metadata": {
    "execution": {
     "iopub.execute_input": "2024-01-12T16:15:36.087023Z",
     "iopub.status.busy": "2024-01-12T16:15:36.085688Z",
     "iopub.status.idle": "2024-01-12T16:15:36.103549Z",
     "shell.execute_reply": "2024-01-12T16:15:36.100839Z",
     "shell.execute_reply.started": "2024-01-12T16:15:36.086965Z"
    }
   },
   "source": [
    "At this point, no data has been downloaded yet, nor loaded in memory. However, the selection is small enough to call `.compute()` on it. This will trigger the download of data from EDH and load it in memory. \n",
    "\n",
    "We can measure the time it takes:"
   ]
  },
  {
   "cell_type": "code",
   "execution_count": null,
   "id": "9379b642-f382-4fc8-a087-0c35fbc2f1cc",
   "metadata": {},
   "outputs": [],
   "source": [
    "%%time\n",
    "\n",
    "t2m_anomaly_central_europe = t2m_anomaly_central_europe.compute()"
   ]
  },
  {
   "cell_type": "markdown",
   "id": "1cfc1c32-4228-40e0-9753-e9fed73bf1a1",
   "metadata": {},
   "source": [
    "The selection was small, this didn't take long!"
   ]
  },
  {
   "cell_type": "markdown",
   "id": "9f3a0c2c-23fc-4cf6-a1a8-5b4cd29045d6",
   "metadata": {
    "execution": {
     "iopub.execute_input": "2024-01-08T12:06:15.865654Z",
     "iopub.status.busy": "2024-01-08T12:06:15.865172Z",
     "iopub.status.idle": "2024-01-08T12:06:15.922646Z",
     "shell.execute_reply": "2024-01-08T12:06:15.913684Z",
     "shell.execute_reply.started": "2024-01-08T12:06:15.865616Z"
    }
   },
   "source": [
    "### 2. Data reduction\n",
    "\n",
    "Now that the data is loaded in memory, we can easily compute the average 2 metre temperature anomaly by season:"
   ]
  },
  {
   "cell_type": "code",
   "execution_count": null,
   "id": "ff1ec496-e06b-4941-b31c-441008eee584",
   "metadata": {},
   "outputs": [],
   "source": [
    "t2m_anomaly_central_europe_seasonal_mean = t2m_anomaly_central_europe.resample(time=\"QS-DEC\").mean(dim=\"time\")"
   ]
  },
  {
   "cell_type": "markdown",
   "id": "1a54f31b-9837-4172-b7d4-b29e2c45bd05",
   "metadata": {},
   "source": [
    "And the winter 2022 anomaly:"
   ]
  },
  {
   "cell_type": "code",
   "execution_count": null,
   "id": "af3c79b3-8430-4990-b77b-8c69487435c7",
   "metadata": {},
   "outputs": [],
   "source": [
    "t2m_anomaly_central_europe_winter_2022_mean = t2m_anomaly_central_europe_seasonal_mean.sel(time=f\"2022-{12}\")"
   ]
  },
  {
   "cell_type": "markdown",
   "id": "5d1b90cf-17bd-433c-b2aa-d4fdd2c4ab60",
   "metadata": {},
   "source": [
    "### 3. Visualization"
   ]
  },
  {
   "cell_type": "markdown",
   "id": "896ef114-b3b0-42db-b308-1e4b745a6fd4",
   "metadata": {},
   "source": [
    "We can plot the average winter 2022 anomaly on a map:"
   ]
  },
  {
   "cell_type": "code",
   "execution_count": null,
   "id": "ba8c8148-0bc8-4c15-8b95-f2935a0f1d50",
   "metadata": {
    "scrolled": true
   },
   "outputs": [],
   "source": [
    "from cartopy import crs, feature\n",
    "import matplotlib.pyplot as plt\n",
    "\n",
    "_, ax = plt.subplots(\n",
    "    figsize=(6, 6),\n",
    "    subplot_kw={\"projection\": crs.Miller()},\n",
    ")\n",
    "t2m_anomaly_central_europe_winter_2022_mean.plot(\n",
    "    ax=ax, \n",
    "    cmap=\"YlOrRd\", \n",
    "    transform=crs.PlateCarree(), \n",
    "    cbar_kwargs={\"orientation\": \"horizontal\", \"pad\": 0.05, \"aspect\": 40, \"label\": \"Surface Temperature anomaly [C]\"},\n",
    ")\n",
    "ax.coastlines()\n",
    "ax.add_feature(feature.BORDERS)\n",
    "ax.set_title(\"Surface Temperature anomaly - Winter 2022\")\n",
    "plt.show()"
   ]
  },
  {
   "cell_type": "markdown",
   "id": "4a56c1a8-4f6f-47b1-9417-47452d27955a",
   "metadata": {},
   "source": [
    "## 2 metre temperature: central Europe winter anomaly trend (spatial mean)"
   ]
  },
  {
   "cell_type": "markdown",
   "id": "64d37b18-ac56-455e-89a1-4a4c8e67bb36",
   "metadata": {},
   "source": [
    "We want to compute the average 2 metre temperature anomaly trend over Central Europe in winter. We already have `t2m_anomaly_central_europe` loaded in memory, we average it by seson and region:"
   ]
  },
  {
   "cell_type": "code",
   "execution_count": null,
   "id": "7cec8215-c12f-498d-8eb3-2d1aef0ae7b0",
   "metadata": {
    "scrolled": true
   },
   "outputs": [],
   "source": [
    "t2m_anomaly_central_europe_seasonal_and_spatial_mean = t2m_anomaly_central_europe.resample(time=\"QS-DEC\").mean(dim=[\"time\", \"latitude\", \"longitude\"])\n",
    "t2m_anomaly_central_europe_seasonal_and_spatial_mean"
   ]
  },
  {
   "cell_type": "markdown",
   "id": "e8c05c80-0378-42ff-9360-4fd66eef4428",
   "metadata": {},
   "source": [
    "Next, we select only the winter values:"
   ]
  },
  {
   "cell_type": "code",
   "execution_count": null,
   "id": "16d3c7c8-e1e2-4706-8e6a-224e62c57d14",
   "metadata": {},
   "outputs": [],
   "source": [
    "t2m_anomaly_central_europe_winter_spatial_mean = t2m_anomaly_central_europe_seasonal_and_spatial_mean.sel(time=t2m_area_seasonal_spatial_mean[\"time.month\"] == int(12))"
   ]
  },
  {
   "cell_type": "markdown",
   "id": "e7d08f6f-a778-4467-8a90-f52502c736da",
   "metadata": {},
   "source": [
    "We can plot the result:"
   ]
  },
  {
   "cell_type": "code",
   "execution_count": null,
   "id": "d88c3241-b52f-4ee7-a482-9395d713838e",
   "metadata": {},
   "outputs": [],
   "source": [
    "plt.plot(t2m_area_winter_mean[\"time\"], t2m_area_winter_mean)\n",
    "plt.xlabel(\"Year\")\n",
    "plt.ylabel(\"Surface Temperature anomaly [C]\")\n",
    "plt.title(\"Mean Winter surface temperature anomaly in Central Europe\", size=10)\n",
    "plt.show()"
   ]
  }
 ],
 "metadata": {
  "kernelspec": {
   "display_name": "Python 3 (ipykernel)",
   "language": "python",
   "name": "python3"
  },
  "language_info": {
   "codemirror_mode": {
    "name": "ipython",
    "version": 3
   },
   "file_extension": ".py",
   "mimetype": "text/x-python",
   "name": "python",
   "nbconvert_exporter": "python",
   "pygments_lexer": "ipython3",
   "version": "3.11.6"
  }
 },
 "nbformat": 4,
 "nbformat_minor": 5
}
