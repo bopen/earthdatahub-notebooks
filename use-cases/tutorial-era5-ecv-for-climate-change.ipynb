{
 "cells": [
  {
   "cell_type": "markdown",
   "id": "262f270b-342e-4431-a411-e19bfd08bb34",
   "metadata": {},
   "source": [
    "First, let's import all the necessary dependencies."
   ]
  },
  {
   "cell_type": "code",
   "execution_count": null,
   "id": "d94bdb79-3c0d-4e40-afc5-4c689448814d",
   "metadata": {},
   "outputs": [],
   "source": [
    "from cartopy import crs, feature\n",
    "import display\n",
    "import matplotlib.pyplot as plt\n",
    "import xarray as xr"
   ]
  },
  {
   "cell_type": "markdown",
   "id": "5fc866af-2456-4baf-8e38-48cea522c9b7",
   "metadata": {
    "execution": {
     "iopub.execute_input": "2023-12-22T16:35:32.409196Z",
     "iopub.status.busy": "2023-12-22T16:35:32.327200Z",
     "iopub.status.idle": "2023-12-22T16:35:32.414639Z",
     "shell.execute_reply": "2023-12-22T16:35:32.413484Z",
     "shell.execute_reply.started": "2023-12-22T16:35:32.409155Z"
    }
   },
   "source": [
    "Let's define some configuration variables."
   ]
  },
  {
   "cell_type": "code",
   "execution_count": null,
   "id": "f7622503-68bb-46fa-9739-79ef5a2df27e",
   "metadata": {},
   "outputs": [],
   "source": [
    "AREA = {\"latitude\": slice(55, 45), \"longitude\": slice(2, 24)}\n",
    "DATASET = \"s3://hedp/era5/ecv-for-climate-change-1979-2023.zarr\"\n",
    "PROJECTION = crs.Miller()\n",
    "SEASON = \"12\""
   ]
  },
  {
   "cell_type": "markdown",
   "id": "1a7a6978-a9fa-4b13-a37f-4494a9dfe508",
   "metadata": {},
   "source": [
    "In the following lines we:\n",
    "- establish a connection with the remote dataset\n",
    "- show its metadata\n",
    "\n",
    "It is worth noticing that, in the first operation, only the information necessary to gather the dataset's metadata (e.g. its sizes, dimensions, variables' type and attributes) is actually downloaded from its remote location to the local machine."
   ]
  },
  {
   "cell_type": "code",
   "execution_count": null,
   "id": "ae7e877a-ab49-4280-8fdd-4aa40ca6a3d8",
   "metadata": {},
   "outputs": [],
   "source": [
    "ds = xr.open_dataset(DATASET, chunks={}, engine=\"zarr\").astype(\"float32\")\n",
    "ds"
   ]
  },
  {
   "cell_type": "markdown",
   "id": "8f60cdd9-01cc-4a68-ad6c-c7eb93d5ccb4",
   "metadata": {},
   "source": [
    "Here we want to compute the average anomaly of the 2-metre Temperature in Winter 2022 over Central Europe.\n",
    "\n",
    "Note that the operations prescribed in the following lines are actually performed, and the resulting data downloaded, only when the `.compute()` method is met. For this reason, as a general rule to maximize efficiency, the `compute()` method should be placed after an operation which significantly reduce the amount of data, such as after selection and reduction operations."
   ]
  },
  {
   "cell_type": "code",
   "execution_count": null,
   "id": "0209ab25-6c99-4cc5-9424-c3e3b4c4de99",
   "metadata": {},
   "outputs": [],
   "source": [
    "t2m = ds.t2m\n",
    "t2m_area = t2m.sel(**AREA)\n",
    "t2m_area_seasonal_mean = t2m_area.resample(time=\"QS-DEC\").mean(dim=\"time\")\n",
    "t2m_area_season_mean = t2m_area_seasonal_mean.sel(time=f\"2022-{SEASON}\")\n",
    "t2m_area_season_mean"
   ]
  },
  {
   "cell_type": "code",
   "execution_count": null,
   "id": "183a9afe-4b31-4c4f-a60f-df0479c7481c",
   "metadata": {},
   "outputs": [],
   "source": [
    "%%time\n",
    "%%capture\n",
    "\n",
    "t2m_area_season_mean = t2m_area_season_mean.compute()"
   ]
  },
  {
   "cell_type": "markdown",
   "id": "3f441f6c-5267-4ff8-a549-8bb3bde98b92",
   "metadata": {},
   "source": [
    "Let's plot the results on a map."
   ]
  },
  {
   "cell_type": "code",
   "execution_count": null,
   "id": "ba8c8148-0bc8-4c15-8b95-f2935a0f1d50",
   "metadata": {},
   "outputs": [],
   "source": [
    "_, ax = plt.subplots(\n",
    "    figsize=(6, 6),\n",
    "    subplot_kw={\"projection\": PROJECTION},\n",
    ")\n",
    "t2m_area_season_mean.plot(\n",
    "    ax=ax, \n",
    "    cmap=\"YlOrRd\", \n",
    "    transform=crs.PlateCarree(), \n",
    "    cbar_kwargs={\"orientation\": \"horizontal\", \"pad\": 0.05, \"aspect\": 40, \"label\": \"Surface Temperature anomaly [C]\"},\n",
    ")\n",
    "ax.coastlines()\n",
    "ax.add_feature(feature.BORDERS)\n",
    "ax.set_title(\"Surface Temperature anomaly - Winter 2022\")\n",
    "plt.show()"
   ]
  },
  {
   "cell_type": "markdown",
   "id": "64d37b18-ac56-455e-89a1-4a4c8e67bb36",
   "metadata": {},
   "source": [
    "Now, we want to compute the average 2-metre Temperature anomaly over Central Europe for each Winter in the available time range.\n",
    "\n",
    "The same considerations done before apply here."
   ]
  },
  {
   "cell_type": "code",
   "execution_count": null,
   "id": "7cec8215-c12f-498d-8eb3-2d1aef0ae7b0",
   "metadata": {},
   "outputs": [],
   "source": [
    "t2m = ds.t2m\n",
    "t2m_area = t2m.sel(**AREA)\n",
    "t2m_area_seasonal_spatial_mean = t2m_area.resample(time=\"QS-DEC\").mean(dim=[\"time\", \"latitude\", \"longitude\"])\n",
    "t2m_area_seasonal_spatial_mean"
   ]
  },
  {
   "cell_type": "code",
   "execution_count": null,
   "id": "16d3c7c8-e1e2-4706-8e6a-224e62c57d14",
   "metadata": {},
   "outputs": [],
   "source": [
    "%%time\n",
    "\n",
    "t2m_area_seasonal_spatial_mean = t2m_area_seasonal_spatial_mean.compute()\n",
    "t2m_area_winter_mean = t2m_area_seasonal_spatial_mean.sel(time=t2m_area_seasonal_spatial_mean[\"time.month\"] == int(SEASON))"
   ]
  },
  {
   "cell_type": "markdown",
   "id": "e7d08f6f-a778-4467-8a90-f52502c736da",
   "metadata": {},
   "source": [
    "Finally, let's plot the results on a time series."
   ]
  },
  {
   "cell_type": "code",
   "execution_count": null,
   "id": "d88c3241-b52f-4ee7-a482-9395d713838e",
   "metadata": {},
   "outputs": [],
   "source": [
    "plt.plot(t2m_area_winter_mean[\"time\"], t2m_area_winter_mean)\n",
    "plt.xlabel(\"Year\")\n",
    "plt.ylabel(\"Surface Temperature anomaly [C]\")\n",
    "plt.title(\"Mean Winter surface temperature anomaly in Central Europe\", size=10)\n",
    "plt.show()"
   ]
  }
 ],
 "metadata": {
  "kernelspec": {
   "display_name": "Python 3 (ipykernel)",
   "language": "python",
   "name": "python3"
  },
  "language_info": {
   "codemirror_mode": {
    "name": "ipython",
    "version": 3
   },
   "file_extension": ".py",
   "mimetype": "text/x-python",
   "name": "python",
   "nbconvert_exporter": "python",
   "pygments_lexer": "ipython3",
   "version": "3.11.7"
  }
 },
 "nbformat": 4,
 "nbformat_minor": 5
}
