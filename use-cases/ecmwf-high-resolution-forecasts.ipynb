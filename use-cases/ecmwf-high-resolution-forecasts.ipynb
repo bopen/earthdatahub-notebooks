{
 "cells": [
  {
   "cell_type": "code",
   "execution_count": null,
   "id": "d70915ce-b970-4647-a376-8d209fb9dcf1",
   "metadata": {},
   "outputs": [],
   "source": [
    "import xarray as xr"
   ]
  },
  {
   "cell_type": "code",
   "execution_count": null,
   "id": "9de8501c-82fe-4b4b-9b6a-5fcec39a50de",
   "metadata": {},
   "outputs": [],
   "source": [
    "import numpy as np\n",
    "import matplotlib.pyplot as plt"
   ]
  },
  {
   "cell_type": "code",
   "execution_count": null,
   "id": "004225f4-9756-4a9d-b373-f297a424aa81",
   "metadata": {},
   "outputs": [],
   "source": [
    "dataset = \"s3://hedp/ecmwf-forecasts/opendata-oper-20231016T00.zarr\""
   ]
  },
  {
   "cell_type": "code",
   "execution_count": null,
   "id": "f7744e7e-12ad-41f9-9972-2ea27b99fbf0",
   "metadata": {},
   "outputs": [],
   "source": [
    "location = {\"latitude\": 41.9, \"longitude\": 12.5}"
   ]
  },
  {
   "cell_type": "code",
   "execution_count": null,
   "id": "ac8816c2-685b-4370-80ad-2e0b40141b21",
   "metadata": {},
   "outputs": [],
   "source": [
    "ds = xr.open_dataset(dataset, chunks={}, engine=\"zarr\").astype(\"float32\")\n",
    "ds"
   ]
  },
  {
   "cell_type": "code",
   "execution_count": null,
   "id": "70676f29-13bb-43e3-91b7-8161e1edbf5c",
   "metadata": {},
   "outputs": [],
   "source": [
    "%%time\n",
    "\n",
    "t2m = ds[\"2t\"] - 273.15\n",
    "t2m[\"step\"] = t2m.step.astype('datetime64[ns]').astype('float64') / 1e9 / 3600\n",
    "t2m.attrs[\"units\"] = \"C\"\n",
    "t2m_location = t2m.sel(**location, method=\"nearest\").compute()"
   ]
  },
  {
   "cell_type": "code",
   "execution_count": null,
   "id": "6d75b12c-d46c-4a25-86ef-940c6264497d",
   "metadata": {},
   "outputs": [],
   "source": [
    "t2m_location.plot()\n",
    "plt.title(\"Surface Temperature forecast in Rome (IT)\")\n",
    "plt.ylabel(\"Surface Temperature [C]\")\n",
    "reference_time = np.datetime_as_string(t2m_location.time.values)\n",
    "plt.xlabel(f\"time since {reference_time[:-10]} [hr]\")\n",
    "plt.show()"
   ]
  }
 ],
 "metadata": {
  "kernelspec": {
   "display_name": "Python 3 (ipykernel)",
   "language": "python",
   "name": "python3"
  },
  "language_info": {
   "codemirror_mode": {
    "name": "ipython",
    "version": 3
   },
   "file_extension": ".py",
   "mimetype": "text/x-python",
   "name": "python",
   "nbconvert_exporter": "python",
   "pygments_lexer": "ipython3",
   "version": "3.11.6"
  }
 },
 "nbformat": 4,
 "nbformat_minor": 5
}
