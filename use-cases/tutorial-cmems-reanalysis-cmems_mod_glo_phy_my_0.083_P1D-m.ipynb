{
 "cells": [
  {
   "cell_type": "markdown",
   "id": "f185885a-7244-4fe6-9894-5d86952097c9",
   "metadata": {},
   "source": [
    "# How to work with CMEMS reanalysis on Earth Data Hub\n",
    "### Analysis of el Nino events"
   ]
  },
  {
   "cell_type": "markdown",
   "id": "2da89911-e501-4c9b-8ca9-daf58307df40",
   "metadata": {
    "execution": {
     "iopub.execute_input": "2024-01-05T16:27:30.942568Z",
     "iopub.status.busy": "2024-01-05T16:27:30.941820Z",
     "iopub.status.idle": "2024-01-05T16:27:30.953114Z",
     "shell.execute_reply": "2024-01-05T16:27:30.950996Z",
     "shell.execute_reply.started": "2024-01-05T16:27:30.942515Z"
    },
    "jp-MarkdownHeadingCollapsed": true
   },
   "source": [
    "***\n",
    "This notebook will provide you guidance on how to access and use the `cmems_mod_glo_phy_my_0.083_P1D-m.zarr` datset on Earth Data Hub.\n",
    "\n",
    "The first goal is to compute the average anomaly of the Sea Surface Height over the Pacific equator region during the 1997-1998 El Nino event. We will use the whole time range provided by the dataset as a reference period.\n",
    "\n",
    "The second goal is to highlight other occurences of El Nino in the available time span.\n",
    "***\n",
    "\n",
    "## What you will learn:\n",
    "\n",
    "* how to access and preview the dataset\n",
    "* select and reduce the data\n",
    "* plot the results"
   ]
  },
  {
   "cell_type": "markdown",
   "id": "46089bea-b63e-451b-9c62-be3538440cd5",
   "metadata": {
    "execution": {
     "iopub.execute_input": "2024-01-08T18:02:14.626875Z",
     "iopub.status.busy": "2024-01-08T18:02:14.608970Z",
     "iopub.status.idle": "2024-01-08T18:02:14.662440Z",
     "shell.execute_reply": "2024-01-08T18:02:14.644714Z",
     "shell.execute_reply.started": "2024-01-08T18:02:14.626767Z"
    }
   },
   "source": [
    "## Data access and preview\n",
    "***\n",
    "\n",
    "Xarray and Dask work together following a lazy principle. This means when you access and manipulate a Zarr store the data is in not immediately downloaded and loaded in memory. Instead, Dask constructs a task graph that represents the operations to be performed. A smart user will reduce the amount of data that needs to be downloaded before the computation takes place (e.g., when the `.compute()` or `.plot()` methods are called).\n",
    "\n",
    "To preview the data, only the dataset metadata must be downloaded. Xarray does this automatically:\n",
    "\n",
    "***"
   ]
  },
  {
   "cell_type": "code",
   "execution_count": null,
   "id": "464d7c28-f665-4c51-a4a6-219dcaaa0ce3",
   "metadata": {},
   "outputs": [],
   "source": [
    "import xarray as xr\n",
    "\n",
    "# your `~/.netrc` file MUST contain your credentials for earthdatahub.com\n",
    "#\n",
    "# machine earthdatahub.com\n",
    "#   login {your_username}\n",
    "#   password {your_password}\n",
    "\n",
    "ds = xr.open_dataset(\n",
    "    \"https://earthdatahub.com/stores/cmems-reanalysis/cmems_mod_glo_phy_my_0.083_P1D-m.zarr\",\n",
    "    chunks={},\n",
    "    engine=\"zarr\",\n",
    "    storage_options={\"client_kwargs\": {\"trust_env\": True}},\n",
    ")\n",
    "ds"
   ]
  },
  {
   "cell_type": "markdown",
   "id": "19baaf52-2132-40ae-a5b4-596c439be593",
   "metadata": {
    "jp-MarkdownHeadingCollapsed": true
   },
   "source": [
    "## Working with data\n",
    "\n",
    "Datasets on EDH are typically very large and remotely hosted. Typical use imply a selection of the data followed by one or more reduction steps to be performed in a local or distributed Dask environment. \n",
    "\n",
    "The structure of a workflow that uses EDH data looks like this:\n",
    "1. data selection\n",
    "2. (optional) data reduction\n",
    "3. (optional) visualization"
   ]
  },
  {
   "cell_type": "markdown",
   "id": "94463fdc-e3ba-4da0-ac7c-49abe102655a",
   "metadata": {},
   "source": [
    "## Sea Surface Height anomaly: 1997-1998 El Nino event"
   ]
  },
  {
   "cell_type": "markdown",
   "id": "c6c62f22-abe0-414b-b76a-850663785b5d",
   "metadata": {},
   "source": [
    "### 1. Data selection\n",
    "\n",
    "From the original dataset we extract the sea surface height (variable `zos`) and perform a geographical selection corresponding to the Pacific equator area. This greatly reduces the amount of data that will be downloaded from EDH."
   ]
  },
  {
   "cell_type": "code",
   "execution_count": null,
   "id": "4a00e9f1-9df0-4cce-8144-b40b8e1711e5",
   "metadata": {},
   "outputs": [],
   "source": [
    "zos_pacific_area = ds.zos.sel(**{\"latitude\": slice(-5, 5), \"longitude\": slice(-120, -80)})\n",
    "zos_pacific_area"
   ]
  },
  {
   "cell_type": "markdown",
   "id": "a77f23ef-f928-4e8b-b39a-60b067abd4b3",
   "metadata": {
    "execution": {
     "iopub.execute_input": "2024-01-12T16:15:36.087023Z",
     "iopub.status.busy": "2024-01-12T16:15:36.085688Z",
     "iopub.status.idle": "2024-01-12T16:15:36.103549Z",
     "shell.execute_reply": "2024-01-12T16:15:36.100839Z",
     "shell.execute_reply.started": "2024-01-12T16:15:36.086965Z"
    }
   },
   "source": [
    "!NB. At this point, no data has been downloaded yet, nor loaded in memory"
   ]
  },
  {
   "cell_type": "markdown",
   "id": "89e9f5e0-e6e2-4acc-9bd6-f110e3225a4b",
   "metadata": {
    "execution": {
     "iopub.execute_input": "2024-01-08T12:06:15.865654Z",
     "iopub.status.busy": "2024-01-08T12:06:15.865172Z",
     "iopub.status.idle": "2024-01-08T12:06:15.922646Z",
     "shell.execute_reply": "2024-01-08T12:06:15.913684Z",
     "shell.execute_reply.started": "2024-01-08T12:06:15.865616Z"
    }
   },
   "source": [
    "### 2. Data reduction\n",
    "\n",
    "We compute the mean sea surface height, in the Pacific area, over the reference period (1993-2020):"
   ]
  },
  {
   "cell_type": "code",
   "execution_count": null,
   "id": "fd14620c-f54d-4a97-9049-8c753ed87804",
   "metadata": {},
   "outputs": [],
   "source": [
    "zos_pacific_area_1993_2020_mean = zos_pacific_area.mean(dim=\"time\")"
   ]
  },
  {
   "cell_type": "markdown",
   "id": "61b914ed-f3a0-4696-9c39-49877c65d553",
   "metadata": {},
   "source": [
    "After that, we can compute the sea surface height anomaly in the same area.\n",
    "Calling `compute` on the result will trigger the download and computation.\n",
    "\n",
    "We can mesure the time it takes:"
   ]
  },
  {
   "cell_type": "code",
   "execution_count": null,
   "id": "880364f0-6026-4a1f-8e8f-7a25fd49aaad",
   "metadata": {},
   "outputs": [],
   "source": [
    "%%time\n",
    "\n",
    "zos_pacific_area_anomaly = zos_pacific_area - zos_pacific_area_1993_2020_mean\n",
    "zos_pacific_area_anomaly = zos_pacific_area_anomaly.compute()"
   ]
  },
  {
   "cell_type": "markdown",
   "id": "242265be-bb1c-473e-824a-b625d852e201",
   "metadata": {},
   "source": [
    "We further select only the time span realative to the El Nino event, and compute the sea surface height mean:"
   ]
  },
  {
   "cell_type": "code",
   "execution_count": null,
   "id": "d58403b3-90f0-4765-9520-494684268081",
   "metadata": {},
   "outputs": [],
   "source": [
    "zos_pacific_area_anomaly_1997_1998 = zos_pacific_area_anomaly.sel(time=slice(\"1997-04\", \"1998-04\"))\n",
    "zos_pacific_area_anomaly_1997_1998_mean = zos_pacific_area_anomaly_1997_1998.mean(dim=\"time\")\n",
    "zos_pacific_area_anomaly_1997_1998_mean"
   ]
  },
  {
   "cell_type": "markdown",
   "id": "f524e79f-31cd-436e-bfca-bf7b9bb4b54c",
   "metadata": {},
   "source": [
    "### 3. Visualization\n",
    "We can plot the mean sea surface height anomaly during the El Nino Event on a map."
   ]
  },
  {
   "cell_type": "code",
   "execution_count": null,
   "id": "7e21e731-818d-4862-ad26-9e18ea7ef3fb",
   "metadata": {},
   "outputs": [],
   "source": [
    "from cartopy import crs\n",
    "import display\n",
    "import matplotlib.pyplot as plt"
   ]
  },
  {
   "cell_type": "code",
   "execution_count": null,
   "id": "1f1282f4-a7ca-4517-8cb3-4fa2793f1e11",
   "metadata": {},
   "outputs": [],
   "source": [
    "_, ax = plt.subplots(\n",
    "    figsize=(10, 8),\n",
    "    subplot_kw={\"projection\":  crs.Miller()},\n",
    ")\n",
    "zos_pacific_area_anomaly_1997_1998_mean.plot(\n",
    "    ax=ax, \n",
    "    cmap=\"Blues\", \n",
    "    transform=crs.PlateCarree(), \n",
    "    cbar_kwargs={\"orientation\": \"horizontal\", \"pad\": 0.05, \"aspect\": 40, \"label\": \"Sea Surface Height anomaly [m]\"},\n",
    ")\n",
    "ax.coastlines()\n",
    "ax.set_title(\"El Nino event (1997-1998)\")\n",
    "plt.show()"
   ]
  },
  {
   "cell_type": "markdown",
   "id": "da9602eb-3025-49eb-922a-823ccddbe49f",
   "metadata": {},
   "source": [
    "## Other El Nino events"
   ]
  },
  {
   "cell_type": "markdown",
   "id": "ecbe2f4b-b96d-47af-bd2c-9ea51a08f480",
   "metadata": {},
   "source": [
    "We want to see if other El Nino events can be found in the dataset time span. To do so, we average the sea surface height anomaly by month. Then, we further reduce it in space and plot it as a timeseries."
   ]
  },
  {
   "cell_type": "code",
   "execution_count": null,
   "id": "64e43d20-5066-43b4-94ed-befc907c0e57",
   "metadata": {},
   "outputs": [],
   "source": [
    "zos_pacific_area_anomaly_monthly_mean = zos_pacific_area_anomaly.resample(time=\"1M\").mean()\n",
    "zos_pacific_area_anomaly_monthly_mean_spatial_mean = zos_pacific_area_anomaly_monthly_mean.mean(dim=[\"latitude\", \"longitude\"])\n",
    "zos_pacific_area_anomaly_monthly_mean_spatial_mean"
   ]
  },
  {
   "cell_type": "code",
   "execution_count": null,
   "id": "39d2ed48-42a0-4dff-bb66-3c77ebf33e25",
   "metadata": {},
   "outputs": [],
   "source": [
    "%%time\n",
    "\n",
    "plt.plot(zos_pacific_area_anomaly_monthly_mean_spatial_mean['time'], zos_pacific_area_anomaly_monthly_mean_spatial_mean)\n",
    "plt.xlabel('Year')\n",
    "plt.ylabel('Sea Surface Height anomaly [m]')\n",
    "plt.xticks(rotation=45)\n",
    "plt.show()"
   ]
  }
 ],
 "metadata": {
  "kernelspec": {
   "display_name": "Python 3 (ipykernel)",
   "language": "python",
   "name": "python3"
  },
  "language_info": {
   "codemirror_mode": {
    "name": "ipython",
    "version": 3
   },
   "file_extension": ".py",
   "mimetype": "text/x-python",
   "name": "python",
   "nbconvert_exporter": "python",
   "pygments_lexer": "ipython3",
   "version": "3.11.6"
  }
 },
 "nbformat": 4,
 "nbformat_minor": 5
}
