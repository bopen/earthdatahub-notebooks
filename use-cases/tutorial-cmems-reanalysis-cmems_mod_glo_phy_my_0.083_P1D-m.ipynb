{
 "cells": [
  {
   "cell_type": "markdown",
   "id": "ecfd87db-6460-4177-9805-bbffaef8b896",
   "metadata": {},
   "source": [
    "First, let's import all the necessary dependencies."
   ]
  },
  {
   "cell_type": "code",
   "execution_count": null,
   "id": "af690d90-34a1-4906-88af-38061fdbb22a",
   "metadata": {},
   "outputs": [],
   "source": [
    "import xarray as xr\n",
    "from cartopy import crs\n",
    "import display\n",
    "import matplotlib.pyplot as plt"
   ]
  },
  {
   "cell_type": "markdown",
   "id": "2f173b02-10d8-4c6c-8915-5fb6e40947eb",
   "metadata": {},
   "source": [
    "Let's define some configuration variables."
   ]
  },
  {
   "cell_type": "code",
   "execution_count": null,
   "id": "107beae7-ccda-40ce-90f8-4735aaae34c2",
   "metadata": {},
   "outputs": [],
   "source": [
    "PROJECTION = crs.Miller()\n",
    "AREA = {\"latitude\": slice(-5, 5), \"longitude\": slice(-120, -80)}\n",
    "TIME_RANGE = (\"1997-04\", \"1998-04\")\n",
    "DATASET_LOCATION = \"s3://cmems-reanalysis/cmems_mod_glo_phy_my_0.083_P1D-m.zarr\""
   ]
  },
  {
   "cell_type": "markdown",
   "id": "3ec91e53-9620-4327-88ff-774f80b56bbc",
   "metadata": {},
   "source": [
    "In the following lines we:\n",
    "- establish a connection with the remote dataset\n",
    "- show its metadata\n",
    "\n",
    "It is worth noticing that, in the first operation, only the information necessary to gather the dataset's metadata (e.g. its sizes, dimensions, variables' type and attributes) is actually downloaded from its remote location to the local machine."
   ]
  },
  {
   "cell_type": "code",
   "execution_count": null,
   "id": "464d7c28-f665-4c51-a4a6-219dcaaa0ce3",
   "metadata": {},
   "outputs": [],
   "source": [
    "ds = xr.open_dataset(DATASET_LOCATION, chunks={}, engine=\"zarr\").astype(\"float32\")\n",
    "ds"
   ]
  },
  {
   "cell_type": "markdown",
   "id": "54129689-2eef-4325-b58b-85818299f29a",
   "metadata": {},
   "source": [
    "Here we want to compute the average anomaly of the Sea Surface Height over a region of the Pacific Ocean during the 1997-1998 El Nino event, with respect to the whole time range available.\n",
    "\n",
    "Note that the operations prescribed in the following lines are actually performed, and the resulting data downloaded, only when the `.compute()` method is met. For this reason, as a general rule to maximize efficiency, the `compute()` method should be placed after an operation which significantly reduce the amount of data, such as after selection and reduction operations."
   ]
  },
  {
   "cell_type": "code",
   "execution_count": null,
   "id": "4a00e9f1-9df0-4cce-8144-b40b8e1711e5",
   "metadata": {},
   "outputs": [],
   "source": [
    "%%time\n",
    "\n",
    "zos = ds.zos\n",
    "zos_area = zos.sel(**AREA)\n",
    "zos_mean = zos_area.mean(dim=\"time\")\n",
    "zos_mean"
   ]
  },
  {
   "cell_type": "code",
   "execution_count": null,
   "id": "880364f0-6026-4a1f-8e8f-7a25fd49aaad",
   "metadata": {},
   "outputs": [],
   "source": [
    "zos_mean = zos_mean.compute()\n",
    "zos_anomaly = zos_area - zos_mean\n",
    "zos_anomaly_event = zos_anomaly.sel(time=slice(TIME_RANGE[0], TIME_RANGE[1]))\n",
    "zos_anomaly_event_mean = zos_anomaly_event.mean(dim=\"time\")"
   ]
  },
  {
   "cell_type": "markdown",
   "id": "c36be038-adf2-4a6f-974f-322eb9727461",
   "metadata": {},
   "source": [
    "Let's plot the results on map."
   ]
  },
  {
   "cell_type": "code",
   "execution_count": null,
   "id": "1f1282f4-a7ca-4517-8cb3-4fa2793f1e11",
   "metadata": {
    "scrolled": true
   },
   "outputs": [],
   "source": [
    "_, ax = plt.subplots(\n",
    "    figsize=(10, 8),\n",
    "    subplot_kw={\"projection\": PROJECTION},\n",
    ")\n",
    "zos_anomaly_event_mean.plot(\n",
    "    ax=ax, \n",
    "    cmap=\"Blues\", \n",
    "    transform=crs.PlateCarree(), \n",
    "    cbar_kwargs={\"orientation\": \"horizontal\", \"pad\": 0.05, \"aspect\": 40, \"label\": \"Sea Surface Height anomaly [m]\"},\n",
    ")\n",
    "ax.coastlines()\n",
    "ax.set_title(\"El Nino event (1997-1998)\")\n",
    "plt.show()"
   ]
  },
  {
   "cell_type": "markdown",
   "id": "ecbe2f4b-b96d-47af-bd2c-9ea51a08f480",
   "metadata": {},
   "source": [
    "Finally, we want to compute the average monthly Surface Height anomaly for all the covered time-range, in order to highlight all occurred El Nino events.\n",
    "\n",
    "The same considerations done before apply here."
   ]
  },
  {
   "cell_type": "code",
   "execution_count": null,
   "id": "64e43d20-5066-43b4-94ed-befc907c0e57",
   "metadata": {},
   "outputs": [],
   "source": [
    "zos = ds.zos\n",
    "zos_area = zos.sel(**AREA)\n",
    "zos_monthly = zos_area.resample(time=\"1M\").mean()\n",
    "zos_monthly_spatial_mean = zos_monthly.mean(dim=[\"latitude\", \"longitude\"])\n",
    "zos_monthly_spatial_mean"
   ]
  },
  {
   "cell_type": "code",
   "execution_count": null,
   "id": "bf8917a8-065a-4a1d-840b-0882be55e4e0",
   "metadata": {},
   "outputs": [],
   "source": [
    "%%time\n",
    "\n",
    "zos_monthly_spatial_mean = zos_monthly_spatial_mean.compute()\n",
    "zos_mean = zos_monthly_spatial_mean.mean()\n",
    "zos_anomaly = (zos_monthly_spatial_mean - zos_mean)"
   ]
  },
  {
   "cell_type": "markdown",
   "id": "bf58591f-09b9-4749-9360-977555dfd850",
   "metadata": {},
   "source": [
    "Let's plot the results as a time series."
   ]
  },
  {
   "cell_type": "code",
   "execution_count": null,
   "id": "39d2ed48-42a0-4dff-bb66-3c77ebf33e25",
   "metadata": {},
   "outputs": [],
   "source": [
    "plt.plot(zos_anomaly['time'], zos_anomaly)\n",
    "plt.xlabel('Year')\n",
    "plt.ylabel('Sea Surface Height anomaly [m]')\n",
    "plt.xticks(rotation=45)\n",
    "plt.show()"
   ]
  }
 ],
 "metadata": {
  "kernelspec": {
   "display_name": "Python 3 (ipykernel)",
   "language": "python",
   "name": "python3"
  },
  "language_info": {
   "codemirror_mode": {
    "name": "ipython",
    "version": 3
   },
   "file_extension": ".py",
   "mimetype": "text/x-python",
   "name": "python",
   "nbconvert_exporter": "python",
   "pygments_lexer": "ipython3",
   "version": "3.11.6"
  }
 },
 "nbformat": 4,
 "nbformat_minor": 5
}
