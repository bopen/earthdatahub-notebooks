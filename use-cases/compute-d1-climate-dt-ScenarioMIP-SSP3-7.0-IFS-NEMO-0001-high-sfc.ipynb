{
 "cells": [
  {
   "cell_type": "markdown",
   "id": "f86a0527-9195-422d-a44f-52bfb5be41ae",
   "metadata": {},
   "source": [
    "# How to work with Climate Adaptation Digital Twin data on Earth Data Hub: fields on a single level or surface, standard resolution"
   ]
  },
  {
   "cell_type": "markdown",
   "id": "9b670efa-1c68-4d9a-b6d1-d039ddd601b4",
   "metadata": {
    "execution": {
     "iopub.execute_input": "2024-01-05T16:27:30.942568Z",
     "iopub.status.busy": "2024-01-05T16:27:30.941820Z",
     "iopub.status.idle": "2024-01-05T16:27:30.953114Z",
     "shell.execute_reply": "2024-01-05T16:27:30.950996Z",
     "shell.execute_reply.started": "2024-01-05T16:27:30.942515Z"
    }
   },
   "source": [
    "***\n",
    "This notebook will provide you guidance on how to access and use the `SSP3-7.0-IFS-NEMO-0001-standard-sfc-v0.zarr` datset on Earth Data Hub. This is a sample dataset for the Destine Climate Adaptation Digital Twin, fields on a single level or surface, standard resolution.\n",
    "\n",
    "Our first goal is to plot the mean 2 metre temperature in January 2029 over Central Europe.\n",
    "\n",
    "Our second goal is to compute the 2 metre temperature climatology (monthly means and standard deviations) in Berlin for the 2020-2028 reference period.\n",
    "***\n",
    "\n",
    "## What you will learn:\n",
    "\n",
    "* how to access and preview the dataset\n",
    "* select and reduce the data\n",
    "* plot the results"
   ]
  },
  {
   "cell_type": "markdown",
   "id": "b7512123-c294-4034-aafc-6db973d8ff3a",
   "metadata": {},
   "source": [
    "## Setup distributed processing"
   ]
  },
  {
   "cell_type": "code",
   "execution_count": null,
   "id": "8406fcf7-b70b-4881-a902-0a3e04201331",
   "metadata": {},
   "outputs": [],
   "source": [
    "import distributed\n",
    "\n",
    "dask_client = distributed.Client(\"tcp://controller:8786\")\n",
    "dask_client"
   ]
  },
  {
   "cell_type": "markdown",
   "id": "662cfb99-a672-46f2-8345-3840eb39e8b0",
   "metadata": {
    "execution": {
     "iopub.execute_input": "2024-01-08T18:02:14.626875Z",
     "iopub.status.busy": "2024-01-08T18:02:14.608970Z",
     "iopub.status.idle": "2024-01-08T18:02:14.662440Z",
     "shell.execute_reply": "2024-01-08T18:02:14.644714Z",
     "shell.execute_reply.started": "2024-01-08T18:02:14.626767Z"
    }
   },
   "source": [
    "## Data access and preview\n",
    "***\n",
    "\n",
    "Xarray and Dask work together following a lazy principle. This means when you access and manipulate a Zarr store the data is in not immediately downloaded and loaded in memory. Instead, Dask constructs a task graph that represents the operations to be performed. A smart user will reduce the amount of data that needs to be downloaded before the computation takes place (e.g., when the `.compute()` or `.plot()` methods are called).\n",
    "\n",
    "To preview the data, only the dataset metadata must be downloaded. Xarray does this automatically:\n",
    "\n",
    "***"
   ]
  },
  {
   "cell_type": "code",
   "execution_count": null,
   "id": "69c8b47d-f097-405b-b8e5-e1e5b4d98c99",
   "metadata": {},
   "outputs": [],
   "source": [
    "import xarray as xr\n",
    "\n",
    "ds = xr.open_dataset(\n",
    "    \"https://bopen:edh_pat_ba2fd8913788600bfa1eded6aa161604ac6b915e58ee8499b94ce2e7a20a19db10aaff39b7f494c1e44fa1b1e86f3c18@data.earthdatahub.com/d1-climate-dt/ScenarioMIP-SSP3-7.0-IFS-NEMO-0001-high-sfc-v0.zarr\",\n",
    "    chunks={},\n",
    "    engine=\"zarr\",\n",
    ")\n",
    "ds"
   ]
  },
  {
   "cell_type": "code",
   "execution_count": null,
   "id": "2d853a0f-ff1e-4d2e-ac3e-a3499e204e7b",
   "metadata": {},
   "outputs": [],
   "source": [
    "t2m = (ds.t2m - 273.15).drop_vars([\"heightAboveGround\", \"surface\", \"step\"])\n",
    "t2m.attrs[\"units\"] = \"°C\"\n",
    "t2m.attrs[\"long_name\"] = \"temperature\"\n",
    "\n",
    "t2m"
   ]
  },
  {
   "cell_type": "code",
   "execution_count": null,
   "id": "87bba498-0b4a-49f7-9fd1-cf794364529a",
   "metadata": {},
   "outputs": [],
   "source": [
    "%config InlineBackend.figure_format='retina'\n",
    "\n",
    "import display\n",
    "import matplotlib.ticker\n",
    "\n",
    "ax = display.map(\n",
    "    t2m.sel(time=\"2020-02-15T12:00\")[::10, ::10],\n",
    "    vmax=45, vmin=-45, cmap=\"RdBu_r\",\n",
    "    figsize=(15, 6),\n",
    ")\n",
    "gl = ax.gridlines(linewidth=0.25, color='dimgrey', alpha=0.5)\n",
    "gl.xlocator = matplotlib.ticker.MultipleLocator(22.5)\n",
    "gl.ylocator = matplotlib.ticker.MultipleLocator(22.5)"
   ]
  },
  {
   "cell_type": "markdown",
   "id": "508e5996-704e-43be-a5a1-464a88a38177",
   "metadata": {},
   "source": [
    "# Working with data\n",
    "\n",
    "Datasets on EDH are typically very large and remotely hosted. Typical use imply a selection of the data followed by one or more reduction steps to be performed in a local or distributed Dask environment. \n",
    "\n",
    "The structure of a workflow that uses EDH data looks like this:\n",
    "1. data selection\n",
    "2. (optional) data reduction\n",
    "3. (optional) visualization"
   ]
  },
  {
   "cell_type": "markdown",
   "id": "7f4d3caf-3312-4e83-9355-faea354d63a8",
   "metadata": {},
   "source": [
    "## 2 metre temperature: average January 2029 in Germany"
   ]
  },
  {
   "cell_type": "markdown",
   "id": "997f033f-ea96-48ec-a443-1610ce184496",
   "metadata": {},
   "source": [
    "### 1. Data selection\n",
    "\n",
    "First, we perform a geographical selection corresponding to the Germany area. This greatly reduces the amount of data that will be downloaded from EDH. Also, we convert the temperature to `°C`."
   ]
  },
  {
   "cell_type": "code",
   "execution_count": null,
   "id": "afd7472f-7b61-4ab1-bbd7-20f018e9c611",
   "metadata": {},
   "outputs": [],
   "source": [
    "selection = {\"latitude\": slice(42, 56), \"longitude\": slice(0, 18)}\n",
    "extent = (0, 16, 42, 56)\n",
    "\n",
    "t2m_central_europe = t2m.sel(selection)\n",
    "t2m_central_europe"
   ]
  },
  {
   "cell_type": "markdown",
   "id": "237c1e13-90b2-4def-b73e-48fc472e9bef",
   "metadata": {
    "execution": {
     "iopub.execute_input": "2024-01-12T16:15:36.087023Z",
     "iopub.status.busy": "2024-01-12T16:15:36.085688Z",
     "iopub.status.idle": "2024-01-12T16:15:36.103549Z",
     "shell.execute_reply": "2024-01-12T16:15:36.100839Z",
     "shell.execute_reply.started": "2024-01-12T16:15:36.086965Z"
    }
   },
   "source": [
    "!NB: At this point, no data has been downloaded yet, nor loaded in memory.\n",
    "\n",
    "Second, we further select January 2029. This is again a lazy operation:"
   ]
  },
  {
   "cell_type": "code",
   "execution_count": null,
   "id": "aa04e338-8f21-4f17-9662-5733d7988e5c",
   "metadata": {},
   "outputs": [],
   "source": [
    "display.map(\n",
    "    t2m_central_europe.sel(time=\"2020-05-15T12:00\"),\n",
    "    vmax=40, vmin=-40, cmap=\"RdBu_r\",\n",
    "    figsize=(10, 6),\n",
    "    extent=extent,\n",
    ")"
   ]
  },
  {
   "cell_type": "code",
   "execution_count": null,
   "id": "743af46f-7af2-411a-98eb-6edf37b27408",
   "metadata": {},
   "outputs": [],
   "source": [
    "t2m_central_europe_daily = t2m_central_europe.resample(time=\"1D\").mean()\n",
    "t2m_central_europe_daily"
   ]
  },
  {
   "cell_type": "code",
   "execution_count": null,
   "id": "abf6c2cc-9159-43ce-adf2-7ad864f6f4ce",
   "metadata": {},
   "outputs": [],
   "source": [
    "t2m_central_europe_daily = t2m_central_europe_daily.compute()"
   ]
  },
  {
   "cell_type": "code",
   "execution_count": null,
   "id": "26378710-c570-4c4c-be16-7a375fee00ad",
   "metadata": {},
   "outputs": [],
   "source": [
    "import numpy as np\n",
    "hdd_daily = np.maximum((15.5 - t2m_central_europe_daily), 0)"
   ]
  },
  {
   "cell_type": "code",
   "execution_count": null,
   "id": "d354d35f-69ba-4985-893b-e35dc325b0c1",
   "metadata": {},
   "outputs": [],
   "source": [
    "hdd = hdd_daily.resample(time=\"1M\").mean()\n",
    "hdd"
   ]
  },
  {
   "cell_type": "code",
   "execution_count": null,
   "id": "b35b9612-871e-4f04-80eb-298f20de15d8",
   "metadata": {},
   "outputs": [],
   "source": [
    "display.map(\n",
    "    hdd.sel(time=\"2020-01\"),\n",
    "    vmax=25, vmin=0, cmap=\"Blues\",\n",
    "    figsize=(10, 6),\n",
    "    extent=extent,\n",
    ")"
   ]
  },
  {
   "cell_type": "code",
   "execution_count": null,
   "id": "2a470abc-7228-4f49-b403-637815db4d18",
   "metadata": {},
   "outputs": [],
   "source": [
    "display.map(\n",
    "    hdd.sel(time=\"2029-01\"),\n",
    "    vmax=25, vmin=0, cmap=\"Blues\",\n",
    "    figsize=(10, 6),\n",
    "    extent=extent,\n",
    ")"
   ]
  },
  {
   "cell_type": "code",
   "execution_count": null,
   "id": "bf4aae8c-c2db-485f-8d70-e2d36d2005c5",
   "metadata": {},
   "outputs": [],
   "source": [
    "_ = hdd.groupby(\"time.month\")[1].plot(col=\"time\", col_wrap=3, vmax=25, vmin=0, cmap=\"Blues\", add_colorbar=False)"
   ]
  },
  {
   "cell_type": "code",
   "execution_count": null,
   "id": "c5fc9b4b-2d13-46f6-958f-5056047a7f2f",
   "metadata": {},
   "outputs": [],
   "source": [
    "cdd_daily = np.maximum(t2m_central_europe_daily - 22, 0)"
   ]
  },
  {
   "cell_type": "code",
   "execution_count": null,
   "id": "9a238b87-7b1f-4f4b-afd6-71c3e600fa2f",
   "metadata": {},
   "outputs": [],
   "source": [
    "cdd = cdd_daily.resample(time=\"1M\").mean()\n",
    "cdd"
   ]
  },
  {
   "cell_type": "code",
   "execution_count": null,
   "id": "4e3c0d1e-da9c-40cd-ad5f-c966162bdd38",
   "metadata": {},
   "outputs": [],
   "source": [
    "display.map(\n",
    "    cdd.sel(time=\"2020-07\"),\n",
    "    vmax=8, vmin=0, cmap=\"Reds\",\n",
    "    figsize=(10, 6),\n",
    "    extent=(0, 16, 43, 56),\n",
    ")"
   ]
  },
  {
   "cell_type": "code",
   "execution_count": null,
   "id": "e8699256-0167-446f-97de-98b8359f3718",
   "metadata": {},
   "outputs": [],
   "source": [
    "display.map(\n",
    "    cdd.sel(time=\"2020-07\"),\n",
    "    vmax=8, vmin=0, cmap=\"Reds\",\n",
    "    figsize=(10, 6),\n",
    "    extent=(0, 16, 43, 56),\n",
    ")"
   ]
  },
  {
   "cell_type": "code",
   "execution_count": null,
   "id": "6bf976bc-652c-4c53-afc7-fbf0b122b311",
   "metadata": {},
   "outputs": [],
   "source": [
    "cdd.groupby(\"time.month\")[7].plot(col=\"time\", col_wrap=3, vmax=8, cmap=\"Reds\")"
   ]
  },
  {
   "cell_type": "markdown",
   "id": "95a92c0d-00bf-44b5-8c0b-794339c5fe66",
   "metadata": {},
   "source": [
    "At this point the selection is small enough to call `.compute()` on it. This will trigger the download of data from EDH and load it in memory. \n",
    "\n",
    "We can measure the time it takes:"
   ]
  },
  {
   "cell_type": "code",
   "execution_count": null,
   "id": "d825f6c6-2da8-430e-8f11-8d03a0d2a7a4",
   "metadata": {},
   "outputs": [],
   "source": [
    "%%time\n",
    "\n",
    "t2m_germany_area_january_2029 = t2m_germany_area_january_2029.compute()"
   ]
  },
  {
   "cell_type": "markdown",
   "id": "af8b152f-a3aa-4a97-8eef-5b58b251108a",
   "metadata": {},
   "source": [
    "The data was very small, this didn't take long."
   ]
  },
  {
   "cell_type": "markdown",
   "id": "1065287d-7151-4dce-99f4-4511b2786a67",
   "metadata": {
    "execution": {
     "iopub.execute_input": "2024-01-08T12:06:15.865654Z",
     "iopub.status.busy": "2024-01-08T12:06:15.865172Z",
     "iopub.status.idle": "2024-01-08T12:06:15.922646Z",
     "shell.execute_reply": "2024-01-08T12:06:15.913684Z",
     "shell.execute_reply.started": "2024-01-08T12:06:15.865616Z"
    }
   },
   "source": [
    "### 2. Data reduction\n",
    "\n",
    "Now that the data is loaded in memory, we can easily compute the october 2023 monthly mean:"
   ]
  },
  {
   "cell_type": "code",
   "execution_count": null,
   "id": "dad2b7ff-88b6-40d5-bba3-c559e58ecdbf",
   "metadata": {},
   "outputs": [],
   "source": [
    "t2m_germany_area_january_2029_monthly_mean = t2m_germany_area_january_2029.mean(dim=\"time\")\n",
    "t2m_germany_area_january_2029_monthly_mean"
   ]
  },
  {
   "cell_type": "markdown",
   "id": "3c8e064c-c111-4adb-a09f-f744bfb695e6",
   "metadata": {},
   "source": [
    "## 3. Visualization\n",
    "Finally, we can plot the january 2029 monthly mean on a map:"
   ]
  },
  {
   "cell_type": "code",
   "execution_count": null,
   "id": "e2f79322-8219-4b51-ba56-d37eb5028a44",
   "metadata": {},
   "outputs": [],
   "source": [
    "import display\n",
    "import matplotlib.pyplot as plt"
   ]
  },
  {
   "cell_type": "code",
   "execution_count": null,
   "id": "92b515ff-0820-4a92-b806-35c58235dab2",
   "metadata": {},
   "outputs": [],
   "source": [
    "display.map(t2m_germany_area_january_2029_monthly_mean, vmax=None, cmap=\"YlOrRd\", title=\"Mean Surface Temperature, Jan 2029\")"
   ]
  },
  {
   "cell_type": "markdown",
   "id": "315ab089-649d-429d-84a8-11224847265e",
   "metadata": {},
   "source": [
    "## 2020-2028 climatology"
   ]
  },
  {
   "cell_type": "markdown",
   "id": "a1e96eeb-9b63-44ab-828c-cfbf9f8b7d05",
   "metadata": {},
   "source": [
    "We will now compute the 2 metre temperature climatology (montly mean and standard deviation) in Berlin for the reference period 2020-2028.\n",
    "\n",
    "We first select the closet data to Berlin:"
   ]
  },
  {
   "cell_type": "code",
   "execution_count": null,
   "id": "d803a1ce-ef64-42e2-81bb-e66fb242a035",
   "metadata": {},
   "outputs": [],
   "source": [
    "%%time\n",
    "\n",
    "t2m_Berlin_2020_2028 = t2m.sel(**{\"latitude\": 52.5, \"longitude\": 13.4}, method=\"nearest\")\n",
    "t2m_Berlin_2020_2028"
   ]
  },
  {
   "cell_type": "markdown",
   "id": "4b9f2363-24a6-4b55-9e47-17ec2e41c3ff",
   "metadata": {},
   "source": [
    "This is already small enought to be computed:"
   ]
  },
  {
   "cell_type": "code",
   "execution_count": null,
   "id": "dfe4d12a-523a-486a-8ab0-8e3967898790",
   "metadata": {},
   "outputs": [],
   "source": [
    "%%time\n",
    "\n",
    "t2m_Berlin_2020_2028 = t2m_Berlin_2020_2028.compute()"
   ]
  },
  {
   "cell_type": "markdown",
   "id": "4e6e6ad1-ba0b-4689-ac95-55ac0106c274",
   "metadata": {},
   "source": [
    "Now that the data is loaded in memory we can easily compute the climatology:"
   ]
  },
  {
   "cell_type": "code",
   "execution_count": null,
   "id": "e6789d3c-25ce-4c2b-993b-cb12dbcad19c",
   "metadata": {},
   "outputs": [],
   "source": [
    "t2m_Berlin_climatology_mean = t2m_Berlin_2020_2028.groupby(\"time.month\").mean(dim=\"time\")\n",
    "t2m_Berlin_climatology_std = t2m_Berlin_2020_2028.groupby(\"time.month\").std(dim=\"time\")"
   ]
  },
  {
   "cell_type": "markdown",
   "id": "19a80626-ef11-48b1-a8ad-556ea1547ee7",
   "metadata": {},
   "source": [
    "We can finally plot the climatology in Berlin for the 2020-2028 refrence period"
   ]
  },
  {
   "cell_type": "code",
   "execution_count": null,
   "id": "6605298a-341c-477c-9f96-465999f78f3f",
   "metadata": {},
   "outputs": [],
   "source": [
    "plt.figure(figsize=(10, 5))\n",
    "t2m_Berlin_climatology_mean.plot(label=\"Mean\", color=\"#3498db\")\n",
    "plt.errorbar(\n",
    "    t2m_Berlin_climatology_mean.month, \n",
    "    t2m_Berlin_climatology_mean, \n",
    "    yerr=t2m_Berlin_climatology_std, \n",
    "    fmt=\"o\", \n",
    "    label=\"Standard Deviation\",\n",
    "    color=\"#a9a9a9\"\n",
    ")\n",
    "\n",
    "plt.title(\"Surface Temperature climatology in Berlin (DE), 2020-2028\")\n",
    "plt.xticks(t2m_Berlin_climatology_mean.month)\n",
    "plt.xlabel(\"Month\")\n",
    "plt.ylabel(\"Surface Temperature [C]\")\n",
    "plt.legend()\n",
    "plt.grid(alpha=0.3)\n",
    "plt.show()"
   ]
  },
  {
   "cell_type": "code",
   "execution_count": null,
   "id": "8a396e15-55a8-46e3-90d4-25e0bf19b192",
   "metadata": {},
   "outputs": [],
   "source": []
  },
  {
   "cell_type": "code",
   "execution_count": null,
   "id": "ce961403-63ba-4d42-befa-6c52b879da7f",
   "metadata": {},
   "outputs": [],
   "source": []
  }
 ],
 "metadata": {
  "kernelspec": {
   "display_name": "Python 3 (ipykernel)",
   "language": "python",
   "name": "python3"
  },
  "language_info": {
   "codemirror_mode": {
    "name": "ipython",
    "version": 3
   },
   "file_extension": ".py",
   "mimetype": "text/x-python",
   "name": "python",
   "nbconvert_exporter": "python",
   "pygments_lexer": "ipython3",
   "version": "3.11.9"
  }
 },
 "nbformat": 4,
 "nbformat_minor": 5
}
