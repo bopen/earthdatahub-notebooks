{
 "cells": [
  {
   "cell_type": "markdown",
   "id": "cb0337dc",
   "metadata": {},
   "source": [
    "# {{ title }}\n",
    "\n",
    "The [{{ dataset_name }}]({{ metadata_link }}) data set is created from the [Eurostat data]({{ eurostat_link }}). \n",
    "\n",
    "The Eurostat dataset was geoprocessed to rasterize and process the `dataset`."
   ]
  },
  {
   "cell_type": "markdown",
   "id": "a47f6880",
   "metadata": {},
   "source": [
    "The dataset can be easily integrated and visualized. For that the Python library `xarray` is used."
   ]
  },
  {
   "cell_type": "code",
   "execution_count": null,
   "id": "410d2c99",
   "metadata": {},
   "outputs": [],
   "source": [
    "import xarray as xr"
   ]
  },
  {
   "cell_type": "markdown",
   "id": "0c3739e0",
   "metadata": {},
   "source": [
    "The `dataset` is defined."
   ]
  },
  {
   "cell_type": "code",
   "execution_count": null,
   "id": "2e751313",
   "metadata": {},
   "outputs": [],
   "source": [
    "dataset = \"s3://eurostat/{{ dataset_zarr }}\""
   ]
  },
  {
   "cell_type": "markdown",
   "id": "e2d4a732",
   "metadata": {},
   "source": [
    "Then the data is read and the general dataset information is shown."
   ]
  },
  {
   "cell_type": "code",
   "execution_count": null,
   "id": "5df642cb",
   "metadata": {},
   "outputs": [],
   "source": [
    "\n",
    "ds = xr.open_dataset(\n",
    "    dataset,\n",
    "    engine=\"zarr\",\n",
    "    chunks={}\n",
    ")\n",
    "\n",
    "ds"
   ]
  },
  {
   "cell_type": "markdown",
   "id": "a3ea9573",
   "metadata": {},
   "source": [
    "Investigate the available date variables."
   ]
  },
  {
   "cell_type": "code",
   "execution_count": null,
   "id": "a5040adf",
   "metadata": {},
   "outputs": [],
   "source": [
    "for var in ds.data_vars:\n",
    "    if var != \"spatial_ref\":\n",
    "        print(f\"name: {var}\\ndescription: {ds[var].description}\\nunit: {ds[var].unit}\\n\")"
   ]
  },
  {
   "cell_type": "markdown",
   "id": "025e3e0c",
   "metadata": {},
   "source": [
    "One of the available data variabels is selected.\n",
    "`{{ dataset_var[0] }}` and `{{ dataset_var[1] }}` describes {{ dataset_var_desc }}."
   ]
  },
  {
   "cell_type": "code",
   "execution_count": null,
   "id": "49bdc8e2",
   "metadata": {},
   "outputs": [],
   "source": [
    "selected_data = {{ dataset_var }}"
   ]
  },
  {
   "cell_type": "markdown",
   "id": "9f33ad18",
   "metadata": {},
   "source": [
    "Define desired events and locations to visualize the selected data variable."
   ]
  },
  {
   "cell_type": "code",
   "execution_count": null,
   "id": "cfa55df1-064d-4ce6-ad5a-1d514d8a0ae4",
   "metadata": {},
   "outputs": [],
   "source": [
    "events = {\n",
    "    \"italy-rome\": {\n",
    "        \"area\": {\"lat\": slice(34, 48), \"lon\": slice(5, 20)},\n",
    "        \"location\": {\"lat\": 41.89, \"lon\": 12.51, \"method\": \"nearest\"},\n",
    "        \"time\": [\"2010-01-01\"],\n",
    "    },\n",
    "    \"spain-madrid\": {\n",
    "        \"area\": {\"lat\": slice(35, 44), \"lon\": slice(-10, 5)},\n",
    "        \"location\": {\"lat\": 40.42, \"lon\": -3.71, \"method\": \"nearest\"},\n",
    "        \"time\": [\"2010-01-01\"],\n",
    "    },\n",
    "    \"albania-tirana\": {\n",
    "        \"area\": {\"lat\": slice(39, 43), \"lon\": slice(19, 21)},\n",
    "        \"location\": {\"lat\": 41.33, \"lon\": 19.82, \"method\": \"nearest\"},\n",
    "        \"time\": [\"2010-01-01\"],\n",
    "    },\n",
    "    \"france-lyon\": {\n",
    "        \"area\": {\"lat\": slice(41, 51), \"lon\": slice(-5, 10)},\n",
    "        \"location\": {\"lat\": 45.76, \"lon\": 4.83, \"method\": \"nearest\"},\n",
    "        \"time\": [\"2010-01-01\"],\n",
    "    },\n",
    "}"
   ]
  },
  {
   "cell_type": "markdown",
   "id": "36bbd744",
   "metadata": {},
   "source": [
    "Select one of the defined events."
   ]
  },
  {
   "cell_type": "code",
   "execution_count": null,
   "id": "ee240e03",
   "metadata": {},
   "outputs": [],
   "source": [
    "selected_event = \"italy-rome\"\n",
    "\n",
    "area = events[selected_event][\"area\"]\n",
    "location = events[selected_event][\"location\"]\n",
    "time = events[selected_event][\"time\"]"
   ]
  },
  {
   "cell_type": "markdown",
   "id": "401d24ac",
   "metadata": {},
   "source": [
    "Visualize the first set time (`time[0]`) of the selected dataset. The plot is a map for one point in time."
   ]
  },
  {
   "cell_type": "code",
   "execution_count": null,
   "id": "1e6b27df",
   "metadata": {},
   "outputs": [],
   "source": [
    "_ = ds[selected_data[0]].sel(time=[time[0]]).plot()"
   ]
  },
  {
   "cell_type": "code",
   "execution_count": null,
   "id": "d9582098",
   "metadata": {},
   "outputs": [],
   "source": [
    "_ = ds[selected_data[1]].sel(time=[time[0]]).plot()"
   ]
  },
  {
   "cell_type": "markdown",
   "id": "549380b0",
   "metadata": {},
   "source": [
    "Specifing the time and narrowing down the selected area."
   ]
  },
  {
   "cell_type": "code",
   "execution_count": null,
   "id": "7d105ab0",
   "metadata": {},
   "outputs": [],
   "source": [
    "ds_event_0 = ds[selected_data[0]].sel(**area).sel(time=time)\n",
    "ds_event_0"
   ]
  },
  {
   "cell_type": "code",
   "execution_count": null,
   "id": "b318aad5",
   "metadata": {},
   "outputs": [],
   "source": [
    "ds_event_1 = ds[selected_data[1]].sel(**area).sel(time=time)\n",
    "ds_event_1"
   ]
  },
  {
   "cell_type": "markdown",
   "id": "d8e6afa5",
   "metadata": {},
   "source": [
    "Visualize the event snippet of the dataset. The plot is a map for one point in time."
   ]
  },
  {
   "cell_type": "code",
   "execution_count": null,
   "id": "bb30297f",
   "metadata": {},
   "outputs": [],
   "source": [
    "_ = ds_event_0.sel(time=[time[0]]).plot()"
   ]
  },
  {
   "cell_type": "code",
   "execution_count": null,
   "id": "85b2c097",
   "metadata": {},
   "outputs": [],
   "source": [
    "_ = ds_event_1.sel(time=[time[0]]).plot()"
   ]
  },
  {
   "cell_type": "markdown",
   "id": "174c02dc",
   "metadata": {},
   "source": [
    "The dataset can also be plotted as a time series for one selected location."
   ]
  },
  {
   "cell_type": "code",
   "execution_count": null,
   "id": "183cb0d0",
   "metadata": {},
   "outputs": [],
   "source": [
    "_ = ds.sel(**location)[selected_data[0]].plot()"
   ]
  },
  {
   "cell_type": "code",
   "execution_count": null,
   "id": "224beb90",
   "metadata": {},
   "outputs": [],
   "source": [
    "_ = ds.sel(**location)[selected_data[1]].plot()"
   ]
  }
 ],
 "metadata": {
  "kernelspec": {
   "display_name": "Python 3 (ipykernel)",
   "language": "python",
   "name": "python3"
  },
  "language_info": {
   "codemirror_mode": {
    "name": "ipython",
    "version": 3
   },
   "file_extension": ".py",
   "mimetype": "text/x-python",
   "name": "python",
   "nbconvert_exporter": "python",
   "pygments_lexer": "ipython3",
   "version": "3.10.12"
  }
 },
 "nbformat": 4,
 "nbformat_minor": 5
}
